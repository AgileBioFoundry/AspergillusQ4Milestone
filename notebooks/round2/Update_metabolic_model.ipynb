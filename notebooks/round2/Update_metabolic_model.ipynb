{
 "cells": [
  {
   "cell_type": "markdown",
   "id": "12833ac6",
   "metadata": {},
   "source": [
    "## Add ethanol, erythritol, and citric acid secretion to the reducde model"
   ]
  },
  {
   "cell_type": "code",
   "execution_count": 1,
   "id": "cdfae5f8",
   "metadata": {},
   "outputs": [],
   "source": [
    "import pandas as pd\n",
    "import cobra"
   ]
  },
  {
   "cell_type": "code",
   "execution_count": 3,
   "id": "1f1d9d06",
   "metadata": {},
   "outputs": [],
   "source": [
    "reduced_model = cobra.io.load_json_model('../../models/iJB1325_HP.nonnative_genes.pubchem.flipped.nonzero.reduced.json')\n",
    "model = cobra.io.load_json_model('../../models/iJB1325_HP.json')"
   ]
  },
  {
   "cell_type": "code",
   "execution_count": 4,
   "id": "8bb871bd",
   "metadata": {},
   "outputs": [
    {
     "data": {
      "text/plain": [
       "[<Reaction BOUNDARY_ACe at 0x7fcd9ab85940>,\n",
       " <Reaction BOUNDARY_CO2e at 0x7fcd9ab85748>,\n",
       " <Reaction BOUNDARY_FORe at 0x7fcd9ab85c18>,\n",
       " <Reaction BOUNDARY_GLCe at 0x7fcd9ab85f60>,\n",
       " <Reaction BOUNDARY_GLCNTe at 0x7fcd9ab85f98>,\n",
       " <Reaction BOUNDARY_He at 0x7fcd9ab85dd8>,\n",
       " <Reaction BOUNDARY_H2Oe at 0x7fcd9ab85a20>,\n",
       " <Reaction BOUNDARY_HNO3e at 0x7fcd9ab85668>,\n",
       " <Reaction BOUNDARY_O2e at 0x7fcd9ab850f0>,\n",
       " <Reaction BOUNDARY_TARe at 0x7fcd9ab7f0f0>,\n",
       " <Reaction BOUNDARY_SMPYRKe at 0x7fcd9ab3dfd0>,\n",
       " <Reaction EX_3hpp_e at 0x7fcd9ab259b0>]"
      ]
     },
     "execution_count": 4,
     "metadata": {},
     "output_type": "execute_result"
    }
   ],
   "source": [
    "reduced_model.boundary"
   ]
  },
  {
   "cell_type": "code",
   "execution_count": 13,
   "id": "9f9219ec",
   "metadata": {},
   "outputs": [
    {
     "name": "stdout",
     "output_type": "stream",
     "text": [
      "CIT Citrate\n",
      "CITe Citrate (extracellular)\n",
      "CITm Citrate (mitochondrial)\n",
      "EOL Erythritol\n",
      "EOLe Erythritol (extracellular)\n",
      "ETH Ethanol\n",
      "ETHe Ethanol (extracellular)\n",
      "ETHm Ethanol (mitochondrial)\n",
      "ETAMe Ethanolamine\n"
     ]
    }
   ],
   "source": [
    "for m in model.metabolites:\n",
    "    if any(x in m.name for x in ['Ethanol','Erythritol','Citrate']):\n",
    "        print(m, m.name)"
   ]
  },
  {
   "cell_type": "code",
   "execution_count": 15,
   "id": "8ecdc579",
   "metadata": {},
   "outputs": [
    {
     "name": "stdout",
     "output_type": "stream",
     "text": [
      "ETH\n",
      "ETHm\n"
     ]
    }
   ],
   "source": [
    "for x in ['ETH','EOL','CIT','ETHm','CITm','ETHe','EOLe','CITe']:\n",
    "    if x in reduced_model.metabolites:\n",
    "        print(model.metabolites.get_by_id(x))"
   ]
  },
  {
   "cell_type": "markdown",
   "id": "3ec910fb",
   "metadata": {},
   "source": [
    "### Add ethanol secretion"
   ]
  },
  {
   "cell_type": "code",
   "execution_count": 23,
   "id": "0c0fbe23",
   "metadata": {},
   "outputs": [
    {
     "name": "stdout",
     "output_type": "stream",
     "text": [
      "r1071: ETHe <=> ETH \n",
      "r1149: ETHm <=> ETH \n",
      "r113a: ETH + NAD <=> ACAL + NADH 1145644 or 1151044 or 1118068 or 1082822 or 1106057 or 1121815 or 1153588 or 1187201 or 1189342 or 1180995 or 1187871 or 1183555 or 1082059 or 1149680 or 42017 or 1176225 or 1124003 or 1176774\n",
      "r1148: ACAL <=> ACALm \n",
      "r113a: ETH + NAD <=> ACAL + NADH 1145644 or 1151044 or 1118068 or 1082822 or 1106057 or 1121815 or 1153588 or 1187201 or 1189342 or 1180995 or 1187871 or 1183555 or 1082059 or 1149680 or 42017 or 1176225 or 1124003 or 1176774\n"
     ]
    }
   ],
   "source": [
    "for x in ['ETH','ACAL']:\n",
    "    for r in reduced_model.metabolites.get_by_id(x).reactions:\n",
    "        print(r, r.gene_reaction_rule)"
   ]
  },
  {
   "cell_type": "code",
   "execution_count": 24,
   "id": "546d6e4d",
   "metadata": {},
   "outputs": [
    {
     "name": "stdout",
     "output_type": "stream",
     "text": [
      "r1071: ETHe <=> ETH \n",
      "BOUNDARY_ETHe: ETHe -->  \n",
      "r2359: H2Oe + URETAe --> CO2e + ETHe + NH3e \n",
      "r1149: ETH <=> ETHm \n",
      "r1071: ETHe <=> ETH \n",
      "r113a: ETH + NAD <=> ACAL + NADH 1145644 or 1151044 or 1118068 or 1082822 or 1106057 or 1121815 or 1153588 or 1187201 or 1189342 or 1180995 or 1187871 or 1183555 or 1082059 or 1149680 or 42017 or 1176225 or 1124003 or 1176774\n",
      "r2360: ETHSA + NADPH + O2 --> ACAL + H2O + H2SO3 + NADP 1153641\n",
      "r2010: NAD + NADPH + O2 + SMAZAC --> ACAL + H2O + NADH + NADP + SMAZAA 1080431 and 1114932\n",
      "r115a: ACAL + H2O + NAD --> AC + NADH 1148469 or 1126514 or 1169517 or 1123538 or 1155201\n",
      "r113a: ETH + NAD <=> ACAL + NADH 1145644 or 1151044 or 1118068 or 1082822 or 1106057 or 1121815 or 1153588 or 1187201 or 1189342 or 1180995 or 1187871 or 1183555 or 1082059 or 1149680 or 42017 or 1176225 or 1124003 or 1176774\n",
      "r1148: ACAL <=> ACALm \n",
      "r301: ACAL + GLY <=> THR 1120654 or 1210554\n",
      "r1070: ACALe <=> ACAL \n",
      "r58a: PYR --> ACAL + CO2 1088723 or 1131969 or 1114868\n"
     ]
    }
   ],
   "source": [
    "for x in ['ETHe','ETH','ACAL']:\n",
    "    for r in model.metabolites.get_by_id(x).reactions:\n",
    "        print(r, r.gene_reaction_rule)"
   ]
  },
  {
   "cell_type": "code",
   "execution_count": 25,
   "id": "07f74c95",
   "metadata": {},
   "outputs": [],
   "source": [
    "reduced_model.add_reactions([model.reactions.get_by_id(x) for x in ['r58a','r1071','BOUNDARY_ETHe']])"
   ]
  },
  {
   "cell_type": "code",
   "execution_count": 26,
   "id": "7c8bcd46",
   "metadata": {
    "scrolled": true
   },
   "outputs": [
    {
     "data": {
      "text/html": [
       "<h3>Objective</h3><p>1.0 BOUNDARY_ETHe = 1000.0</p><h4>Uptake</h4><table border=\"1\" class=\"dataframe\">\n",
       "  <thead>\n",
       "    <tr style=\"text-align: right;\">\n",
       "      <th>Metabolite</th>\n",
       "      <th>Reaction</th>\n",
       "      <th>Flux</th>\n",
       "      <th>C-Number</th>\n",
       "      <th>C-Flux</th>\n",
       "    </tr>\n",
       "  </thead>\n",
       "  <tbody>\n",
       "    <tr>\n",
       "      <td>GLCe</td>\n",
       "      <td>BOUNDARY_GLCe</td>\n",
       "      <td>805.6</td>\n",
       "      <td>6</td>\n",
       "      <td>100.00%</td>\n",
       "    </tr>\n",
       "    <tr>\n",
       "      <td>H2Oe</td>\n",
       "      <td>BOUNDARY_H2Oe</td>\n",
       "      <td>166.7</td>\n",
       "      <td>0</td>\n",
       "      <td>0.00%</td>\n",
       "    </tr>\n",
       "    <tr>\n",
       "      <td>O2e</td>\n",
       "      <td>BOUNDARY_O2e</td>\n",
       "      <td>500</td>\n",
       "      <td>0</td>\n",
       "      <td>0.00%</td>\n",
       "    </tr>\n",
       "  </tbody>\n",
       "</table><h4>Secretion</h4><table border=\"1\" class=\"dataframe\">\n",
       "  <thead>\n",
       "    <tr style=\"text-align: right;\">\n",
       "      <th>Metabolite</th>\n",
       "      <th>Reaction</th>\n",
       "      <th>Flux</th>\n",
       "      <th>C-Number</th>\n",
       "      <th>C-Flux</th>\n",
       "    </tr>\n",
       "  </thead>\n",
       "  <tbody>\n",
       "    <tr>\n",
       "      <td>CO2e</td>\n",
       "      <td>BOUNDARY_CO2e</td>\n",
       "      <td>-1000</td>\n",
       "      <td>1</td>\n",
       "      <td>20.69%</td>\n",
       "    </tr>\n",
       "    <tr>\n",
       "      <td>ETHe</td>\n",
       "      <td>BOUNDARY_ETHe</td>\n",
       "      <td>-1000</td>\n",
       "      <td>2</td>\n",
       "      <td>41.38%</td>\n",
       "    </tr>\n",
       "    <tr>\n",
       "      <td>FORe</td>\n",
       "      <td>BOUNDARY_FORe</td>\n",
       "      <td>-500</td>\n",
       "      <td>1</td>\n",
       "      <td>10.34%</td>\n",
       "    </tr>\n",
       "    <tr>\n",
       "      <td>He</td>\n",
       "      <td>BOUNDARY_He</td>\n",
       "      <td>-500</td>\n",
       "      <td>0</td>\n",
       "      <td>0.00%</td>\n",
       "    </tr>\n",
       "    <tr>\n",
       "      <td>TARe</td>\n",
       "      <td>BOUNDARY_TARe</td>\n",
       "      <td>-333.3</td>\n",
       "      <td>4</td>\n",
       "      <td>27.59%</td>\n",
       "    </tr>\n",
       "  </tbody>\n",
       "</table>"
      ],
      "text/plain": [
       "<cobra.summary.model_summary.ModelSummary at 0x7fcd9b1516a0>"
      ]
     },
     "metadata": {},
     "output_type": "display_data"
    }
   ],
   "source": [
    "with reduced_model:\n",
    "    reduced_model.objective = 'BOUNDARY_ETHe'\n",
    "    display(reduced_model.summary())"
   ]
  },
  {
   "cell_type": "markdown",
   "id": "0702fa03",
   "metadata": {},
   "source": [
    "### Add erythritol secretion"
   ]
  },
  {
   "cell_type": "code",
   "execution_count": 27,
   "id": "0b97a03b",
   "metadata": {},
   "outputs": [
    {
     "name": "stdout",
     "output_type": "stream",
     "text": [
      "r1061: EOLe <=> EOL \n",
      "r141: EOL + NAD <=> EU + NADH \n",
      "r136: E + NADPH <=> EOL + NADP 1101910 or 1127368\n",
      "Pool: 0.01 AOL + 0.013 CIT + 0.3 EOL + 7e-05 FUM + 0.46 GL + 0.00039 ICIT + 0.00065 MAL + 0.18 MNT + 0.0017 NAD + 0.00018 NADH + 0.00014 NADP + 8e-05 NADPH + 0.00091 SUCC + 0.04 TRE --> POOL \n",
      "BOUNDARY_EOLe: EOLe -->  \n",
      "r1061: EOLe <=> EOL \n"
     ]
    }
   ],
   "source": [
    "for x in ['EOL','EOLe']:\n",
    "    for r in model.metabolites.get_by_id(x).reactions:\n",
    "        print(r, r.gene_reaction_rule)"
   ]
  },
  {
   "cell_type": "code",
   "execution_count": 17,
   "id": "c3132fe3",
   "metadata": {},
   "outputs": [
    {
     "name": "stdout",
     "output_type": "stream",
     "text": [
      "r1061: EOLe <=> EOL \n",
      "r141: EOL + NAD <=> EU + NADH \n",
      "r136: E + NADPH <=> EOL + NADP 1101910 or 1127368\n",
      "Pool: 0.01 AOL + 0.013 CIT + 0.3 EOL + 7e-05 FUM + 0.46 GL + 0.00039 ICIT + 0.00065 MAL + 0.18 MNT + 0.0017 NAD + 0.00018 NADH + 0.00014 NADP + 8e-05 NADPH + 0.00091 SUCC + 0.04 TRE --> POOL \n",
      "r141: EOL + NAD <=> EU + NADH \n",
      "r1060: EUe <=> EU \n",
      "r142: ATP + EU --> ADP + EU1P 1080611\n",
      "r1062: Ee <=> E \n",
      "r2611: E4P + H2O --> E + PI \n",
      "r136: E + NADPH <=> EOL + NADP 1101910 or 1127368\n"
     ]
    }
   ],
   "source": [
    "for x in ['EOL','EU','E']:\n",
    "    for r in model.metabolites.get_by_id(x).reactions:\n",
    "        print(r, r.gene_reaction_rule)"
   ]
  },
  {
   "cell_type": "code",
   "execution_count": 29,
   "id": "6fb57de8",
   "metadata": {},
   "outputs": [],
   "source": [
    "reduced_model.add_reactions([model.reactions.get_by_id(x) for x in ['r2611','r136','r1061','BOUNDARY_EOLe']])"
   ]
  },
  {
   "cell_type": "code",
   "execution_count": 30,
   "id": "5b82c714",
   "metadata": {
    "scrolled": true
   },
   "outputs": [
    {
     "data": {
      "text/html": [
       "<h3>Objective</h3><p>1.0 BOUNDARY_EOLe = 1000.0</p><h4>Uptake</h4><table border=\"1\" class=\"dataframe\">\n",
       "  <thead>\n",
       "    <tr style=\"text-align: right;\">\n",
       "      <th>Metabolite</th>\n",
       "      <th>Reaction</th>\n",
       "      <th>Flux</th>\n",
       "      <th>C-Number</th>\n",
       "      <th>C-Flux</th>\n",
       "    </tr>\n",
       "  </thead>\n",
       "  <tbody>\n",
       "    <tr>\n",
       "      <td>GLCe</td>\n",
       "      <td>BOUNDARY_GLCe</td>\n",
       "      <td>1000</td>\n",
       "      <td>6</td>\n",
       "      <td>100.00%</td>\n",
       "    </tr>\n",
       "    <tr>\n",
       "      <td>H2Oe</td>\n",
       "      <td>BOUNDARY_H2Oe</td>\n",
       "      <td>443.4</td>\n",
       "      <td>0</td>\n",
       "      <td>0.00%</td>\n",
       "    </tr>\n",
       "    <tr>\n",
       "      <td>O2e</td>\n",
       "      <td>BOUNDARY_O2e</td>\n",
       "      <td>56.59</td>\n",
       "      <td>0</td>\n",
       "      <td>0.00%</td>\n",
       "    </tr>\n",
       "  </tbody>\n",
       "</table><h4>Secretion</h4><table border=\"1\" class=\"dataframe\">\n",
       "  <thead>\n",
       "    <tr style=\"text-align: right;\">\n",
       "      <th>Metabolite</th>\n",
       "      <th>Reaction</th>\n",
       "      <th>Flux</th>\n",
       "      <th>C-Number</th>\n",
       "      <th>C-Flux</th>\n",
       "    </tr>\n",
       "  </thead>\n",
       "  <tbody>\n",
       "    <tr>\n",
       "      <td>ACe</td>\n",
       "      <td>BOUNDARY_ACe</td>\n",
       "      <td>-721.7</td>\n",
       "      <td>2</td>\n",
       "      <td>24.06%</td>\n",
       "    </tr>\n",
       "    <tr>\n",
       "      <td>CO2e</td>\n",
       "      <td>BOUNDARY_CO2e</td>\n",
       "      <td>-556.6</td>\n",
       "      <td>1</td>\n",
       "      <td>9.28%</td>\n",
       "    </tr>\n",
       "    <tr>\n",
       "      <td>EOLe</td>\n",
       "      <td>BOUNDARY_EOLe</td>\n",
       "      <td>-1000</td>\n",
       "      <td>4</td>\n",
       "      <td>66.67%</td>\n",
       "    </tr>\n",
       "  </tbody>\n",
       "</table>"
      ],
      "text/plain": [
       "<cobra.summary.model_summary.ModelSummary at 0x7fcd9e1df1d0>"
      ]
     },
     "metadata": {},
     "output_type": "display_data"
    }
   ],
   "source": [
    "with reduced_model:\n",
    "    reduced_model.objective = 'BOUNDARY_EOLe'\n",
    "    display(reduced_model.summary())"
   ]
  },
  {
   "cell_type": "markdown",
   "id": "430a172a",
   "metadata": {},
   "source": [
    "### Add citric acid secretion"
   ]
  },
  {
   "cell_type": "code",
   "execution_count": 33,
   "id": "69e82e1a",
   "metadata": {},
   "outputs": [
    {
     "name": "stdout",
     "output_type": "stream",
     "text": [
      "r31: ACCOA + H2O + OA --> CIT + COA 1114699\n",
      "r1169: CITm + MAL --> CIT + MALm 1179216 or 1179236\n",
      "Pool: 0.01 AOL + 0.013 CIT + 0.3 EOL + 7e-05 FUM + 0.46 GL + 0.00039 ICIT + 0.00065 MAL + 0.18 MNT + 0.0017 NAD + 0.00018 NADH + 0.00014 NADP + 8e-05 NADPH + 0.00091 SUCC + 0.04 TRE --> POOL \n",
      "r32c: CIT <=> ACO + H2O \n",
      "r50a: ATP + CIT + COA --> ACCOA + ADP + OA + PI 1147138 and 1111634\n",
      "r1134: CITe <=> CIT \n",
      "r1169: CITm + MAL --> CIT + MALm 1179216 or 1179236\n",
      "r37: CITm --> ACm + OAm 1117686\n",
      "r31a: ACCOAm + H2Om + OAm --> CITm + COAm 1141647 or 1143782\n",
      "r50ma: ATPm + CITm + COAm --> ACCOAm + ADPm + OAm + PIm \n",
      "r32a: CITm <=> ACOm + H2Om 1148603 or 1175567 or 1218960 or 1181034\n",
      "BOUNDARY_CITe: CITe -->  \n",
      "r1134: CITe <=> CIT \n"
     ]
    }
   ],
   "source": [
    "for x in ['CIT','CITm','CITe']:\n",
    "    for r in model.metabolites.get_by_id(x).reactions:\n",
    "        print(r, r.gene_reaction_rule)"
   ]
  },
  {
   "cell_type": "code",
   "execution_count": 36,
   "id": "63d0ccd8",
   "metadata": {},
   "outputs": [],
   "source": [
    "reduced_model.add_reactions([model.reactions.get_by_id(x) for x in ['r31a','r1169','r1134','BOUNDARY_CITe']])"
   ]
  },
  {
   "cell_type": "code",
   "execution_count": 57,
   "id": "b9822d9f",
   "metadata": {
    "scrolled": true
   },
   "outputs": [
    {
     "data": {
      "text/html": [
       "<h3>Objective</h3><p>1.0 BOUNDARY_CITe = 963.3088715757729</p><h4>Uptake</h4><table border=\"1\" class=\"dataframe\">\n",
       "  <thead>\n",
       "    <tr style=\"text-align: right;\">\n",
       "      <th>Metabolite</th>\n",
       "      <th>Reaction</th>\n",
       "      <th>Flux</th>\n",
       "      <th>C-Number</th>\n",
       "      <th>C-Flux</th>\n",
       "    </tr>\n",
       "  </thead>\n",
       "  <tbody>\n",
       "    <tr>\n",
       "      <td>GLCe</td>\n",
       "      <td>BOUNDARY_GLCe</td>\n",
       "      <td>1000</td>\n",
       "      <td>6</td>\n",
       "      <td>100.00%</td>\n",
       "    </tr>\n",
       "    <tr>\n",
       "      <td>O2e</td>\n",
       "      <td>BOUNDARY_O2e</td>\n",
       "      <td>1000</td>\n",
       "      <td>0</td>\n",
       "      <td>0.00%</td>\n",
       "    </tr>\n",
       "  </tbody>\n",
       "</table><h4>Secretion</h4><table border=\"1\" class=\"dataframe\">\n",
       "  <thead>\n",
       "    <tr style=\"text-align: right;\">\n",
       "      <th>Metabolite</th>\n",
       "      <th>Reaction</th>\n",
       "      <th>Flux</th>\n",
       "      <th>C-Number</th>\n",
       "      <th>C-Flux</th>\n",
       "    </tr>\n",
       "  </thead>\n",
       "  <tbody>\n",
       "    <tr>\n",
       "      <td>CITe</td>\n",
       "      <td>BOUNDARY_CITe</td>\n",
       "      <td>-963.3</td>\n",
       "      <td>6</td>\n",
       "      <td>96.33%</td>\n",
       "    </tr>\n",
       "    <tr>\n",
       "      <td>EOLe</td>\n",
       "      <td>BOUNDARY_EOLe</td>\n",
       "      <td>-1</td>\n",
       "      <td>4</td>\n",
       "      <td>0.07%</td>\n",
       "    </tr>\n",
       "    <tr>\n",
       "      <td>ETHe</td>\n",
       "      <td>BOUNDARY_ETHe</td>\n",
       "      <td>-59.82</td>\n",
       "      <td>2</td>\n",
       "      <td>1.99%</td>\n",
       "    </tr>\n",
       "    <tr>\n",
       "      <td>FORe</td>\n",
       "      <td>BOUNDARY_FORe</td>\n",
       "      <td>-96.51</td>\n",
       "      <td>1</td>\n",
       "      <td>1.61%</td>\n",
       "    </tr>\n",
       "    <tr>\n",
       "      <td>H2Oe</td>\n",
       "      <td>BOUNDARY_H2Oe</td>\n",
       "      <td>-1000</td>\n",
       "      <td>0</td>\n",
       "      <td>0.00%</td>\n",
       "    </tr>\n",
       "    <tr>\n",
       "      <td>He</td>\n",
       "      <td>BOUNDARY_He</td>\n",
       "      <td>-865.8</td>\n",
       "      <td>0</td>\n",
       "      <td>0.00%</td>\n",
       "    </tr>\n",
       "  </tbody>\n",
       "</table>"
      ],
      "text/plain": [
       "<cobra.summary.model_summary.ModelSummary at 0x7fcd9eaaae10>"
      ]
     },
     "metadata": {},
     "output_type": "display_data"
    }
   ],
   "source": [
    "with reduced_model:\n",
    "    reduced_model.objective = 'BOUNDARY_CITe'\n",
    "    display(reduced_model.summary())"
   ]
  },
  {
   "cell_type": "code",
   "execution_count": 60,
   "id": "a4e4ae02",
   "metadata": {},
   "outputs": [],
   "source": [
    "with reduced_model:\n",
    "    reduced_model.objective = 'BOUNDARY_CO2e'\n",
    "    reduced_model.reactions.EX_3hpp_e.lower_bound = 1.0\n",
    "    reduced_model.reactions.BOUNDARY_ETHe.lower_bound = 1.0\n",
    "    reduced_model.reactions.BOUNDARY_EOLe.lower_bound = 1.0\n",
    "    reduced_model.reactions.BOUNDARY_CITe.lower_bound = 1.0\n",
    "    pfba_sol = cobra.flux_analysis.pfba(reduced_model)"
   ]
  },
  {
   "cell_type": "code",
   "execution_count": 66,
   "id": "030991ef",
   "metadata": {},
   "outputs": [
    {
     "name": "stdout",
     "output_type": "stream",
     "text": [
      "r44: NADHm + OAm <=> MALm + NADm\n",
      "r45a: MAL + NAD <=> NADH + OA\n",
      "r113a: ETH + NAD <=> ACAL + NADH\n",
      "r1173: OAm <=> OA\n",
      "r1071: ETHe <=> ETH\n",
      "r1061: EOLe <=> EOL\n",
      "r1134: CITe <=> CIT\n"
     ]
    }
   ],
   "source": [
    "for r in reduced_model.reactions:\n",
    "    if pfba_sol[r.id] < 0:\n",
    "        print(r)"
   ]
  },
  {
   "cell_type": "code",
   "execution_count": 70,
   "id": "80974237",
   "metadata": {},
   "outputs": [],
   "source": [
    "for r in reduced_model.reactions:\n",
    "    if pfba_sol[r.id] < 0:\n",
    "        for m, s in r.metabolites.items():\n",
    "            r.add_metabolites({m: -2*s})"
   ]
  },
  {
   "cell_type": "code",
   "execution_count": 72,
   "id": "19adb7c8",
   "metadata": {},
   "outputs": [],
   "source": [
    "with reduced_model:\n",
    "    reduced_model.objective = 'BOUNDARY_CO2e'\n",
    "    reduced_model.reactions.EX_3hpp_e.lower_bound = 1.0\n",
    "    reduced_model.reactions.BOUNDARY_ETHe.lower_bound = 1.0\n",
    "    reduced_model.reactions.BOUNDARY_EOLe.lower_bound = 1.0\n",
    "    reduced_model.reactions.BOUNDARY_CITe.lower_bound = 1.0\n",
    "    pfba_sol = cobra.flux_analysis.pfba(reduced_model)"
   ]
  },
  {
   "cell_type": "code",
   "execution_count": 73,
   "id": "561044de",
   "metadata": {},
   "outputs": [],
   "source": [
    "for r in reduced_model.reactions:\n",
    "    if pfba_sol[r.id] < 0:\n",
    "        print(r)"
   ]
  },
  {
   "cell_type": "code",
   "execution_count": 80,
   "id": "ab98412b",
   "metadata": {},
   "outputs": [],
   "source": [
    "cobra.io.save_json_model(reduced_model, '../../models/iJB1325_HP.nonnative_genes.pubchem.flipped.nonzero.reduced.round2.json')"
   ]
  },
  {
   "cell_type": "code",
   "execution_count": null,
   "id": "0c11e8c2",
   "metadata": {},
   "outputs": [],
   "source": []
  }
 ],
 "metadata": {
  "kernelspec": {
   "display_name": "Python 3 (ipykernel)",
   "language": "python",
   "name": "python3"
  },
  "language_info": {
   "codemirror_mode": {
    "name": "ipython",
    "version": 3
   },
   "file_extension": ".py",
   "mimetype": "text/x-python",
   "name": "python",
   "nbconvert_exporter": "python",
   "pygments_lexer": "ipython3",
   "version": "3.8.18"
  }
 },
 "nbformat": 4,
 "nbformat_minor": 5
}
