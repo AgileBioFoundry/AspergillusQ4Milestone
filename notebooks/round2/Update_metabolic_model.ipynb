{
 "cells": [
  {
   "cell_type": "markdown",
   "id": "12833ac6",
   "metadata": {},
   "source": [
    "## Add ethanol, erythritol, and citric acid secretion to the reducde model"
   ]
  },
  {
   "cell_type": "code",
   "execution_count": 1,
   "id": "cdfae5f8",
   "metadata": {},
   "outputs": [],
   "source": [
    "import pandas as pd\n",
    "import cobra"
   ]
  },
  {
   "cell_type": "code",
   "execution_count": 2,
   "id": "1f1d9d06",
   "metadata": {},
   "outputs": [],
   "source": [
    "reduced_model = cobra.io.load_json_model('../../models/iJB1325_HP.nonnative_genes.pubchem.flipped.nonzero.reduced.json')\n",
    "model = cobra.io.load_json_model('../../models/iJB1325_HP.json')"
   ]
  },
  {
   "cell_type": "code",
   "execution_count": 3,
   "id": "8bb871bd",
   "metadata": {},
   "outputs": [
    {
     "data": {
      "text/plain": [
       "[<Reaction BOUNDARY_ACe at 0x7ff451d7f278>,\n",
       " <Reaction BOUNDARY_CO2e at 0x7ff451d7f240>,\n",
       " <Reaction BOUNDARY_FORe at 0x7ff451d7f4e0>,\n",
       " <Reaction BOUNDARY_GLCe at 0x7ff451d7f5f8>,\n",
       " <Reaction BOUNDARY_GLCNTe at 0x7ff451d7f710>,\n",
       " <Reaction BOUNDARY_He at 0x7ff451d7f828>,\n",
       " <Reaction BOUNDARY_H2Oe at 0x7ff451d7f940>,\n",
       " <Reaction BOUNDARY_HNO3e at 0x7ff451d7fa58>,\n",
       " <Reaction BOUNDARY_O2e at 0x7ff451d7fb70>,\n",
       " <Reaction BOUNDARY_TARe at 0x7ff451d7fc88>,\n",
       " <Reaction BOUNDARY_SMPYRKe at 0x7ff451db4a58>,\n",
       " <Reaction EX_3hpp_e at 0x7ff451dc82e8>]"
      ]
     },
     "execution_count": 3,
     "metadata": {},
     "output_type": "execute_result"
    }
   ],
   "source": [
    "reduced_model.boundary"
   ]
  },
  {
   "cell_type": "code",
   "execution_count": 4,
   "id": "9f9219ec",
   "metadata": {},
   "outputs": [
    {
     "name": "stdout",
     "output_type": "stream",
     "text": [
      "CIT Citrate\n",
      "CITe Citrate (extracellular)\n",
      "CITm Citrate (mitochondrial)\n",
      "EOL Erythritol\n",
      "EOLe Erythritol (extracellular)\n",
      "ETH Ethanol\n",
      "ETHe Ethanol (extracellular)\n",
      "ETHm Ethanol (mitochondrial)\n",
      "ETAMe Ethanolamine\n"
     ]
    }
   ],
   "source": [
    "for m in model.metabolites:\n",
    "    if any(x in m.name for x in ['Ethanol','Erythritol','Citrate']):\n",
    "        print(m, m.name)"
   ]
  },
  {
   "cell_type": "code",
   "execution_count": 5,
   "id": "8ecdc579",
   "metadata": {},
   "outputs": [
    {
     "name": "stdout",
     "output_type": "stream",
     "text": [
      "ETH\n",
      "ETHm\n"
     ]
    }
   ],
   "source": [
    "for x in ['ETH','EOL','CIT','ETHm','CITm','ETHe','EOLe','CITe']:\n",
    "    if x in reduced_model.metabolites:\n",
    "        print(model.metabolites.get_by_id(x))"
   ]
  },
  {
   "cell_type": "markdown",
   "id": "3ec910fb",
   "metadata": {},
   "source": [
    "### Add ethanol secretion"
   ]
  },
  {
   "cell_type": "code",
   "execution_count": 6,
   "id": "0c0fbe23",
   "metadata": {},
   "outputs": [
    {
     "name": "stdout",
     "output_type": "stream",
     "text": [
      "r113a: ETH + NAD <=> ACAL + NADH 1145644 or 1151044 or 1118068 or 1082822 or 1106057 or 1121815 or 1153588 or 1187201 or 1189342 or 1180995 or 1187871 or 1183555 or 1082059 or 1149680 or 42017 or 1176225 or 1124003 or 1176774\n",
      "r1149: ETHm <=> ETH \n",
      "r113a: ETH + NAD <=> ACAL + NADH 1145644 or 1151044 or 1118068 or 1082822 or 1106057 or 1121815 or 1153588 or 1187201 or 1189342 or 1180995 or 1187871 or 1183555 or 1082059 or 1149680 or 42017 or 1176225 or 1124003 or 1176774\n",
      "r1148: ACAL <=> ACALm \n"
     ]
    }
   ],
   "source": [
    "for x in ['ETH','ACAL']:\n",
    "    for r in reduced_model.metabolites.get_by_id(x).reactions:\n",
    "        print(r, r.gene_reaction_rule)"
   ]
  },
  {
   "cell_type": "code",
   "execution_count": 7,
   "id": "546d6e4d",
   "metadata": {},
   "outputs": [
    {
     "name": "stdout",
     "output_type": "stream",
     "text": [
      "BOUNDARY_ETHe: ETHe -->  \n",
      "r1071: ETHe <=> ETH \n",
      "r2359: H2Oe + URETAe --> CO2e + ETHe + NH3e \n",
      "r113a: ETH + NAD <=> ACAL + NADH 1145644 or 1151044 or 1118068 or 1082822 or 1106057 or 1121815 or 1153588 or 1187201 or 1189342 or 1180995 or 1187871 or 1183555 or 1082059 or 1149680 or 42017 or 1176225 or 1124003 or 1176774\n",
      "r1071: ETHe <=> ETH \n",
      "r1149: ETH <=> ETHm \n",
      "r1070: ACALe <=> ACAL \n",
      "r2360: ETHSA + NADPH + O2 --> ACAL + H2O + H2SO3 + NADP 1153641\n",
      "r113a: ETH + NAD <=> ACAL + NADH 1145644 or 1151044 or 1118068 or 1082822 or 1106057 or 1121815 or 1153588 or 1187201 or 1189342 or 1180995 or 1187871 or 1183555 or 1082059 or 1149680 or 42017 or 1176225 or 1124003 or 1176774\n",
      "r58a: PYR --> ACAL + CO2 1088723 or 1131969 or 1114868\n",
      "r115a: ACAL + H2O + NAD --> AC + NADH 1148469 or 1126514 or 1169517 or 1123538 or 1155201\n",
      "r1148: ACAL <=> ACALm \n",
      "r2010: NAD + NADPH + O2 + SMAZAC --> ACAL + H2O + NADH + NADP + SMAZAA 1080431 and 1114932\n",
      "r301: ACAL + GLY <=> THR 1120654 or 1210554\n"
     ]
    }
   ],
   "source": [
    "for x in ['ETHe','ETH','ACAL']:\n",
    "    for r in model.metabolites.get_by_id(x).reactions:\n",
    "        print(r, r.gene_reaction_rule)"
   ]
  },
  {
   "cell_type": "code",
   "execution_count": 43,
   "id": "07f74c95",
   "metadata": {},
   "outputs": [],
   "source": [
    "reduced_model.add_reactions([model.reactions.get_by_id(x) for x in ['r58a','r1071','BOUNDARY_ETHe']])"
   ]
  },
  {
   "cell_type": "code",
   "execution_count": 9,
   "id": "7c8bcd46",
   "metadata": {
    "scrolled": true
   },
   "outputs": [
    {
     "data": {
      "text/html": [
       "<h3>Objective</h3><p>1.0 BOUNDARY_ETHe = 1000.0</p><h4>Uptake</h4><table border=\"1\" class=\"dataframe\">\n",
       "  <thead>\n",
       "    <tr style=\"text-align: right;\">\n",
       "      <th>Metabolite</th>\n",
       "      <th>Reaction</th>\n",
       "      <th>Flux</th>\n",
       "      <th>C-Number</th>\n",
       "      <th>C-Flux</th>\n",
       "    </tr>\n",
       "  </thead>\n",
       "  <tbody>\n",
       "    <tr>\n",
       "      <td>GLCe</td>\n",
       "      <td>BOUNDARY_GLCe</td>\n",
       "      <td>805.6</td>\n",
       "      <td>6</td>\n",
       "      <td>100.00%</td>\n",
       "    </tr>\n",
       "    <tr>\n",
       "      <td>H2Oe</td>\n",
       "      <td>BOUNDARY_H2Oe</td>\n",
       "      <td>166.7</td>\n",
       "      <td>0</td>\n",
       "      <td>0.00%</td>\n",
       "    </tr>\n",
       "    <tr>\n",
       "      <td>O2e</td>\n",
       "      <td>BOUNDARY_O2e</td>\n",
       "      <td>500</td>\n",
       "      <td>0</td>\n",
       "      <td>0.00%</td>\n",
       "    </tr>\n",
       "  </tbody>\n",
       "</table><h4>Secretion</h4><table border=\"1\" class=\"dataframe\">\n",
       "  <thead>\n",
       "    <tr style=\"text-align: right;\">\n",
       "      <th>Metabolite</th>\n",
       "      <th>Reaction</th>\n",
       "      <th>Flux</th>\n",
       "      <th>C-Number</th>\n",
       "      <th>C-Flux</th>\n",
       "    </tr>\n",
       "  </thead>\n",
       "  <tbody>\n",
       "    <tr>\n",
       "      <td>CO2e</td>\n",
       "      <td>BOUNDARY_CO2e</td>\n",
       "      <td>-1000</td>\n",
       "      <td>1</td>\n",
       "      <td>20.69%</td>\n",
       "    </tr>\n",
       "    <tr>\n",
       "      <td>ETHe</td>\n",
       "      <td>BOUNDARY_ETHe</td>\n",
       "      <td>-1000</td>\n",
       "      <td>2</td>\n",
       "      <td>41.38%</td>\n",
       "    </tr>\n",
       "    <tr>\n",
       "      <td>FORe</td>\n",
       "      <td>BOUNDARY_FORe</td>\n",
       "      <td>-500</td>\n",
       "      <td>1</td>\n",
       "      <td>10.34%</td>\n",
       "    </tr>\n",
       "    <tr>\n",
       "      <td>He</td>\n",
       "      <td>BOUNDARY_He</td>\n",
       "      <td>-500</td>\n",
       "      <td>0</td>\n",
       "      <td>0.00%</td>\n",
       "    </tr>\n",
       "    <tr>\n",
       "      <td>TARe</td>\n",
       "      <td>BOUNDARY_TARe</td>\n",
       "      <td>-333.3</td>\n",
       "      <td>4</td>\n",
       "      <td>27.59%</td>\n",
       "    </tr>\n",
       "  </tbody>\n",
       "</table>"
      ],
      "text/plain": [
       "<cobra.summary.model_summary.ModelSummary at 0x7ff451d2c710>"
      ]
     },
     "metadata": {},
     "output_type": "display_data"
    }
   ],
   "source": [
    "with reduced_model:\n",
    "    reduced_model.objective = 'BOUNDARY_ETHe'\n",
    "    display(reduced_model.summary())"
   ]
  },
  {
   "cell_type": "markdown",
   "id": "0702fa03",
   "metadata": {},
   "source": [
    "### Add erythritol secretion"
   ]
  },
  {
   "cell_type": "code",
   "execution_count": 10,
   "id": "0b97a03b",
   "metadata": {},
   "outputs": [
    {
     "name": "stdout",
     "output_type": "stream",
     "text": [
      "Pool: 0.01 AOL + 0.013 CIT + 0.3 EOL + 7e-05 FUM + 0.46 GL + 0.00039 ICIT + 0.00065 MAL + 0.18 MNT + 0.0017 NAD + 0.00018 NADH + 0.00014 NADP + 8e-05 NADPH + 0.00091 SUCC + 0.04 TRE --> POOL \n",
      "r1061: EOLe <=> EOL \n",
      "r141: EOL + NAD <=> EU + NADH \n",
      "r136: E + NADPH <=> EOL + NADP 1101910 or 1127368\n",
      "r1061: EOLe <=> EOL \n",
      "BOUNDARY_EOLe: EOLe -->  \n"
     ]
    }
   ],
   "source": [
    "for x in ['EOL','EOLe']:\n",
    "    for r in model.metabolites.get_by_id(x).reactions:\n",
    "        print(r, r.gene_reaction_rule)"
   ]
  },
  {
   "cell_type": "code",
   "execution_count": 11,
   "id": "c3132fe3",
   "metadata": {},
   "outputs": [
    {
     "name": "stdout",
     "output_type": "stream",
     "text": [
      "Pool: 0.01 AOL + 0.013 CIT + 0.3 EOL + 7e-05 FUM + 0.46 GL + 0.00039 ICIT + 0.00065 MAL + 0.18 MNT + 0.0017 NAD + 0.00018 NADH + 0.00014 NADP + 8e-05 NADPH + 0.00091 SUCC + 0.04 TRE --> POOL \n",
      "r1061: EOLe <=> EOL \n",
      "r141: EOL + NAD <=> EU + NADH \n",
      "r136: E + NADPH <=> EOL + NADP 1101910 or 1127368\n",
      "r142: ATP + EU --> ADP + EU1P 1080611\n",
      "r1060: EUe <=> EU \n",
      "r141: EOL + NAD <=> EU + NADH \n",
      "r2611: E4P + H2O --> E + PI \n",
      "r1062: Ee <=> E \n",
      "r136: E + NADPH <=> EOL + NADP 1101910 or 1127368\n"
     ]
    }
   ],
   "source": [
    "for x in ['EOL','EU','E']:\n",
    "    for r in model.metabolites.get_by_id(x).reactions:\n",
    "        print(r, r.gene_reaction_rule)"
   ]
  },
  {
   "cell_type": "code",
   "execution_count": 44,
   "id": "6fb57de8",
   "metadata": {},
   "outputs": [],
   "source": [
    "reduced_model.add_reactions([model.reactions.get_by_id(x) for x in ['r2611','r136','r1061','BOUNDARY_EOLe']])"
   ]
  },
  {
   "cell_type": "code",
   "execution_count": 13,
   "id": "5b82c714",
   "metadata": {
    "scrolled": true
   },
   "outputs": [
    {
     "data": {
      "text/html": [
       "<h3>Objective</h3><p>1.0 BOUNDARY_EOLe = 1000.0</p><h4>Uptake</h4><table border=\"1\" class=\"dataframe\">\n",
       "  <thead>\n",
       "    <tr style=\"text-align: right;\">\n",
       "      <th>Metabolite</th>\n",
       "      <th>Reaction</th>\n",
       "      <th>Flux</th>\n",
       "      <th>C-Number</th>\n",
       "      <th>C-Flux</th>\n",
       "    </tr>\n",
       "  </thead>\n",
       "  <tbody>\n",
       "    <tr>\n",
       "      <td>GLCe</td>\n",
       "      <td>BOUNDARY_GLCe</td>\n",
       "      <td>1000</td>\n",
       "      <td>6</td>\n",
       "      <td>100.00%</td>\n",
       "    </tr>\n",
       "    <tr>\n",
       "      <td>H2Oe</td>\n",
       "      <td>BOUNDARY_H2Oe</td>\n",
       "      <td>443.4</td>\n",
       "      <td>0</td>\n",
       "      <td>0.00%</td>\n",
       "    </tr>\n",
       "    <tr>\n",
       "      <td>O2e</td>\n",
       "      <td>BOUNDARY_O2e</td>\n",
       "      <td>56.59</td>\n",
       "      <td>0</td>\n",
       "      <td>0.00%</td>\n",
       "    </tr>\n",
       "  </tbody>\n",
       "</table><h4>Secretion</h4><table border=\"1\" class=\"dataframe\">\n",
       "  <thead>\n",
       "    <tr style=\"text-align: right;\">\n",
       "      <th>Metabolite</th>\n",
       "      <th>Reaction</th>\n",
       "      <th>Flux</th>\n",
       "      <th>C-Number</th>\n",
       "      <th>C-Flux</th>\n",
       "    </tr>\n",
       "  </thead>\n",
       "  <tbody>\n",
       "    <tr>\n",
       "      <td>ACe</td>\n",
       "      <td>BOUNDARY_ACe</td>\n",
       "      <td>-721.7</td>\n",
       "      <td>2</td>\n",
       "      <td>24.06%</td>\n",
       "    </tr>\n",
       "    <tr>\n",
       "      <td>CO2e</td>\n",
       "      <td>BOUNDARY_CO2e</td>\n",
       "      <td>-556.6</td>\n",
       "      <td>1</td>\n",
       "      <td>9.28%</td>\n",
       "    </tr>\n",
       "    <tr>\n",
       "      <td>EOLe</td>\n",
       "      <td>BOUNDARY_EOLe</td>\n",
       "      <td>-1000</td>\n",
       "      <td>4</td>\n",
       "      <td>66.67%</td>\n",
       "    </tr>\n",
       "  </tbody>\n",
       "</table>"
      ],
      "text/plain": [
       "<cobra.summary.model_summary.ModelSummary at 0x7ff451fbf9b0>"
      ]
     },
     "metadata": {},
     "output_type": "display_data"
    }
   ],
   "source": [
    "with reduced_model:\n",
    "    reduced_model.objective = 'BOUNDARY_EOLe'\n",
    "    display(reduced_model.summary())"
   ]
  },
  {
   "cell_type": "markdown",
   "id": "430a172a",
   "metadata": {},
   "source": [
    "### Add citric acid secretion"
   ]
  },
  {
   "cell_type": "code",
   "execution_count": 14,
   "id": "69e82e1a",
   "metadata": {},
   "outputs": [
    {
     "name": "stdout",
     "output_type": "stream",
     "text": [
      "Pool: 0.01 AOL + 0.013 CIT + 0.3 EOL + 7e-05 FUM + 0.46 GL + 0.00039 ICIT + 0.00065 MAL + 0.18 MNT + 0.0017 NAD + 0.00018 NADH + 0.00014 NADP + 8e-05 NADPH + 0.00091 SUCC + 0.04 TRE --> POOL \n",
      "r31: ACCOA + H2O + OA --> CIT + COA 1114699\n",
      "r50a: ATP + CIT + COA --> ACCOA + ADP + OA + PI 1147138 and 1111634\n",
      "r1169: CITm + MAL --> CIT + MALm 1179216 or 1179236\n",
      "r32c: CIT <=> ACO + H2O \n",
      "r1134: CITe <=> CIT \n",
      "r50ma: ATPm + CITm + COAm --> ACCOAm + ADPm + OAm + PIm \n",
      "r37: CITm --> ACm + OAm 1117686\n",
      "r32a: CITm <=> ACOm + H2Om 1148603 or 1175567 or 1218960 or 1181034\n",
      "r1169: CITm + MAL --> CIT + MALm 1179216 or 1179236\n",
      "r31a: ACCOAm + H2Om + OAm --> CITm + COAm 1141647 or 1143782\n",
      "r1134: CITe <=> CIT \n",
      "BOUNDARY_CITe: CITe -->  \n"
     ]
    }
   ],
   "source": [
    "for x in ['CIT','CITm','CITe']:\n",
    "    for r in model.metabolites.get_by_id(x).reactions:\n",
    "        print(r, r.gene_reaction_rule)"
   ]
  },
  {
   "cell_type": "code",
   "execution_count": 45,
   "id": "63d0ccd8",
   "metadata": {},
   "outputs": [],
   "source": [
    "reduced_model.add_reactions([model.reactions.get_by_id(x) for x in ['r31a','r1169','r1134','BOUNDARY_CITe']])"
   ]
  },
  {
   "cell_type": "code",
   "execution_count": 16,
   "id": "b9822d9f",
   "metadata": {
    "scrolled": true
   },
   "outputs": [
    {
     "data": {
      "text/html": [
       "<h3>Objective</h3><p>1.0 BOUNDARY_CITe = 963.4330233727067</p><h4>Uptake</h4><table border=\"1\" class=\"dataframe\">\n",
       "  <thead>\n",
       "    <tr style=\"text-align: right;\">\n",
       "      <th>Metabolite</th>\n",
       "      <th>Reaction</th>\n",
       "      <th>Flux</th>\n",
       "      <th>C-Number</th>\n",
       "      <th>C-Flux</th>\n",
       "    </tr>\n",
       "  </thead>\n",
       "  <tbody>\n",
       "    <tr>\n",
       "      <td>GLCe</td>\n",
       "      <td>BOUNDARY_GLCe</td>\n",
       "      <td>1000</td>\n",
       "      <td>6</td>\n",
       "      <td>100.00%</td>\n",
       "    </tr>\n",
       "    <tr>\n",
       "      <td>O2e</td>\n",
       "      <td>BOUNDARY_O2e</td>\n",
       "      <td>1000</td>\n",
       "      <td>0</td>\n",
       "      <td>0.00%</td>\n",
       "    </tr>\n",
       "  </tbody>\n",
       "</table><h4>Secretion</h4><table border=\"1\" class=\"dataframe\">\n",
       "  <thead>\n",
       "    <tr style=\"text-align: right;\">\n",
       "      <th>Metabolite</th>\n",
       "      <th>Reaction</th>\n",
       "      <th>Flux</th>\n",
       "      <th>C-Number</th>\n",
       "      <th>C-Flux</th>\n",
       "    </tr>\n",
       "  </thead>\n",
       "  <tbody>\n",
       "    <tr>\n",
       "      <td>CITe</td>\n",
       "      <td>BOUNDARY_CITe</td>\n",
       "      <td>-963.4</td>\n",
       "      <td>6</td>\n",
       "      <td>96.34%</td>\n",
       "    </tr>\n",
       "    <tr>\n",
       "      <td>ETHe</td>\n",
       "      <td>BOUNDARY_ETHe</td>\n",
       "      <td>-60.94</td>\n",
       "      <td>2</td>\n",
       "      <td>2.03%</td>\n",
       "    </tr>\n",
       "    <tr>\n",
       "      <td>FORe</td>\n",
       "      <td>BOUNDARY_FORe</td>\n",
       "      <td>-97.51</td>\n",
       "      <td>1</td>\n",
       "      <td>1.63%</td>\n",
       "    </tr>\n",
       "    <tr>\n",
       "      <td>H2Oe</td>\n",
       "      <td>BOUNDARY_H2Oe</td>\n",
       "      <td>-1000</td>\n",
       "      <td>0</td>\n",
       "      <td>0.00%</td>\n",
       "    </tr>\n",
       "    <tr>\n",
       "      <td>He</td>\n",
       "      <td>BOUNDARY_He</td>\n",
       "      <td>-865.9</td>\n",
       "      <td>0</td>\n",
       "      <td>0.00%</td>\n",
       "    </tr>\n",
       "  </tbody>\n",
       "</table>"
      ],
      "text/plain": [
       "<cobra.summary.model_summary.ModelSummary at 0x7ff451fbfb00>"
      ]
     },
     "metadata": {},
     "output_type": "display_data"
    }
   ],
   "source": [
    "with reduced_model:\n",
    "    reduced_model.objective = 'BOUNDARY_CITe'\n",
    "    display(reduced_model.summary())"
   ]
  },
  {
   "cell_type": "markdown",
   "id": "05eb0a94",
   "metadata": {},
   "source": [
    "### Split reversible reactions into forward and reverse reactions"
   ]
  },
  {
   "cell_type": "code",
   "execution_count": 46,
   "id": "f74f6b98",
   "metadata": {},
   "outputs": [
    {
     "name": "stdout",
     "output_type": "stream",
     "text": [
      "r1: GLC <=> bDGLC (-1000.0, 1000.0)\n",
      "r7: F6P <=> G6P (-1000.0, 1000.0)\n",
      "r8: bDG6P <=> F6P (-1000.0, 1000.0)\n",
      "r9: bDG6P <=> G6P (-1000.0, 1000.0)\n",
      "r12a: FDP <=> T3P1 + T3P2 (-1000.0, 1000.0)\n",
      "r13a: T3P2 <=> T3P1 (-1000.0, 1000.0)\n",
      "r14: NAD + PI + T3P1 <=> 13PDG + NADH (-1000.0, 1000.0)\n",
      "r15: 13PDG + ADP <=> 3PG + ATP (-1000.0, 1000.0)\n",
      "r16a: 3PG <=> 2PG (-1000.0, 1000.0)\n",
      "r17: 2PG <=> H2O + PEP (-1000.0, 1000.0)\n",
      "r25: RL5P <=> XUL5P (-1000.0, 1000.0)\n",
      "r26: RL5P <=> R5P (-1000.0, 1000.0)\n",
      "r27: R5P + XUL5P <=> S7P + T3P1 (-1000.0, 1000.0)\n",
      "r28: E4P + XUL5P <=> F6P + T3P1 (-1000.0, 1000.0)\n",
      "r29a: S7P + T3P1 <=> E4P + F6P (-1000.0, 1000.0)\n",
      "r1273: PI + XUL5P <=> ACTP + H2O + T3P1 (-1000.0, 1000.0)\n",
      "r38a: COAm + GTPm + SUCCm <=> GDPm + PIm + SUCCOAm (-1000.0, 1000.0)\n",
      "r42: MALm <=> FUMm + H2Om (-1000.0, 1000.0)\n",
      "r43: FUM + H2O <=> MAL (-1000.0, 1000.0)\n",
      "r44: NADHm + OAm <=> MALm + NADm (-1000.0, 1000.0)\n",
      "r45a: MAL + NAD <=> NADH + OA (-1000.0, 1000.0)\n",
      "r54: FALD + H2O + NAD <=> FOR + NADH (-1000.0, 1000.0)\n",
      "r61: FALD + NAD + RGT <=> FGT + NADH (-1000.0, 1000.0)\n",
      "r56b: ADHLIPOm + COAm + NADm <=> ACCOAm + LIPOm + NADHm (-1000.0, 1000.0)\n",
      "r60: ACTP + ADP <=> AC + ATP (-1000.0, 1000.0)\n",
      "r64: LACAL + NADP <=> MTHGXL + NADPH (-1000.0, 1000.0)\n",
      "r65: LAC + NADH <=> H2O + LACAL + NAD (-1000.0, 1000.0)\n",
      "r67: MTHGXL + RGT <=> LGT (-1000.0, 1000.0)\n",
      "r93: METTHF + NAD <=> METHF + NADH (-1000.0, 1000.0)\n",
      "r94: H2O + METHF <=> FTHF (-1000.0, 1000.0)\n",
      "r113a: ETH + NAD <=> ACAL + NADH (-1000.0, 1000.0)\n",
      "r118a: ACALm + NADHm <=> ETHm + NADm (-1000.0, 1000.0)\n",
      "r122: GLYN + NADH <=> GL + NAD (-1000.0, 1000.0)\n",
      "r124: GLYAL + NADPH <=> GL + NADP (-1000.0, 1000.0)\n",
      "r127: GL + NADP <=> GLYN + NADPH (-1000.0, 1000.0)\n",
      "r135: H2O + OA <=> TAR (-1000.0, 1000.0)\n",
      "r146: NADP + XOL <=> LXUL + NADPH (-1000.0, 1000.0)\n",
      "r155: GLYN + T3P1 <=> FALD + XUL5P (-1000.0, 1000.0)\n",
      "r159: NADH + RL <=> NAD + RIBOL (-1000.0, 1000.0)\n",
      "r160: NADP + RIBOL <=> NADPH + RL (-1000.0, 1000.0)\n",
      "r162: AOL + NADP <=> NADPH + RL (-1000.0, 1000.0)\n",
      "r170: GLCNT <=> H2O + KDDGC (-1000.0, 1000.0)\n",
      "r171: KDDGC <=> GLYAL + PYR (-1000.0, 1000.0)\n",
      "r189: MNT + NADP <=> FRU + NADPH (-1000.0, 1000.0)\n",
      "r1286: FRU + NADH <=> MNT + NAD (-1000.0, 1000.0)\n",
      "r977: BA + NADH <=> BAL + H2O + NAD (-1000.0, 1000.0)\n",
      "r978: BAL + H2O + NADP <=> BA + NADPH (-1000.0, 1000.0)\n",
      "r258: GLU + OA <=> AKG + ASP (-1000.0, 1000.0)\n",
      "r259: AKG + ALA <=> GLU + PYR (-1000.0, 1000.0)\n",
      "r258m: GLUm + OAm <=> AKGm + ASPm (-1000.0, 1000.0)\n",
      "r287: 2.0 GLU + NADP <=> AKG + GLN + NADPH (-1000.0, 1000.0)\n",
      "r288: AKG + GLN + NADH <=> 2.0 GLU + NAD (-1000.0, 1000.0)\n",
      "r295: 3PG + NAD <=> NADH + PHP (-1000.0, 1000.0)\n",
      "r296: GLU + PHP <=> 3PSER + AKG (-1000.0, 1000.0)\n",
      "r298: SER + THF <=> GLY + H2O + METTHF (-1000.0, 1000.0)\n",
      "r300: GLY + PYR <=> ALA + GLX (-1000.0, 1000.0)\n",
      "r436: AMP + ATP <=> 2.0 ADP (-1000.0, 1000.0)\n",
      "r443: ATP + GDP <=> ADP + GTP (-1000.0, 1000.0)\n",
      "r444: ADP + GDP <=> AMP + GTP (-1000.0, 1000.0)\n",
      "r486: AMP + UTP <=> ADP + UDP (-1000.0, 1000.0)\n",
      "r487: ATP + UDP <=> ADP + UTP (-1000.0, 1000.0)\n",
      "r490: ATP + CDP <=> ADP + CTP (-1000.0, 1000.0)\n",
      "r491: AMP + CTP <=> ADP + CDP (-1000.0, 1000.0)\n",
      "r541: AMPm + ATPm <=> 2.0 ADPm (-1000.0, 1000.0)\n",
      "r542: ADPm + GDPm <=> AMPm + GTPm (-1000.0, 1000.0)\n",
      "r825: G6P <=> MI1P (-1000.0, 1000.0)\n",
      "r908: NH4 <=> H + NH3 (-1000.0, 1000.0)\n",
      "r1092: CO2 <=> CO2e (-1000.0, 1000.0)\n",
      "r1093: H2O <=> H2Oe (-1000.0, 1000.0)\n",
      "r1094: O2e <=> O2 (-1000.0, 1000.0)\n",
      "r1069: AC <=> ACe (-1000.0, 1000.0)\n",
      "r1142: FOR <=> FORe (-1000.0, 1000.0)\n",
      "r1150: H2Om <=> H2O (-1000.0, 1000.0)\n",
      "r1153: O2 <=> O2m (-1000.0, 1000.0)\n",
      "r1152: CO2m <=> CO2 (-1000.0, 1000.0)\n",
      "r1149: ETHm <=> ETH (-1000.0, 1000.0)\n",
      "r1148: ACAL <=> ACALm (-1000.0, 1000.0)\n",
      "r1147: AC <=> ACm (-1000.0, 1000.0)\n",
      "r1086: HNO3e <=> HNO3 (-1000.0, 1000.0)\n",
      "r1047a: GLCe <=> GLC (-1000.0, 1000.0)\n",
      "r1046: bDGLCe <=> bDGLC (-1000.0, 1000.0)\n",
      "r1045: GLCNT <=> GLCNTe (-1000.0, 1000.0)\n",
      "r1063: TAR <=> TARe (-1000.0, 1000.0)\n",
      "r1154: PIm <=> PI (-1000.0, 1000.0)\n",
      "r1172: AKGm <=> AKG (-1000.0, 1000.0)\n",
      "r1173: OAm <=> OA (-1000.0, 1000.0)\n",
      "r1175: FUMm <=> FUM (-1000.0, 1000.0)\n",
      "r1133: GLX <=> GLXm (-1000.0, 1000.0)\n",
      "r1160: ASPm <=> ASP (-1000.0, 1000.0)\n",
      "r1157: ASPm + GLU <=> ASP + GLUm (-1000.0, 1000.0)\n",
      "r1156: AKG + MALm <=> AKGm + MAL (-1000.0, 1000.0)\n",
      "BOUNDARY_GLCe:  <=> GLCe (-10.0, 1000.0)\n",
      "BOUNDARY_H2Oe: H2Oe <=>  (-1000.0, 1000.0)\n",
      "BOUNDARY_HNO3e:  <=> HNO3e (-1000.0, 1000.0)\n",
      "BOUNDARY_O2e:  <=> O2e (-1000.0, 1000.0)\n",
      "r184: LGALNT + NADP <=> GALUNT + NADPH (-1000.0, 1000.0)\n",
      "r184c: GALUNT + NADH <=> LGALNT + NAD (-1000.0, 1000.0)\n",
      "r146a: LXUL + NADH <=> NAD + XOL (-1000.0, 1000.0)\n",
      "r162b: NADH + RL <=> AOL + NAD (-1000.0, 1000.0)\n",
      "r1905: ACCOAm + CARm <=> ACCARm + COAm (-1000.0, 1000.0)\n",
      "r1906: ACCAR + COA <=> ACCOA + CAR (-1000.0, 1000.0)\n",
      "r1907: ACCARm + CAR <=> ACCAR + CARm (-1000.0, 1000.0)\n",
      "r2027: FE3 <=> FE3e (-1000.0, 1000.0)\n",
      "r2335: GDPm + GTP <=> GDP + GTPm (-1000.0, 1000.0)\n",
      "r2391: GLU <=> GLUm (-1000.0, 1000.0)\n",
      "r2642: SMPYRK <=> SMPYRKe (-1000.0, 1000.0)\n",
      "3HPPt: 3hpp_c + H <=> 3hpp_e + He (-1000.0, 1000.0)\n",
      "r1071: ETHe <=> ETH (-1000.0, 1000.0)\n",
      "r136: E + NADPH <=> EOL + NADP (-1000.0, 1000.0)\n",
      "r1061: EOLe <=> EOL (-1000.0, 1000.0)\n",
      "r1134: CITe <=> CIT (-1000.0, 1000.0)\n"
     ]
    }
   ],
   "source": [
    "for r in reduced_model.reactions:\n",
    "    if r.lower_bound < 0.0:\n",
    "        print(r, r.bounds)"
   ]
  },
  {
   "cell_type": "code",
   "execution_count": 49,
   "id": "6c7850b8",
   "metadata": {},
   "outputs": [],
   "source": [
    "reduced_model.reactions.BOUNDARY_GLCe.lower_bound = 0.0\n",
    "reduced_model.reactions.BOUNDARY_H2Oe.lower_bound = 0.0\n",
    "reduced_model.reactions.BOUNDARY_HNO3e.lower_bound = 0.0\n",
    "reduced_model.reactions.BOUNDARY_O2e.lower_bound = 0.0"
   ]
  },
  {
   "cell_type": "code",
   "execution_count": 50,
   "id": "46a8c01e",
   "metadata": {},
   "outputs": [],
   "source": [
    "fva_sol = cobra.flux_analysis.flux_variability_analysis(reduced_model, fraction_of_optimum=0.0)"
   ]
  },
  {
   "cell_type": "code",
   "execution_count": 59,
   "id": "0248de89",
   "metadata": {},
   "outputs": [],
   "source": [
    "for r in reduced_model.reactions:\n",
    "    if r.lower_bound < 0.0:\n",
    "        if fva_sol['minimum'][r.id] < 0.0:\n",
    "            r.lower_bound = 0.0\n",
    "            r_reverse = r.copy()\n",
    "            r_reverse.id = r.id+'r'\n",
    "            reduced_model.add_reactions([r_reverse])\n",
    "            for m, s in r_reverse.metabolites.items():\n",
    "                r_reverse.add_metabolites({m: -2*s})\n",
    "        else:\n",
    "            r.lower_bound = 0.0"
   ]
  },
  {
   "cell_type": "code",
   "execution_count": 61,
   "id": "a4e4ae02",
   "metadata": {},
   "outputs": [],
   "source": [
    "with reduced_model:\n",
    "    reduced_model.objective = 'BOUNDARY_CO2e'\n",
    "    reduced_model.reactions.BOUNDARY_GLCe.lower_bound = 10.0\n",
    "    reduced_model.reactions.EX_3hpp_e.lower_bound = 1.0\n",
    "    reduced_model.reactions.BOUNDARY_ETHe.lower_bound = 1.0\n",
    "    reduced_model.reactions.BOUNDARY_EOLe.lower_bound = 1.0\n",
    "    reduced_model.reactions.BOUNDARY_CITe.lower_bound = 1.0\n",
    "    pfba_sol = cobra.flux_analysis.pfba(reduced_model)"
   ]
  },
  {
   "cell_type": "code",
   "execution_count": 62,
   "id": "030991ef",
   "metadata": {},
   "outputs": [],
   "source": [
    "for r in reduced_model.reactions:\n",
    "    if pfba_sol[r.id] < 0:\n",
    "        print(r)"
   ]
  },
  {
   "cell_type": "code",
   "execution_count": 63,
   "id": "ab98412b",
   "metadata": {},
   "outputs": [],
   "source": [
    "cobra.io.save_json_model(reduced_model, '../../models/iJB1325_HP.nonnative_genes.pubchem.flipped.nonzero.reduced.round2.json')"
   ]
  },
  {
   "cell_type": "code",
   "execution_count": null,
   "id": "0c11e8c2",
   "metadata": {},
   "outputs": [],
   "source": []
  }
 ],
 "metadata": {
  "kernelspec": {
   "display_name": "Python 3 (ipykernel)",
   "language": "python",
   "name": "python3"
  },
  "language_info": {
   "codemirror_mode": {
    "name": "ipython",
    "version": 3
   },
   "file_extension": ".py",
   "mimetype": "text/x-python",
   "name": "python",
   "nbconvert_exporter": "python",
   "pygments_lexer": "ipython3",
   "version": "3.8.18"
  }
 },
 "nbformat": 4,
 "nbformat_minor": 5
}
