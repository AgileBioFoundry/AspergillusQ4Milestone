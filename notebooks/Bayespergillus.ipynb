{
 "cells": [
  {
   "cell_type": "code",
   "execution_count": 2,
   "metadata": {},
   "outputs": [
    {
     "name": "stdout",
     "output_type": "stream",
     "text": [
      "3.6.13 |Anaconda, Inc.| (default, Feb 23 2021, 12:58:59) \n",
      "[GCC Clang 10.0.0 ]\n"
     ]
    },
    {
     "data": {
      "application/javascript": [
       "\n",
       "            setTimeout(function() {\n",
       "                var nbb_cell_id = 2;\n",
       "                var nbb_unformatted_code = \"%load_ext nb_black\\n\\nimport sys, gzip, pickle\\n\\nsys.path.append(\\\".\\\")\\nprint(sys.version)\";\n",
       "                var nbb_formatted_code = \"%load_ext nb_black\\n\\nimport sys, gzip, pickle\\n\\nsys.path.append(\\\".\\\")\\nprint(sys.version)\";\n",
       "                var nbb_cells = Jupyter.notebook.get_cells();\n",
       "                for (var i = 0; i < nbb_cells.length; ++i) {\n",
       "                    if (nbb_cells[i].input_prompt_number == nbb_cell_id) {\n",
       "                        if (nbb_cells[i].get_text() == nbb_unformatted_code) {\n",
       "                             nbb_cells[i].set_text(nbb_formatted_code);\n",
       "                        }\n",
       "                        break;\n",
       "                    }\n",
       "                }\n",
       "            }, 500);\n",
       "            "
      ],
      "text/plain": [
       "<IPython.core.display.Javascript object>"
      ]
     },
     "metadata": {},
     "output_type": "display_data"
    }
   ],
   "source": [
    "%load_ext nb_black\n",
    "\n",
    "import sys, gzip, pickle\n",
    "\n",
    "sys.path.append(\".\")\n",
    "print(sys.version)"
   ]
  },
  {
   "cell_type": "code",
   "execution_count": 3,
   "metadata": {},
   "outputs": [
    {
     "name": "stdout",
     "output_type": "stream",
     "text": [
      "Restricted license - for non-production use only - expires 2022-01-13\n",
      "N:  (171, 172) Ex:  (172, 171) Ey:  (172, 2) v_star:  (172,) vn:  (47, 172) v:  (172, 48)\n"
     ]
    },
    {
     "name": "stderr",
     "output_type": "stream",
     "text": [
      "WARNING (theano.tensor.blas): We did not find a dynamic library in the library_dir of the library we use for blas. If you use ATLAS, make sure to compile it with dynamics library.\n"
     ]
    },
    {
     "name": "stdout",
     "output_type": "stream",
     "text": [
      "log(vn):  Shape.0 vn:  (47, 172)\n"
     ]
    },
    {
     "name": "stderr",
     "output_type": "stream",
     "text": [
      "/Users/zuck016/.pyenv/versions/anaconda3-2020.11/envs/idp_new/lib/python3.6/site-packages/theano/tensor/subtensor.py:2197: FutureWarning: Using a non-tuple sequence for multidimensional indexing is deprecated; use `arr[tuple(seq)]` instead of `arr[seq]`. In the future this will be interpreted as an array index, `arr[np.array(seq)]`, which will result either in an error or a different result.\n",
      "  rval = inputs[0].__getitem__(inputs[1:])\n",
      "/Users/zuck016/.pyenv/versions/anaconda3-2020.11/envs/idp_new/lib/python3.6/site-packages/theano/tensor/subtensor.py:2339: FutureWarning: Using a non-tuple sequence for multidimensional indexing is deprecated; use `arr[tuple(seq)]` instead of `arr[seq]`. In the future this will be interpreted as an array index, `arr[np.array(seq)]`, which will result either in an error or a different result.\n",
      "  out[0][inputs[2:]] = inputs[1]\n"
     ]
    },
    {
     "data": {
      "application/javascript": [
       "\n",
       "            setTimeout(function() {\n",
       "                var nbb_cell_id = 3;\n",
       "                var nbb_unformatted_code = \"sys.path.append(\\\"../src\\\")\\nfrom run_inference import (\\n    Ex,\\n    Ex_t,\\n    Ey,\\n    Ey_t,\\n    T,\\n    advi_file,\\n    argparse,\\n    chi_clip,\\n    chi_obs,\\n    chi_ss,\\n    cobra,\\n    e,\\n    e_file,\\n    e_indexer,\\n    e_inds,\\n    e_laplace_inds,\\n    e_measured,\\n    e_unmeasured,\\n    e_zero_inds,\\n    emll,\\n    en,\\n    initialize_elasticity,\\n    ll,\\n    log_en_t,\\n    log_vn_obs,\\n    log_vn_ss,\\n    m_compartments,\\n    model,\\n    model_file,\\n    n_exp,\\n    n_iterations,\\n    np,\\n    os,\\n    pd,\\n    pm,\\n    pymc_model,\\n    r_compartments,\\n    r_labels,\\n    ref_state,\\n    rxn,\\n    to_consider,\\n    v,\\n    v_file,\\n    v_inds,\\n    v_star,\\n    v_star_file,\\n    vn,\\n    vn_ss,\\n    x,\\n    x_file,\\n    x_inds,\\n    xn,\\n    yn,\\n    yn_t,\\n)\";\n",
       "                var nbb_formatted_code = \"sys.path.append(\\\"../src\\\")\\nfrom run_inference import (\\n    Ex,\\n    Ex_t,\\n    Ey,\\n    Ey_t,\\n    T,\\n    advi_file,\\n    argparse,\\n    chi_clip,\\n    chi_obs,\\n    chi_ss,\\n    cobra,\\n    e,\\n    e_file,\\n    e_indexer,\\n    e_inds,\\n    e_laplace_inds,\\n    e_measured,\\n    e_unmeasured,\\n    e_zero_inds,\\n    emll,\\n    en,\\n    initialize_elasticity,\\n    ll,\\n    log_en_t,\\n    log_vn_obs,\\n    log_vn_ss,\\n    m_compartments,\\n    model,\\n    model_file,\\n    n_exp,\\n    n_iterations,\\n    np,\\n    os,\\n    pd,\\n    pm,\\n    pymc_model,\\n    r_compartments,\\n    r_labels,\\n    ref_state,\\n    rxn,\\n    to_consider,\\n    v,\\n    v_file,\\n    v_inds,\\n    v_star,\\n    v_star_file,\\n    vn,\\n    vn_ss,\\n    x,\\n    x_file,\\n    x_inds,\\n    xn,\\n    yn,\\n    yn_t,\\n)\";\n",
       "                var nbb_cells = Jupyter.notebook.get_cells();\n",
       "                for (var i = 0; i < nbb_cells.length; ++i) {\n",
       "                    if (nbb_cells[i].input_prompt_number == nbb_cell_id) {\n",
       "                        if (nbb_cells[i].get_text() == nbb_unformatted_code) {\n",
       "                             nbb_cells[i].set_text(nbb_formatted_code);\n",
       "                        }\n",
       "                        break;\n",
       "                    }\n",
       "                }\n",
       "            }, 500);\n",
       "            "
      ],
      "text/plain": [
       "<IPython.core.display.Javascript object>"
      ]
     },
     "metadata": {},
     "output_type": "display_data"
    }
   ],
   "source": [
    "sys.path.append(\"../src\")\n",
    "from run_inference import (\n",
    "    Ex,\n",
    "    Ex_t,\n",
    "    Ey,\n",
    "    Ey_t,\n",
    "    T,\n",
    "    advi_file,\n",
    "    argparse,\n",
    "    chi_clip,\n",
    "    chi_obs,\n",
    "    chi_ss,\n",
    "    cobra,\n",
    "    e,\n",
    "    e_file,\n",
    "    e_indexer,\n",
    "    e_inds,\n",
    "    e_laplace_inds,\n",
    "    e_measured,\n",
    "    e_unmeasured,\n",
    "    e_zero_inds,\n",
    "    emll,\n",
    "    en,\n",
    "    initialize_elasticity,\n",
    "    ll,\n",
    "    log_en_t,\n",
    "    log_vn_obs,\n",
    "    log_vn_ss,\n",
    "    m_compartments,\n",
    "    model,\n",
    "    model_file,\n",
    "    n_exp,\n",
    "    n_iterations,\n",
    "    np,\n",
    "    os,\n",
    "    pd,\n",
    "    pm,\n",
    "    pymc_model,\n",
    "    r_compartments,\n",
    "    r_labels,\n",
    "    ref_state,\n",
    "    rxn,\n",
    "    to_consider,\n",
    "    v,\n",
    "    v_file,\n",
    "    v_inds,\n",
    "    v_star,\n",
    "    v_star_file,\n",
    "    vn,\n",
    "    vn_ss,\n",
    "    x,\n",
    "    x_file,\n",
    "    x_inds,\n",
    "    xn,\n",
    "    yn,\n",
    "    yn_t,\n",
    ")"
   ]
  },
  {
   "cell_type": "code",
   "execution_count": 5,
   "metadata": {
    "scrolled": true
   },
   "outputs": [
    {
     "data": {
      "application/javascript": [
       "\n",
       "            setTimeout(function() {\n",
       "                var nbb_cell_id = 5;\n",
       "                var nbb_unformatted_code = \"with gzip.open('../data/model.pz', 'wb') as f:\\n     pickle.dump(pymc_model, f)\\n\\nwith gzip.open('../data/model_data.pz', 'wb') as f:\\n    pickle.dump({\\n        'model': model,\\n        'vn': vn,\\n        'en': en,\\n        'yn': yn,\\n        'xn': xn,\\n        'x_inds': x_inds,\\n        'e_inds': e_inds,\\n        'v_inds': v_inds,\\n        #'m_labels': m_labels,\\n        'r_labels': r_labels,\\n        'll': ll,\\n        'v_star': v_star\\n    }\\n        , f)\";\n",
       "                var nbb_formatted_code = \"with gzip.open(\\\"../data/model.pz\\\", \\\"wb\\\") as f:\\n    pickle.dump(pymc_model, f)\\n\\nwith gzip.open(\\\"../data/model_data.pz\\\", \\\"wb\\\") as f:\\n    pickle.dump(\\n        {\\n            \\\"model\\\": model,\\n            \\\"vn\\\": vn,\\n            \\\"en\\\": en,\\n            \\\"yn\\\": yn,\\n            \\\"xn\\\": xn,\\n            \\\"x_inds\\\": x_inds,\\n            \\\"e_inds\\\": e_inds,\\n            \\\"v_inds\\\": v_inds,\\n            #'m_labels': m_labels,\\n            \\\"r_labels\\\": r_labels,\\n            \\\"ll\\\": ll,\\n            \\\"v_star\\\": v_star,\\n        },\\n        f,\\n    )\";\n",
       "                var nbb_cells = Jupyter.notebook.get_cells();\n",
       "                for (var i = 0; i < nbb_cells.length; ++i) {\n",
       "                    if (nbb_cells[i].input_prompt_number == nbb_cell_id) {\n",
       "                        if (nbb_cells[i].get_text() == nbb_unformatted_code) {\n",
       "                             nbb_cells[i].set_text(nbb_formatted_code);\n",
       "                        }\n",
       "                        break;\n",
       "                    }\n",
       "                }\n",
       "            }, 500);\n",
       "            "
      ],
      "text/plain": [
       "<IPython.core.display.Javascript object>"
      ]
     },
     "metadata": {},
     "output_type": "display_data"
    }
   ],
   "source": [
    "with gzip.open('../data/model.pz', 'wb') as f:\n",
    "     pickle.dump(pymc_model, f)\n",
    "\n",
    "with gzip.open('../data/model_data.pz', 'wb') as f:\n",
    "    pickle.dump({\n",
    "        'model': model,\n",
    "        'vn': vn,\n",
    "        'en': en,\n",
    "        'yn': yn,\n",
    "        'xn': xn,\n",
    "        'x_inds': x_inds,\n",
    "        'e_inds': e_inds,\n",
    "        'v_inds': v_inds,\n",
    "        #'m_labels': m_labels,\n",
    "        'r_labels': r_labels,\n",
    "        'll': ll,\n",
    "        'v_star': v_star\n",
    "    }\n",
    "        , f)\n"
   ]
  },
  {
   "cell_type": "code",
   "execution_count": 6,
   "metadata": {},
   "outputs": [
    {
     "name": "stderr",
     "output_type": "stream",
     "text": [
      "/Users/zuck016/.pyenv/versions/anaconda3-2020.11/envs/idp_new/lib/python3.6/site-packages/statsmodels/tools/_testing.py:19: FutureWarning: pandas.util.testing is deprecated. Use the functions in the public API at pandas.testing instead.\n",
      "  import pandas.util.testing as tm\n"
     ]
    },
    {
     "data": {
      "application/javascript": [
       "\n",
       "            setTimeout(function() {\n",
       "                var nbb_cell_id = 6;\n",
       "                var nbb_unformatted_code = \"import matplotlib.pyplot as plt\\nimport seaborn as sns\\n\\nsns.set(context=\\\"talk\\\", style=\\\"ticks\\\", color_codes=True)\\n\\nfrom tqdm import tqdm\\n\\n%matplotlib inline\";\n",
       "                var nbb_formatted_code = \"import matplotlib.pyplot as plt\\nimport seaborn as sns\\n\\nsns.set(context=\\\"talk\\\", style=\\\"ticks\\\", color_codes=True)\\n\\nfrom tqdm import tqdm\\n\\n%matplotlib inline\";\n",
       "                var nbb_cells = Jupyter.notebook.get_cells();\n",
       "                for (var i = 0; i < nbb_cells.length; ++i) {\n",
       "                    if (nbb_cells[i].input_prompt_number == nbb_cell_id) {\n",
       "                        if (nbb_cells[i].get_text() == nbb_unformatted_code) {\n",
       "                             nbb_cells[i].set_text(nbb_formatted_code);\n",
       "                        }\n",
       "                        break;\n",
       "                    }\n",
       "                }\n",
       "            }, 500);\n",
       "            "
      ],
      "text/plain": [
       "<IPython.core.display.Javascript object>"
      ]
     },
     "metadata": {},
     "output_type": "display_data"
    }
   ],
   "source": [
    "import matplotlib.pyplot as plt\n",
    "import seaborn as sns\n",
    "\n",
    "sns.set(context=\"talk\", style=\"ticks\", color_codes=True)\n",
    "\n",
    "from tqdm import tqdm\n",
    "\n",
    "%matplotlib inline"
   ]
  },
  {
   "cell_type": "code",
   "execution_count": 11,
   "metadata": {},
   "outputs": [
    {
     "data": {
      "text/plain": [
       "'A.niger_advi_50k_w_e.pgz'"
      ]
     },
     "execution_count": 11,
     "metadata": {},
     "output_type": "execute_result"
    },
    {
     "data": {
      "application/javascript": [
       "\n",
       "            setTimeout(function() {\n",
       "                var nbb_cell_id = 11;\n",
       "                var nbb_unformatted_code = \"advi_file\";\n",
       "                var nbb_formatted_code = \"advi_file\";\n",
       "                var nbb_cells = Jupyter.notebook.get_cells();\n",
       "                for (var i = 0; i < nbb_cells.length; ++i) {\n",
       "                    if (nbb_cells[i].input_prompt_number == nbb_cell_id) {\n",
       "                        if (nbb_cells[i].get_text() == nbb_unformatted_code) {\n",
       "                             nbb_cells[i].set_text(nbb_formatted_code);\n",
       "                        }\n",
       "                        break;\n",
       "                    }\n",
       "                }\n",
       "            }, 500);\n",
       "            "
      ],
      "text/plain": [
       "<IPython.core.display.Javascript object>"
      ]
     },
     "metadata": {},
     "output_type": "display_data"
    }
   ],
   "source": [
    "advi_file"
   ]
  },
  {
   "cell_type": "markdown",
   "metadata": {},
   "source": [
    "load the previously stored approximation"
   ]
  },
  {
   "cell_type": "code",
   "execution_count": 10,
   "metadata": {},
   "outputs": [
    {
     "name": "stderr",
     "output_type": "stream",
     "text": [
      "WARNING (theano.tensor.blas): We did not find a dynamic library in the library_dir of the library we use for blas. If you use ATLAS, make sure to compile it with dynamics library.\n"
     ]
    },
    {
     "data": {
      "application/javascript": [
       "\n",
       "            setTimeout(function() {\n",
       "                var nbb_cell_id = 10;\n",
       "                var nbb_unformatted_code = \"import gzip\\nimport pickle\\n\\nwith gzip.open(f\\\"../src/{advi_file}\\\", \\\"rb\\\") as f:\\n    inference_data = pickle.load(f)\";\n",
       "                var nbb_formatted_code = \"import gzip\\nimport pickle\\n\\nwith gzip.open(f\\\"../src/{advi_file}\\\", \\\"rb\\\") as f:\\n    inference_data = pickle.load(f)\";\n",
       "                var nbb_cells = Jupyter.notebook.get_cells();\n",
       "                for (var i = 0; i < nbb_cells.length; ++i) {\n",
       "                    if (nbb_cells[i].input_prompt_number == nbb_cell_id) {\n",
       "                        if (nbb_cells[i].get_text() == nbb_unformatted_code) {\n",
       "                             nbb_cells[i].set_text(nbb_formatted_code);\n",
       "                        }\n",
       "                        break;\n",
       "                    }\n",
       "                }\n",
       "            }, 500);\n",
       "            "
      ],
      "text/plain": [
       "<IPython.core.display.Javascript object>"
      ]
     },
     "metadata": {},
     "output_type": "display_data"
    }
   ],
   "source": [
    "import gzip\n",
    "import pickle\n",
    "\n",
    "with gzip.open(f\"../src/{advi_file}\", \"rb\") as f:\n",
    "    inference_data = pickle.load(f)"
   ]
  },
  {
   "cell_type": "code",
   "execution_count": 12,
   "metadata": {},
   "outputs": [
    {
     "data": {
      "application/javascript": [
       "\n",
       "            setTimeout(function() {\n",
       "                var nbb_cell_id = 12;\n",
       "                var nbb_unformatted_code = \"trace, hist, approx = inference_data['trace'], inference_data['hist'], inference_data['approx']\";\n",
       "                var nbb_formatted_code = \"trace, hist, approx = (\\n    inference_data[\\\"trace\\\"],\\n    inference_data[\\\"hist\\\"],\\n    inference_data[\\\"approx\\\"],\\n)\";\n",
       "                var nbb_cells = Jupyter.notebook.get_cells();\n",
       "                for (var i = 0; i < nbb_cells.length; ++i) {\n",
       "                    if (nbb_cells[i].input_prompt_number == nbb_cell_id) {\n",
       "                        if (nbb_cells[i].get_text() == nbb_unformatted_code) {\n",
       "                             nbb_cells[i].set_text(nbb_formatted_code);\n",
       "                        }\n",
       "                        break;\n",
       "                    }\n",
       "                }\n",
       "            }, 500);\n",
       "            "
      ],
      "text/plain": [
       "<IPython.core.display.Javascript object>"
      ]
     },
     "metadata": {},
     "output_type": "display_data"
    }
   ],
   "source": [
    "trace, hist, approx = inference_data['trace'], inference_data['hist'], inference_data['approx']\n"
   ]
  },
  {
   "cell_type": "markdown",
   "metadata": {},
   "source": [
    "## plot of ELBO convergence vs iteration\n",
    "\n",
    "TODO:  Use previous ADVI inference as a \"warm-start\" to finish out at 40k"
   ]
  },
  {
   "cell_type": "code",
   "execution_count": 13,
   "metadata": {},
   "outputs": [
    {
     "data": {
      "image/png": "[encoded data removed]",
      "text/plain": [
       "<Figure size 432x288 with 1 Axes>"
      ]
     },
     "metadata": {
      "needs_background": "light"
     },
     "output_type": "display_data"
    },
    {
     "data": {
      "application/javascript": [
       "\n",
       "            setTimeout(function() {\n",
       "                var nbb_cell_id = 13;\n",
       "                var nbb_unformatted_code = \"import matplotlib.pyplot as plt\\n\\nfig = plt.figure()\\nax = fig.add_subplot(111)\\n\\nax.semilogy(hist.hist, \\\"-\\\", ms=1, rasterized=True)\\nax.set_xlim([0, n_iterations])\\n\\nsns.despine(offset=10)\\nax.set_xlabel(\\\"Iteration\\\")\\nax.set_ylabel(\\\"-ELBO\\\")\\nax.set_title(\\\"Multiomics ADVI convergence\\\")\\n\\nplt.tight_layout()\\n\\nplt.savefig(f\\\"../figures/A.niger_{n_iterations:E}_advi.svg\\\")\";\n",
       "                var nbb_formatted_code = \"import matplotlib.pyplot as plt\\n\\nfig = plt.figure()\\nax = fig.add_subplot(111)\\n\\nax.semilogy(hist.hist, \\\"-\\\", ms=1, rasterized=True)\\nax.set_xlim([0, n_iterations])\\n\\nsns.despine(offset=10)\\nax.set_xlabel(\\\"Iteration\\\")\\nax.set_ylabel(\\\"-ELBO\\\")\\nax.set_title(\\\"Multiomics ADVI convergence\\\")\\n\\nplt.tight_layout()\\n\\nplt.savefig(f\\\"../figures/A.niger_{n_iterations:E}_advi.svg\\\")\";\n",
       "                var nbb_cells = Jupyter.notebook.get_cells();\n",
       "                for (var i = 0; i < nbb_cells.length; ++i) {\n",
       "                    if (nbb_cells[i].input_prompt_number == nbb_cell_id) {\n",
       "                        if (nbb_cells[i].get_text() == nbb_unformatted_code) {\n",
       "                             nbb_cells[i].set_text(nbb_formatted_code);\n",
       "                        }\n",
       "                        break;\n",
       "                    }\n",
       "                }\n",
       "            }, 500);\n",
       "            "
      ],
      "text/plain": [
       "<IPython.core.display.Javascript object>"
      ]
     },
     "metadata": {},
     "output_type": "display_data"
    }
   ],
   "source": [
    "import matplotlib.pyplot as plt\n",
    "\n",
    "fig = plt.figure()\n",
    "ax = fig.add_subplot(111)\n",
    "\n",
    "ax.semilogy(hist.hist, \"-\", ms=1, rasterized=True)\n",
    "ax.set_xlim([0, n_iterations])\n",
    "\n",
    "sns.despine(offset=10)\n",
    "ax.set_xlabel(\"Iteration\")\n",
    "ax.set_ylabel(\"-ELBO\")\n",
    "ax.set_title(\"Multiomics ADVI convergence\")\n",
    "\n",
    "plt.tight_layout()\n",
    "\n",
    "plt.savefig(f\"../figures/A.niger_{n_iterations:E}_advi.svg\")"
   ]
  },
  {
   "cell_type": "markdown",
   "metadata": {},
   "source": [
    "Sample the approximation to generate a 'trace' and posterior predictive distribution"
   ]
  },
  {
   "cell_type": "code",
   "execution_count": 9,
   "metadata": {
    "scrolled": true
   },
   "outputs": [
    {
     "name": "stderr",
     "output_type": "stream",
     "text": [
      "/opt/anaconda3/envs/idp_new/lib/python3.6/site-packages/ipykernel_launcher.py:4 \u001b[1;31mDeprecationWarning\u001b[0m: sample_ppc() is deprecated.  Please use sample_posterior_predictive()\n",
      "  0%|          | 0/500 [00:00<?, ?it/s]\n"
     ]
    },
    {
     "ename": "TypeError",
     "evalue": "Bad input argument to theano function with name \"/opt/anaconda3/envs/idp_new/lib/python3.6/site-packages/pymc3/distributions/distribution.py:431\" at index 0 (0-based). Wrong number of dimensions: expected 1, got 0 with shape ().",
     "output_type": "error",
     "traceback": [
      "\u001b[0;31m---------------------------------------------------------------------------\u001b[0m",
      "\u001b[0;31mTypeError\u001b[0m                                 Traceback (most recent call last)",
      "\u001b[0;32m/opt/anaconda3/envs/idp_new/lib/python3.6/site-packages/pymc3/distributions/distribution.py\u001b[0m in \u001b[0;36m_draw_value\u001b[0;34m(param, point, givens, size)\u001b[0m\n\u001b[1;32m    476\u001b[0m                 \u001b[0;32mtry\u001b[0m\u001b[0;34m:\u001b[0m\u001b[0;34m\u001b[0m\u001b[0;34m\u001b[0m\u001b[0m\n\u001b[0;32m--> 477\u001b[0;31m                     \u001b[0mdist_tmp\u001b[0m\u001b[0;34m.\u001b[0m\u001b[0mrandom\u001b[0m\u001b[0;34m(\u001b[0m\u001b[0mpoint\u001b[0m\u001b[0;34m=\u001b[0m\u001b[0mpoint\u001b[0m\u001b[0;34m,\u001b[0m \u001b[0msize\u001b[0m\u001b[0;34m=\u001b[0m\u001b[0msize\u001b[0m\u001b[0;34m)\u001b[0m\u001b[0;34m\u001b[0m\u001b[0;34m\u001b[0m\u001b[0m\n\u001b[0m\u001b[1;32m    478\u001b[0m                 \u001b[0;32mexcept\u001b[0m \u001b[0;34m(\u001b[0m\u001b[0mValueError\u001b[0m\u001b[0;34m,\u001b[0m \u001b[0mTypeError\u001b[0m\u001b[0;34m)\u001b[0m\u001b[0;34m:\u001b[0m\u001b[0;34m\u001b[0m\u001b[0;34m\u001b[0m\u001b[0m\n",
      "\u001b[0;32m/opt/anaconda3/envs/idp_new/lib/python3.6/site-packages/pymc3/distributions/continuous.py\u001b[0m in \u001b[0;36mrandom\u001b[0;34m(self, point, size)\u001b[0m\n\u001b[1;32m    456\u001b[0m         mu, tau, _ = draw_values([self.mu, self.tau, self.sd],\n\u001b[0;32m--> 457\u001b[0;31m                                  point=point, size=size)\n\u001b[0m\u001b[1;32m    458\u001b[0m         return generate_samples(stats.norm.rvs, loc=mu, scale=tau**-0.5,\n",
      "\u001b[0;32m/opt/anaconda3/envs/idp_new/lib/python3.6/site-packages/pymc3/distributions/distribution.py\u001b[0m in \u001b[0;36mdraw_values\u001b[0;34m(params, point, size)\u001b[0m\n\u001b[1;32m    399\u001b[0m                                             \u001b[0mgivens\u001b[0m\u001b[0;34m=\u001b[0m\u001b[0mgivens\u001b[0m\u001b[0;34m.\u001b[0m\u001b[0mvalues\u001b[0m\u001b[0;34m(\u001b[0m\u001b[0;34m)\u001b[0m\u001b[0;34m,\u001b[0m\u001b[0;34m\u001b[0m\u001b[0;34m\u001b[0m\u001b[0m\n\u001b[0;32m--> 400\u001b[0;31m                                             size=size)\n\u001b[0m\u001b[1;32m    401\u001b[0m                         \u001b[0mevaluated\u001b[0m\u001b[0;34m[\u001b[0m\u001b[0mparam_idx\u001b[0m\u001b[0;34m]\u001b[0m \u001b[0;34m=\u001b[0m \u001b[0mdrawn\u001b[0m\u001b[0;34m[\u001b[0m\u001b[0mparam\u001b[0m\u001b[0;34m]\u001b[0m \u001b[0;34m=\u001b[0m \u001b[0mvalue\u001b[0m\u001b[0;34m\u001b[0m\u001b[0;34m\u001b[0m\u001b[0m\n",
      "\u001b[0;32m/opt/anaconda3/envs/idp_new/lib/python3.6/site-packages/pymc3/distributions/distribution.py\u001b[0m in \u001b[0;36m_draw_value\u001b[0;34m(param, point, givens, size)\u001b[0m\n\u001b[1;32m    507\u001b[0m                         for var, val in zip(variables, values))):\n\u001b[0;32m--> 508\u001b[0;31m                 \u001b[0moutput\u001b[0m \u001b[0;34m=\u001b[0m \u001b[0mnp\u001b[0m\u001b[0;34m.\u001b[0m\u001b[0marray\u001b[0m\u001b[0;34m(\u001b[0m\u001b[0;34m[\u001b[0m\u001b[0mfunc\u001b[0m\u001b[0;34m(\u001b[0m\u001b[0;34m*\u001b[0m\u001b[0mv\u001b[0m\u001b[0;34m)\u001b[0m \u001b[0;32mfor\u001b[0m \u001b[0mv\u001b[0m \u001b[0;32min\u001b[0m \u001b[0mzip\u001b[0m\u001b[0;34m(\u001b[0m\u001b[0;34m*\u001b[0m\u001b[0mvalues\u001b[0m\u001b[0;34m)\u001b[0m\u001b[0;34m]\u001b[0m\u001b[0;34m)\u001b[0m\u001b[0;34m\u001b[0m\u001b[0;34m\u001b[0m\u001b[0m\n\u001b[0m\u001b[1;32m    509\u001b[0m             elif (size is not None and any((val.ndim > var.ndim)\n",
      "\u001b[0;32m/opt/anaconda3/envs/idp_new/lib/python3.6/site-packages/pymc3/distributions/distribution.py\u001b[0m in \u001b[0;36m<listcomp>\u001b[0;34m(.0)\u001b[0m\n\u001b[1;32m    507\u001b[0m                         for var, val in zip(variables, values))):\n\u001b[0;32m--> 508\u001b[0;31m                 \u001b[0moutput\u001b[0m \u001b[0;34m=\u001b[0m \u001b[0mnp\u001b[0m\u001b[0;34m.\u001b[0m\u001b[0marray\u001b[0m\u001b[0;34m(\u001b[0m\u001b[0;34m[\u001b[0m\u001b[0mfunc\u001b[0m\u001b[0;34m(\u001b[0m\u001b[0;34m*\u001b[0m\u001b[0mv\u001b[0m\u001b[0;34m)\u001b[0m \u001b[0;32mfor\u001b[0m \u001b[0mv\u001b[0m \u001b[0;32min\u001b[0m \u001b[0mzip\u001b[0m\u001b[0;34m(\u001b[0m\u001b[0;34m*\u001b[0m\u001b[0mvalues\u001b[0m\u001b[0;34m)\u001b[0m\u001b[0;34m]\u001b[0m\u001b[0;34m)\u001b[0m\u001b[0;34m\u001b[0m\u001b[0;34m\u001b[0m\u001b[0m\n\u001b[0m\u001b[1;32m    509\u001b[0m             elif (size is not None and any((val.ndim > var.ndim)\n",
      "\u001b[0;32m/opt/anaconda3/envs/idp_new/lib/python3.6/site-packages/theano/compile/function_module.py\u001b[0m in \u001b[0;36m__call__\u001b[0;34m(self, *args, **kwargs)\u001b[0m\n\u001b[1;32m    812\u001b[0m                             \u001b[0marg\u001b[0m\u001b[0;34m,\u001b[0m \u001b[0mstrict\u001b[0m\u001b[0;34m=\u001b[0m\u001b[0ms\u001b[0m\u001b[0;34m.\u001b[0m\u001b[0mstrict\u001b[0m\u001b[0;34m,\u001b[0m\u001b[0;34m\u001b[0m\u001b[0;34m\u001b[0m\u001b[0m\n\u001b[0;32m--> 813\u001b[0;31m                             allow_downcast=s.allow_downcast)\n\u001b[0m\u001b[1;32m    814\u001b[0m \u001b[0;34m\u001b[0m\u001b[0m\n",
      "\u001b[0;32m/opt/anaconda3/envs/idp_new/lib/python3.6/site-packages/theano/tensor/type.py\u001b[0m in \u001b[0;36mfilter\u001b[0;34m(self, data, strict, allow_downcast)\u001b[0m\n\u001b[1;32m    177\u001b[0m                             \" got %s with shape %s.\" % (self.ndim, data.ndim,\n\u001b[0;32m--> 178\u001b[0;31m                                                         data.shape))\n\u001b[0m\u001b[1;32m    179\u001b[0m         \u001b[0;32mif\u001b[0m \u001b[0;32mnot\u001b[0m \u001b[0mdata\u001b[0m\u001b[0;34m.\u001b[0m\u001b[0mflags\u001b[0m\u001b[0;34m.\u001b[0m\u001b[0maligned\u001b[0m\u001b[0;34m:\u001b[0m\u001b[0;34m\u001b[0m\u001b[0;34m\u001b[0m\u001b[0m\n",
      "\u001b[0;31mTypeError\u001b[0m: Bad input argument to theano function with name \"/opt/anaconda3/envs/idp_new/lib/python3.6/site-packages/pymc3/distributions/distribution.py:431\" at index 0 (0-based). Wrong number of dimensions: expected 1, got 0 with shape ().",
      "\nDuring handling of the above exception, another exception occurred:\n",
      "\u001b[0;31mTypeError\u001b[0m                                 Traceback (most recent call last)",
      "\u001b[0;32m<ipython-input-9-e76a05b1d69f>\u001b[0m in \u001b[0;36m<module>\u001b[0;34m\u001b[0m\n\u001b[1;32m      2\u001b[0m \u001b[0;34m\u001b[0m\u001b[0m\n\u001b[1;32m      3\u001b[0m     \u001b[0mtrace\u001b[0m \u001b[0;34m=\u001b[0m \u001b[0mapprox\u001b[0m\u001b[0;34m.\u001b[0m\u001b[0mapprox\u001b[0m\u001b[0;34m.\u001b[0m\u001b[0msample\u001b[0m\u001b[0;34m(\u001b[0m\u001b[0;36m500\u001b[0m\u001b[0;34m)\u001b[0m\u001b[0;34m\u001b[0m\u001b[0;34m\u001b[0m\u001b[0m\n\u001b[0;32m----> 4\u001b[0;31m     \u001b[0mppc\u001b[0m \u001b[0;34m=\u001b[0m \u001b[0mpm\u001b[0m\u001b[0;34m.\u001b[0m\u001b[0msample_ppc\u001b[0m\u001b[0;34m(\u001b[0m\u001b[0mtrace\u001b[0m\u001b[0;34m)\u001b[0m\u001b[0;34m\u001b[0m\u001b[0;34m\u001b[0m\u001b[0m\n\u001b[0m",
      "\u001b[0;32m/opt/anaconda3/envs/idp_new/lib/python3.6/site-packages/pymc3/sampling.py\u001b[0m in \u001b[0;36msample_ppc\u001b[0;34m(*args, **kwargs)\u001b[0m\n\u001b[1;32m   1151\u001b[0m     \u001b[0mmessage\u001b[0m \u001b[0;34m=\u001b[0m \u001b[0;34m'sample_ppc() is deprecated.  Please use sample_posterior_predictive()'\u001b[0m\u001b[0;34m\u001b[0m\u001b[0;34m\u001b[0m\u001b[0m\n\u001b[1;32m   1152\u001b[0m     \u001b[0mwarnings\u001b[0m\u001b[0;34m.\u001b[0m\u001b[0mwarn\u001b[0m\u001b[0;34m(\u001b[0m\u001b[0mmessage\u001b[0m\u001b[0;34m,\u001b[0m \u001b[0mDeprecationWarning\u001b[0m\u001b[0;34m,\u001b[0m \u001b[0mstacklevel\u001b[0m\u001b[0;34m=\u001b[0m\u001b[0;36m2\u001b[0m\u001b[0;34m)\u001b[0m\u001b[0;34m\u001b[0m\u001b[0;34m\u001b[0m\u001b[0m\n\u001b[0;32m-> 1153\u001b[0;31m     \u001b[0;32mreturn\u001b[0m \u001b[0msample_posterior_predictive\u001b[0m\u001b[0;34m(\u001b[0m\u001b[0;34m*\u001b[0m\u001b[0margs\u001b[0m\u001b[0;34m,\u001b[0m \u001b[0;34m**\u001b[0m\u001b[0mkwargs\u001b[0m\u001b[0;34m)\u001b[0m\u001b[0;34m\u001b[0m\u001b[0;34m\u001b[0m\u001b[0m\n\u001b[0m\u001b[1;32m   1154\u001b[0m \u001b[0;34m\u001b[0m\u001b[0m\n\u001b[1;32m   1155\u001b[0m \u001b[0;34m\u001b[0m\u001b[0m\n",
      "\u001b[0;32m/opt/anaconda3/envs/idp_new/lib/python3.6/site-packages/pymc3/sampling.py\u001b[0m in \u001b[0;36msample_posterior_predictive\u001b[0;34m(trace, samples, model, vars, size, random_seed, progressbar)\u001b[0m\n\u001b[1;32m   1133\u001b[0m                 \u001b[0mparam\u001b[0m \u001b[0;34m=\u001b[0m \u001b[0mtrace\u001b[0m\u001b[0;34m[\u001b[0m\u001b[0midx\u001b[0m \u001b[0;34m%\u001b[0m \u001b[0mlen_trace\u001b[0m\u001b[0;34m]\u001b[0m\u001b[0;34m\u001b[0m\u001b[0;34m\u001b[0m\u001b[0m\n\u001b[1;32m   1134\u001b[0m \u001b[0;34m\u001b[0m\u001b[0m\n\u001b[0;32m-> 1135\u001b[0;31m             \u001b[0mvalues\u001b[0m \u001b[0;34m=\u001b[0m \u001b[0mdraw_values\u001b[0m\u001b[0;34m(\u001b[0m\u001b[0mvars\u001b[0m\u001b[0;34m,\u001b[0m \u001b[0mpoint\u001b[0m\u001b[0;34m=\u001b[0m\u001b[0mparam\u001b[0m\u001b[0;34m,\u001b[0m \u001b[0msize\u001b[0m\u001b[0;34m=\u001b[0m\u001b[0msize\u001b[0m\u001b[0;34m)\u001b[0m\u001b[0;34m\u001b[0m\u001b[0;34m\u001b[0m\u001b[0m\n\u001b[0m\u001b[1;32m   1136\u001b[0m             \u001b[0;32mfor\u001b[0m \u001b[0mk\u001b[0m\u001b[0;34m,\u001b[0m \u001b[0mv\u001b[0m \u001b[0;32min\u001b[0m \u001b[0mzip\u001b[0m\u001b[0;34m(\u001b[0m\u001b[0mvars\u001b[0m\u001b[0;34m,\u001b[0m \u001b[0mvalues\u001b[0m\u001b[0;34m)\u001b[0m\u001b[0;34m:\u001b[0m\u001b[0;34m\u001b[0m\u001b[0;34m\u001b[0m\u001b[0m\n\u001b[1;32m   1137\u001b[0m                 \u001b[0mppc_trace\u001b[0m\u001b[0;34m[\u001b[0m\u001b[0mk\u001b[0m\u001b[0;34m.\u001b[0m\u001b[0mname\u001b[0m\u001b[0;34m]\u001b[0m\u001b[0;34m.\u001b[0m\u001b[0mappend\u001b[0m\u001b[0;34m(\u001b[0m\u001b[0mv\u001b[0m\u001b[0;34m)\u001b[0m\u001b[0;34m\u001b[0m\u001b[0;34m\u001b[0m\u001b[0m\n",
      "\u001b[0;32m/opt/anaconda3/envs/idp_new/lib/python3.6/site-packages/pymc3/distributions/distribution.py\u001b[0m in \u001b[0;36mdraw_values\u001b[0;34m(params, point, size)\u001b[0m\n\u001b[1;32m    398\u001b[0m                                             \u001b[0mpoint\u001b[0m\u001b[0;34m=\u001b[0m\u001b[0mpoint\u001b[0m\u001b[0;34m,\u001b[0m\u001b[0;34m\u001b[0m\u001b[0;34m\u001b[0m\u001b[0m\n\u001b[1;32m    399\u001b[0m                                             \u001b[0mgivens\u001b[0m\u001b[0;34m=\u001b[0m\u001b[0mgivens\u001b[0m\u001b[0;34m.\u001b[0m\u001b[0mvalues\u001b[0m\u001b[0;34m(\u001b[0m\u001b[0;34m)\u001b[0m\u001b[0;34m,\u001b[0m\u001b[0;34m\u001b[0m\u001b[0;34m\u001b[0m\u001b[0m\n\u001b[0;32m--> 400\u001b[0;31m                                             size=size)\n\u001b[0m\u001b[1;32m    401\u001b[0m                         \u001b[0mevaluated\u001b[0m\u001b[0;34m[\u001b[0m\u001b[0mparam_idx\u001b[0m\u001b[0;34m]\u001b[0m \u001b[0;34m=\u001b[0m \u001b[0mdrawn\u001b[0m\u001b[0;34m[\u001b[0m\u001b[0mparam\u001b[0m\u001b[0;34m]\u001b[0m \u001b[0;34m=\u001b[0m \u001b[0mvalue\u001b[0m\u001b[0;34m\u001b[0m\u001b[0;34m\u001b[0m\u001b[0m\n\u001b[1;32m    402\u001b[0m                         \u001b[0mgivens\u001b[0m\u001b[0;34m[\u001b[0m\u001b[0mparam\u001b[0m\u001b[0;34m.\u001b[0m\u001b[0mname\u001b[0m\u001b[0;34m]\u001b[0m \u001b[0;34m=\u001b[0m \u001b[0;34m(\u001b[0m\u001b[0mparam\u001b[0m\u001b[0;34m,\u001b[0m \u001b[0mvalue\u001b[0m\u001b[0;34m)\u001b[0m\u001b[0;34m\u001b[0m\u001b[0;34m\u001b[0m\u001b[0m\n",
      "\u001b[0;32m/opt/anaconda3/envs/idp_new/lib/python3.6/site-packages/pymc3/distributions/distribution.py\u001b[0m in \u001b[0;36m_draw_value\u001b[0;34m(param, point, givens, size)\u001b[0m\n\u001b[1;32m    481\u001b[0m                     \u001b[0mdist_tmp\u001b[0m\u001b[0;34m.\u001b[0m\u001b[0mshape\u001b[0m \u001b[0;34m=\u001b[0m \u001b[0mnp\u001b[0m\u001b[0;34m.\u001b[0m\u001b[0marray\u001b[0m\u001b[0;34m(\u001b[0m\u001b[0;34m[\u001b[0m\u001b[0;34m]\u001b[0m\u001b[0;34m)\u001b[0m\u001b[0;34m\u001b[0m\u001b[0;34m\u001b[0m\u001b[0m\n\u001b[1;32m    482\u001b[0m                     val = np.atleast_1d(dist_tmp.random(point=point,\n\u001b[0;32m--> 483\u001b[0;31m                                                         size=None))\n\u001b[0m\u001b[1;32m    484\u001b[0m                     \u001b[0;31m# Sometimes point may change the size of val but not the\u001b[0m\u001b[0;34m\u001b[0m\u001b[0;34m\u001b[0m\u001b[0;34m\u001b[0m\u001b[0m\n\u001b[1;32m    485\u001b[0m                     \u001b[0;31m# distribution's shape\u001b[0m\u001b[0;34m\u001b[0m\u001b[0;34m\u001b[0m\u001b[0;34m\u001b[0m\u001b[0m\n",
      "\u001b[0;32m/opt/anaconda3/envs/idp_new/lib/python3.6/site-packages/pymc3/distributions/continuous.py\u001b[0m in \u001b[0;36mrandom\u001b[0;34m(self, point, size)\u001b[0m\n\u001b[1;32m    455\u001b[0m         \"\"\"\n\u001b[1;32m    456\u001b[0m         mu, tau, _ = draw_values([self.mu, self.tau, self.sd],\n\u001b[0;32m--> 457\u001b[0;31m                                  point=point, size=size)\n\u001b[0m\u001b[1;32m    458\u001b[0m         return generate_samples(stats.norm.rvs, loc=mu, scale=tau**-0.5,\n\u001b[1;32m    459\u001b[0m                                 \u001b[0mdist_shape\u001b[0m\u001b[0;34m=\u001b[0m\u001b[0mself\u001b[0m\u001b[0;34m.\u001b[0m\u001b[0mshape\u001b[0m\u001b[0;34m,\u001b[0m\u001b[0;34m\u001b[0m\u001b[0;34m\u001b[0m\u001b[0m\n",
      "\u001b[0;32m/opt/anaconda3/envs/idp_new/lib/python3.6/site-packages/pymc3/distributions/distribution.py\u001b[0m in \u001b[0;36mdraw_values\u001b[0;34m(params, point, size)\u001b[0m\n\u001b[1;32m    398\u001b[0m                                             \u001b[0mpoint\u001b[0m\u001b[0;34m=\u001b[0m\u001b[0mpoint\u001b[0m\u001b[0;34m,\u001b[0m\u001b[0;34m\u001b[0m\u001b[0;34m\u001b[0m\u001b[0m\n\u001b[1;32m    399\u001b[0m                                             \u001b[0mgivens\u001b[0m\u001b[0;34m=\u001b[0m\u001b[0mgivens\u001b[0m\u001b[0;34m.\u001b[0m\u001b[0mvalues\u001b[0m\u001b[0;34m(\u001b[0m\u001b[0;34m)\u001b[0m\u001b[0;34m,\u001b[0m\u001b[0;34m\u001b[0m\u001b[0;34m\u001b[0m\u001b[0m\n\u001b[0;32m--> 400\u001b[0;31m                                             size=size)\n\u001b[0m\u001b[1;32m    401\u001b[0m                         \u001b[0mevaluated\u001b[0m\u001b[0;34m[\u001b[0m\u001b[0mparam_idx\u001b[0m\u001b[0;34m]\u001b[0m \u001b[0;34m=\u001b[0m \u001b[0mdrawn\u001b[0m\u001b[0;34m[\u001b[0m\u001b[0mparam\u001b[0m\u001b[0;34m]\u001b[0m \u001b[0;34m=\u001b[0m \u001b[0mvalue\u001b[0m\u001b[0;34m\u001b[0m\u001b[0;34m\u001b[0m\u001b[0m\n\u001b[1;32m    402\u001b[0m                         \u001b[0mgivens\u001b[0m\u001b[0;34m[\u001b[0m\u001b[0mparam\u001b[0m\u001b[0;34m.\u001b[0m\u001b[0mname\u001b[0m\u001b[0;34m]\u001b[0m \u001b[0;34m=\u001b[0m \u001b[0;34m(\u001b[0m\u001b[0mparam\u001b[0m\u001b[0;34m,\u001b[0m \u001b[0mvalue\u001b[0m\u001b[0;34m)\u001b[0m\u001b[0;34m\u001b[0m\u001b[0;34m\u001b[0m\u001b[0m\n",
      "\u001b[0;32m/opt/anaconda3/envs/idp_new/lib/python3.6/site-packages/pymc3/distributions/distribution.py\u001b[0m in \u001b[0;36m_draw_value\u001b[0;34m(param, point, givens, size)\u001b[0m\n\u001b[1;32m    506\u001b[0m                 not all(var.dshape == getattr(val, 'shape', tuple())\n\u001b[1;32m    507\u001b[0m                         for var, val in zip(variables, values))):\n\u001b[0;32m--> 508\u001b[0;31m                 \u001b[0moutput\u001b[0m \u001b[0;34m=\u001b[0m \u001b[0mnp\u001b[0m\u001b[0;34m.\u001b[0m\u001b[0marray\u001b[0m\u001b[0;34m(\u001b[0m\u001b[0;34m[\u001b[0m\u001b[0mfunc\u001b[0m\u001b[0;34m(\u001b[0m\u001b[0;34m*\u001b[0m\u001b[0mv\u001b[0m\u001b[0;34m)\u001b[0m \u001b[0;32mfor\u001b[0m \u001b[0mv\u001b[0m \u001b[0;32min\u001b[0m \u001b[0mzip\u001b[0m\u001b[0;34m(\u001b[0m\u001b[0;34m*\u001b[0m\u001b[0mvalues\u001b[0m\u001b[0;34m)\u001b[0m\u001b[0;34m]\u001b[0m\u001b[0;34m)\u001b[0m\u001b[0;34m\u001b[0m\u001b[0;34m\u001b[0m\u001b[0m\n\u001b[0m\u001b[1;32m    509\u001b[0m             elif (size is not None and any((val.ndim > var.ndim)\n\u001b[1;32m    510\u001b[0m                   for var, val in zip(variables, values))):\n",
      "\u001b[0;32m/opt/anaconda3/envs/idp_new/lib/python3.6/site-packages/pymc3/distributions/distribution.py\u001b[0m in \u001b[0;36m<listcomp>\u001b[0;34m(.0)\u001b[0m\n\u001b[1;32m    506\u001b[0m                 not all(var.dshape == getattr(val, 'shape', tuple())\n\u001b[1;32m    507\u001b[0m                         for var, val in zip(variables, values))):\n\u001b[0;32m--> 508\u001b[0;31m                 \u001b[0moutput\u001b[0m \u001b[0;34m=\u001b[0m \u001b[0mnp\u001b[0m\u001b[0;34m.\u001b[0m\u001b[0marray\u001b[0m\u001b[0;34m(\u001b[0m\u001b[0;34m[\u001b[0m\u001b[0mfunc\u001b[0m\u001b[0;34m(\u001b[0m\u001b[0;34m*\u001b[0m\u001b[0mv\u001b[0m\u001b[0;34m)\u001b[0m \u001b[0;32mfor\u001b[0m \u001b[0mv\u001b[0m \u001b[0;32min\u001b[0m \u001b[0mzip\u001b[0m\u001b[0;34m(\u001b[0m\u001b[0;34m*\u001b[0m\u001b[0mvalues\u001b[0m\u001b[0;34m)\u001b[0m\u001b[0;34m]\u001b[0m\u001b[0;34m)\u001b[0m\u001b[0;34m\u001b[0m\u001b[0;34m\u001b[0m\u001b[0m\n\u001b[0m\u001b[1;32m    509\u001b[0m             elif (size is not None and any((val.ndim > var.ndim)\n\u001b[1;32m    510\u001b[0m                   for var, val in zip(variables, values))):\n",
      "\u001b[0;32m/opt/anaconda3/envs/idp_new/lib/python3.6/site-packages/theano/compile/function_module.py\u001b[0m in \u001b[0;36m__call__\u001b[0;34m(self, *args, **kwargs)\u001b[0m\n\u001b[1;32m    811\u001b[0m                         s.storage[0] = s.type.filter(\n\u001b[1;32m    812\u001b[0m                             \u001b[0marg\u001b[0m\u001b[0;34m,\u001b[0m \u001b[0mstrict\u001b[0m\u001b[0;34m=\u001b[0m\u001b[0ms\u001b[0m\u001b[0;34m.\u001b[0m\u001b[0mstrict\u001b[0m\u001b[0;34m,\u001b[0m\u001b[0;34m\u001b[0m\u001b[0;34m\u001b[0m\u001b[0m\n\u001b[0;32m--> 813\u001b[0;31m                             allow_downcast=s.allow_downcast)\n\u001b[0m\u001b[1;32m    814\u001b[0m \u001b[0;34m\u001b[0m\u001b[0m\n\u001b[1;32m    815\u001b[0m                     \u001b[0;32mexcept\u001b[0m \u001b[0mException\u001b[0m \u001b[0;32mas\u001b[0m \u001b[0me\u001b[0m\u001b[0;34m:\u001b[0m\u001b[0;34m\u001b[0m\u001b[0;34m\u001b[0m\u001b[0m\n",
      "\u001b[0;32m/opt/anaconda3/envs/idp_new/lib/python3.6/site-packages/theano/tensor/type.py\u001b[0m in \u001b[0;36mfilter\u001b[0;34m(self, data, strict, allow_downcast)\u001b[0m\n\u001b[1;32m    176\u001b[0m             raise TypeError(\"Wrong number of dimensions: expected %s,\"\n\u001b[1;32m    177\u001b[0m                             \" got %s with shape %s.\" % (self.ndim, data.ndim,\n\u001b[0;32m--> 178\u001b[0;31m                                                         data.shape))\n\u001b[0m\u001b[1;32m    179\u001b[0m         \u001b[0;32mif\u001b[0m \u001b[0;32mnot\u001b[0m \u001b[0mdata\u001b[0m\u001b[0;34m.\u001b[0m\u001b[0mflags\u001b[0m\u001b[0;34m.\u001b[0m\u001b[0maligned\u001b[0m\u001b[0;34m:\u001b[0m\u001b[0;34m\u001b[0m\u001b[0;34m\u001b[0m\u001b[0m\n\u001b[1;32m    180\u001b[0m             \u001b[0;32mtry\u001b[0m\u001b[0;34m:\u001b[0m\u001b[0;34m\u001b[0m\u001b[0;34m\u001b[0m\u001b[0m\n",
      "\u001b[0;31mTypeError\u001b[0m: Bad input argument to theano function with name \"/opt/anaconda3/envs/idp_new/lib/python3.6/site-packages/pymc3/distributions/distribution.py:431\" at index 0 (0-based). Wrong number of dimensions: expected 1, got 0 with shape ()."
     ]
    },
    {
     "data": {
      "application/javascript": [
       "\n",
       "            setTimeout(function() {\n",
       "                var nbb_cell_id = 9;\n",
       "                var nbb_unformatted_code = \"with pymc_model:\\n\\n    trace = approx.approx.sample(500)\\n    ppc = pm.sample_ppc(trace)\";\n",
       "                var nbb_formatted_code = \"with pymc_model:\\n\\n    trace = approx.approx.sample(500)\\n    ppc = pm.sample_ppc(trace)\";\n",
       "                var nbb_cells = Jupyter.notebook.get_cells();\n",
       "                for (var i = 0; i < nbb_cells.length; ++i) {\n",
       "                    if (nbb_cells[i].input_prompt_number == nbb_cell_id) {\n",
       "                        if (nbb_cells[i].get_text() == nbb_unformatted_code) {\n",
       "                             nbb_cells[i].set_text(nbb_formatted_code);\n",
       "                        }\n",
       "                        break;\n",
       "                    }\n",
       "                }\n",
       "            }, 500);\n",
       "            "
      ],
      "text/plain": [
       "<IPython.core.display.Javascript object>"
      ]
     },
     "metadata": {},
     "output_type": "display_data"
    }
   ],
   "source": [
    "# Issue with getting trace\n",
    "\n",
    "with pymc_model:\n",
    "\n",
    "    trace = approx.approx.sample(500)\n",
    "    ppc = pm.sample_ppc(trace)"
   ]
  },
  {
   "cell_type": "code",
   "execution_count": 10,
   "metadata": {},
   "outputs": [
    {
     "data": {
      "application/javascript": [
       "\n",
       "            setTimeout(function() {\n",
       "                var nbb_cell_id = 10;\n",
       "                var nbb_unformatted_code = \"#with gzip.open('output_' + advi_file, 'wb') as f:\\nwith gzip.open(advi_file, 'wb') as f:\\n        pickle.dump({'approx': approx,\\n         'hist': hist,\\n         'trace': trace}, f)\";\n",
       "                var nbb_formatted_code = \"# with gzip.open('output_' + advi_file, 'wb') as f:\\nwith gzip.open(advi_file, \\\"wb\\\") as f:\\n    pickle.dump({\\\"approx\\\": approx, \\\"hist\\\": hist, \\\"trace\\\": trace}, f)\";\n",
       "                var nbb_cells = Jupyter.notebook.get_cells();\n",
       "                for (var i = 0; i < nbb_cells.length; ++i) {\n",
       "                    if (nbb_cells[i].input_prompt_number == nbb_cell_id) {\n",
       "                        if (nbb_cells[i].get_text() == nbb_unformatted_code) {\n",
       "                             nbb_cells[i].set_text(nbb_formatted_code);\n",
       "                        }\n",
       "                        break;\n",
       "                    }\n",
       "                }\n",
       "            }, 500);\n",
       "            "
      ],
      "text/plain": [
       "<IPython.core.display.Javascript object>"
      ]
     },
     "metadata": {},
     "output_type": "display_data"
    }
   ],
   "source": [
    "#with gzip.open('output_' + advi_file, 'wb') as f:\n",
    "#with gzip.open(advi_file, 'wb') as f:\n",
    "#        pickle.dump({'approx': approx,\n",
    "#         'hist': hist,\n",
    " #        'trace': trace}, f)\n"
   ]
  },
  {
   "cell_type": "code",
   "execution_count": 14,
   "metadata": {},
   "outputs": [
    {
     "data": {
      "application/javascript": [
       "\n",
       "            setTimeout(function() {\n",
       "                var nbb_cell_id = 14;\n",
       "                var nbb_unformatted_code = \"def plot_hpd(ax, real, ppc, error=True, ms=3, alpha=0.5, color=\\\"b\\\"):\\n    if error:\\n        ax.plot(\\n            np.vstack([real.values.flatten(), real.values.flatten()]),\\n            pm.hpd(ppc).reshape(-1, 2).T,\\n            color=color,\\n            lw=1,\\n            alpha=0.05,\\n            zorder=0,\\n        )\\n    ax.plot(real, np.median(ppc, 0), \\\".\\\", ms=ms, color=color, alpha=alpha, zorder=0)\";\n",
       "                var nbb_formatted_code = \"def plot_hpd(ax, real, ppc, error=True, ms=3, alpha=0.5, color=\\\"b\\\"):\\n    if error:\\n        ax.plot(\\n            np.vstack([real.values.flatten(), real.values.flatten()]),\\n            pm.hpd(ppc).reshape(-1, 2).T,\\n            color=color,\\n            lw=1,\\n            alpha=0.05,\\n            zorder=0,\\n        )\\n    ax.plot(real, np.median(ppc, 0), \\\".\\\", ms=ms, color=color, alpha=alpha, zorder=0)\";\n",
       "                var nbb_cells = Jupyter.notebook.get_cells();\n",
       "                for (var i = 0; i < nbb_cells.length; ++i) {\n",
       "                    if (nbb_cells[i].input_prompt_number == nbb_cell_id) {\n",
       "                        if (nbb_cells[i].get_text() == nbb_unformatted_code) {\n",
       "                             nbb_cells[i].set_text(nbb_formatted_code);\n",
       "                        }\n",
       "                        break;\n",
       "                    }\n",
       "                }\n",
       "            }, 500);\n",
       "            "
      ],
      "text/plain": [
       "<IPython.core.display.Javascript object>"
      ]
     },
     "metadata": {},
     "output_type": "display_data"
    }
   ],
   "source": [
    "def plot_hpd(ax, real, ppc, error=True, ms=3, alpha=0.5, color=\"b\"):\n",
    "    if error:\n",
    "        ax.plot(\n",
    "            np.vstack([real.values.flatten(), real.values.flatten()]),\n",
    "            pm.hpd(ppc).reshape(-1, 2).T,\n",
    "            color=color,\n",
    "            lw=1,\n",
    "            alpha=0.05,\n",
    "            zorder=0,\n",
    "        )\n",
    "    ax.plot(real, np.median(ppc, 0), \".\", ms=ms, color=color, alpha=alpha, zorder=0)"
   ]
  },
  {
   "cell_type": "markdown",
   "metadata": {},
   "source": [
    "Metabolites are given in relative concentrations, which actually works perfectly for this analysis.\n",
    "\n",
    "Specifically, the concentrations are given by $$x = A 2^a,$$ where $A$ is `Conversion_to_Absolute` and $a$ are the columns of `metabolites`.\n",
    "\n",
    "For a given reference state $x^* = A 2^b,$ $$\\chi = \\log(\\frac{x}{x^*}) = \\log\\left(\\frac{A 2^a}{A 2^b}\\right) = (a - b) \\log 2$$\n",
    "\n",
    "Therefore we can calculate values of $\\chi$ even when absolute metabolite concentrations aren't known.\n",
    "Enzymes are also reported as $\\log_2$ transformed variables.\n",
    "For $\\hat{e}$, we need $$\\frac{e}{e^*} = \\frac{A 2^{y}}{A 2 ^{y^*}} = 2^{y - y^*}$$"
   ]
  },
  {
   "cell_type": "code",
   "execution_count": 12,
   "metadata": {},
   "outputs": [
    {
     "data": {
      "text/plain": [
       "array([  1,   3,   4,   6,   7,   8,   9,  10,  11,  12,  13,  14,  16,\n",
       "        17,  18,  19,  20,  21,  22,  23,  26,  27,  28,  30,  33,  36,\n",
       "        42,  46,  47,  62,  66,  67,  69,  79, 153, 154, 155, 167])"
      ]
     },
     "execution_count": 12,
     "metadata": {},
     "output_type": "execute_result"
    },
    {
     "data": {
      "application/javascript": [
       "\n",
       "            setTimeout(function() {\n",
       "                var nbb_cell_id = 12;\n",
       "                var nbb_unformatted_code = \"e_inds\";\n",
       "                var nbb_formatted_code = \"e_inds\";\n",
       "                var nbb_cells = Jupyter.notebook.get_cells();\n",
       "                for (var i = 0; i < nbb_cells.length; ++i) {\n",
       "                    if (nbb_cells[i].input_prompt_number == nbb_cell_id) {\n",
       "                        if (nbb_cells[i].get_text() == nbb_unformatted_code) {\n",
       "                             nbb_cells[i].set_text(nbb_formatted_code);\n",
       "                        }\n",
       "                        break;\n",
       "                    }\n",
       "                }\n",
       "            }, 500);\n",
       "            "
      ],
      "text/plain": [
       "<IPython.core.display.Javascript object>"
      ]
     },
     "metadata": {},
     "output_type": "display_data"
    }
   ],
   "source": [
    "e_inds"
   ]
  },
  {
   "cell_type": "code",
   "execution_count": 15,
   "metadata": {},
   "outputs": [
    {
     "data": {
      "image/png": "[encoded data removed]",
      "text/plain": [
       "<Figure size 468x360 with 6 Axes>"
      ]
     },
     "metadata": {
      "needs_background": "light"
     },
     "output_type": "display_data"
    },
    {
     "data": {
      "application/javascript": [
       "\n",
       "            setTimeout(function() {\n",
       "                var nbb_cell_id = 15;\n",
       "                var nbb_unformatted_code = \"plt.rcParams[\\\"axes.axisbelow\\\"] = False\\n\\nfig, ax_matrix = plt.subplots(\\n    ncols=3, nrows=2, figsize=(6.5, 5), sharex=\\\"row\\\", sharey=\\\"row\\\"\\n)\\n\\nfor ax in ax_matrix[1, :].flatten():\\n    ax.set_aspect(\\\"equal\\\")\\n\\n_ = ax_matrix[0, 0].hist(\\n    xn.values.flatten(), bins=15, lw=1, edgecolor=\\\"w\\\", density=True, facecolor=\\\".4\\\"\\n)\\n_ = ax_matrix[0, 1].hist(\\n    np.log(np.clip(vn.values.flatten(), 1e-8, 1e8)),\\n    bins=15,\\n    lw=1,\\n    edgecolor=\\\"w\\\",\\n    density=True,\\n    facecolor=\\\".4\\\",\\n)\\n_ = ax_matrix[0, 2].hist(\\n    np.log(en.values.flatten()),\\n    bins=15,\\n    lw=1,\\n    edgecolor=\\\"w\\\",\\n    density=True,\\n    facecolor=\\\".4\\\",\\n)\\n\\nplot_hpd(ax_matrix[1, 0], xn, trace[\\\"chi_ss\\\"][:, :, x_inds])\\nplot_hpd(\\n    ax_matrix[1, 1],\\n    np.log(vn),\\n    np.log(np.clip(trace[\\\"vn_ss\\\"][:, :, v_inds], 1e-8, 1e8)),\\n)\\nplot_hpd(ax_matrix[1, 2], np.log(en), trace[\\\"log_en_t\\\"][:, :, e_inds])\\n# plot_hpd(ax_matrix[1, 2], np.log(en), trace[\\\"log_en_t\\\"][:, :, e_inds])\\nfor ax in ax_matrix[1, :]:\\n    ax.set_rasterization_zorder(1)\\n\\nax_matrix[1, 0].set_xlim([-4, 4])\\nax_matrix[1, 1].set_xlim([-4, 4])\\nax_matrix[1, 2].set_xlim([-4, 4])\\nax_matrix[1, 0].set_ylim([-4, 4])\\nax_matrix[1, 1].set_ylim([-4, 4])\\nax_matrix[1, 2].set_ylim([-4, 4])\\n\\nfor ax in ax_matrix[0, :]:\\n    ax.set_xlim([-4, 4])\\n    ax.set_xticks([-4, -2, 0, 2, 4])\\n\\nfor ax in ax_matrix[1, :]:\\n    ax.plot([-4, 4], [-4, 4], \\\"--\\\", color=\\\".3\\\", zorder=4, lw=1.5)\\n    ax.set_xlim([-4, 4])\\n    ax.set_ylim([-4, 4])\\n\\n    ax.set_xticks([-4, -2, 0, 2, 4])\\n    ax.set_yticks([-4, -2, 0, 2, 4])\\n\\n\\nax_matrix[1, 0].fill_between(\\n    [-1.5, 1.5], [1.5, 1.5], [-1.5, -1.5], zorder=4, color=\\\"k\\\", alpha=0.1\\n)\\nax_matrix[1, 1].fill_between(\\n    [-1.5, 1.5], [1.5, 1.5], [-1.5, -1.5], zorder=4, color=\\\"k\\\", alpha=0.1\\n)\\n\\nax_matrix[0, 0].set_ylim([0, 1.0])\\n\\nax_matrix[0, 0].set_title(\\\"Metabolomics\\\", fontsize=13)\\nax_matrix[0, 1].set_title(\\\"Fluxomics\\\", fontsize=13)\\nax_matrix[0, 2].set_title(\\\"Proteomics\\\", fontsize=13)\\n\\n\\nax_matrix[0, 0].text(\\n    0.5,\\n    1.0,\\n    \\\"$\\\\chi$, n={}\\\".format(xn.shape[0] * xn.shape[1]),\\n    ha=\\\"center\\\",\\n    va=\\\"top\\\",\\n    transform=ax_matrix[0, 0].transAxes,\\n)\\nax_matrix[0, 1].text(\\n    0.5,\\n    1.0,\\n    \\\"$\\\\log\\\\; \\\\hat{v}$, n=\\\" + str(vn.shape[0] * vn.shape[1]),\\n    ha=\\\"center\\\",\\n    va=\\\"top\\\",\\n    transform=ax_matrix[0, 1].transAxes,\\n)\\nax_matrix[0, 2].text(\\n    0.5,\\n    1.0,\\n    \\\"$\\\\log\\\\; \\\\hat{e}$, n=\\\" + str(en.shape[0] * en.shape[1]),\\n    ha=\\\"center\\\",\\n    va=\\\"top\\\",\\n    transform=ax_matrix[0, 2].transAxes,\\n)\\n\\nax_matrix[0, 1].set_xlabel(\\\"Measured\\\")\\nax_matrix[-1, 1].set_xlabel(\\\"Measured\\\")\\nax_matrix[1, 0].set_ylabel(\\\"Predicted\\\")\\nax_matrix[0, 0].set_ylabel(\\\"Frequency\\\")\\n\\nsns.despine(offset=2.5, trim=True)\\nplt.tight_layout()\\nplt.savefig(\\\"../figures/A.niger_posterior_and_dists.svg\\\", dpi=300)\";\n",
       "                var nbb_formatted_code = \"plt.rcParams[\\\"axes.axisbelow\\\"] = False\\n\\nfig, ax_matrix = plt.subplots(\\n    ncols=3, nrows=2, figsize=(6.5, 5), sharex=\\\"row\\\", sharey=\\\"row\\\"\\n)\\n\\nfor ax in ax_matrix[1, :].flatten():\\n    ax.set_aspect(\\\"equal\\\")\\n\\n_ = ax_matrix[0, 0].hist(\\n    xn.values.flatten(), bins=15, lw=1, edgecolor=\\\"w\\\", density=True, facecolor=\\\".4\\\"\\n)\\n_ = ax_matrix[0, 1].hist(\\n    np.log(np.clip(vn.values.flatten(), 1e-8, 1e8)),\\n    bins=15,\\n    lw=1,\\n    edgecolor=\\\"w\\\",\\n    density=True,\\n    facecolor=\\\".4\\\",\\n)\\n_ = ax_matrix[0, 2].hist(\\n    np.log(en.values.flatten()),\\n    bins=15,\\n    lw=1,\\n    edgecolor=\\\"w\\\",\\n    density=True,\\n    facecolor=\\\".4\\\",\\n)\\n\\nplot_hpd(ax_matrix[1, 0], xn, trace[\\\"chi_ss\\\"][:, :, x_inds])\\nplot_hpd(\\n    ax_matrix[1, 1],\\n    np.log(vn),\\n    np.log(np.clip(trace[\\\"vn_ss\\\"][:, :, v_inds], 1e-8, 1e8)),\\n)\\nplot_hpd(ax_matrix[1, 2], np.log(en), trace[\\\"log_en_t\\\"][:, :, e_inds])\\n# plot_hpd(ax_matrix[1, 2], np.log(en), trace[\\\"log_en_t\\\"][:, :, e_inds])\\nfor ax in ax_matrix[1, :]:\\n    ax.set_rasterization_zorder(1)\\n\\nax_matrix[1, 0].set_xlim([-4, 4])\\nax_matrix[1, 1].set_xlim([-4, 4])\\nax_matrix[1, 2].set_xlim([-4, 4])\\nax_matrix[1, 0].set_ylim([-4, 4])\\nax_matrix[1, 1].set_ylim([-4, 4])\\nax_matrix[1, 2].set_ylim([-4, 4])\\n\\nfor ax in ax_matrix[0, :]:\\n    ax.set_xlim([-4, 4])\\n    ax.set_xticks([-4, -2, 0, 2, 4])\\n\\nfor ax in ax_matrix[1, :]:\\n    ax.plot([-4, 4], [-4, 4], \\\"--\\\", color=\\\".3\\\", zorder=4, lw=1.5)\\n    ax.set_xlim([-4, 4])\\n    ax.set_ylim([-4, 4])\\n\\n    ax.set_xticks([-4, -2, 0, 2, 4])\\n    ax.set_yticks([-4, -2, 0, 2, 4])\\n\\n\\nax_matrix[1, 0].fill_between(\\n    [-1.5, 1.5], [1.5, 1.5], [-1.5, -1.5], zorder=4, color=\\\"k\\\", alpha=0.1\\n)\\nax_matrix[1, 1].fill_between(\\n    [-1.5, 1.5], [1.5, 1.5], [-1.5, -1.5], zorder=4, color=\\\"k\\\", alpha=0.1\\n)\\n\\nax_matrix[0, 0].set_ylim([0, 1.0])\\n\\nax_matrix[0, 0].set_title(\\\"Metabolomics\\\", fontsize=13)\\nax_matrix[0, 1].set_title(\\\"Fluxomics\\\", fontsize=13)\\nax_matrix[0, 2].set_title(\\\"Proteomics\\\", fontsize=13)\\n\\n\\nax_matrix[0, 0].text(\\n    0.5,\\n    1.0,\\n    \\\"$\\\\chi$, n={}\\\".format(xn.shape[0] * xn.shape[1]),\\n    ha=\\\"center\\\",\\n    va=\\\"top\\\",\\n    transform=ax_matrix[0, 0].transAxes,\\n)\\nax_matrix[0, 1].text(\\n    0.5,\\n    1.0,\\n    \\\"$\\\\log\\\\; \\\\hat{v}$, n=\\\" + str(vn.shape[0] * vn.shape[1]),\\n    ha=\\\"center\\\",\\n    va=\\\"top\\\",\\n    transform=ax_matrix[0, 1].transAxes,\\n)\\nax_matrix[0, 2].text(\\n    0.5,\\n    1.0,\\n    \\\"$\\\\log\\\\; \\\\hat{e}$, n=\\\" + str(en.shape[0] * en.shape[1]),\\n    ha=\\\"center\\\",\\n    va=\\\"top\\\",\\n    transform=ax_matrix[0, 2].transAxes,\\n)\\n\\nax_matrix[0, 1].set_xlabel(\\\"Measured\\\")\\nax_matrix[-1, 1].set_xlabel(\\\"Measured\\\")\\nax_matrix[1, 0].set_ylabel(\\\"Predicted\\\")\\nax_matrix[0, 0].set_ylabel(\\\"Frequency\\\")\\n\\nsns.despine(offset=2.5, trim=True)\\nplt.tight_layout()\\nplt.savefig(\\\"../figures/A.niger_posterior_and_dists.svg\\\", dpi=300)\";\n",
       "                var nbb_cells = Jupyter.notebook.get_cells();\n",
       "                for (var i = 0; i < nbb_cells.length; ++i) {\n",
       "                    if (nbb_cells[i].input_prompt_number == nbb_cell_id) {\n",
       "                        if (nbb_cells[i].get_text() == nbb_unformatted_code) {\n",
       "                             nbb_cells[i].set_text(nbb_formatted_code);\n",
       "                        }\n",
       "                        break;\n",
       "                    }\n",
       "                }\n",
       "            }, 500);\n",
       "            "
      ],
      "text/plain": [
       "<IPython.core.display.Javascript object>"
      ]
     },
     "metadata": {},
     "output_type": "display_data"
    }
   ],
   "source": [
    "plt.rcParams[\"axes.axisbelow\"] = False\n",
    "\n",
    "fig, ax_matrix = plt.subplots(\n",
    "    ncols=3, nrows=2, figsize=(6.5, 5), sharex=\"row\", sharey=\"row\"\n",
    ")\n",
    "\n",
    "for ax in ax_matrix[1, :].flatten():\n",
    "    ax.set_aspect(\"equal\")\n",
    "\n",
    "_ = ax_matrix[0, 0].hist(\n",
    "    xn.values.flatten(), bins=15, lw=1, edgecolor=\"w\", density=True, facecolor=\".4\"\n",
    ")\n",
    "_ = ax_matrix[0, 1].hist(\n",
    "    np.log(np.clip(vn.values.flatten(), 1e-8, 1e8)),\n",
    "    bins=15,\n",
    "    lw=1,\n",
    "    edgecolor=\"w\",\n",
    "    density=True,\n",
    "    facecolor=\".4\",\n",
    ")\n",
    "_ = ax_matrix[0, 2].hist(\n",
    "    np.log(en.values.flatten()),\n",
    "    bins=15,\n",
    "    lw=1,\n",
    "    edgecolor=\"w\",\n",
    "    density=True,\n",
    "    facecolor=\".4\",\n",
    ")\n",
    "\n",
    "plot_hpd(ax_matrix[1, 0], xn, trace[\"chi_ss\"][:, :, x_inds])\n",
    "plot_hpd(\n",
    "    ax_matrix[1, 1],\n",
    "    np.log(vn),\n",
    "    np.log(np.clip(trace[\"vn_ss\"][:, :, v_inds], 1e-8, 1e8)),\n",
    ")\n",
    "plot_hpd(ax_matrix[1, 2], np.log(en), trace[\"log_en_t\"][:, :, e_inds])\n",
    "# plot_hpd(ax_matrix[1, 2], np.log(en), trace[\"log_en_t\"][:, :, e_inds])\n",
    "for ax in ax_matrix[1, :]:\n",
    "    ax.set_rasterization_zorder(1)\n",
    "\n",
    "ax_matrix[1, 0].set_xlim([-4, 4])\n",
    "ax_matrix[1, 1].set_xlim([-4, 4])\n",
    "ax_matrix[1, 2].set_xlim([-4, 4])\n",
    "ax_matrix[1, 0].set_ylim([-4, 4])\n",
    "ax_matrix[1, 1].set_ylim([-4, 4])\n",
    "ax_matrix[1, 2].set_ylim([-4, 4])\n",
    "\n",
    "for ax in ax_matrix[0, :]:\n",
    "    ax.set_xlim([-4, 4])\n",
    "    ax.set_xticks([-4, -2, 0, 2, 4])\n",
    "\n",
    "for ax in ax_matrix[1, :]:\n",
    "    ax.plot([-4, 4], [-4, 4], \"--\", color=\".3\", zorder=4, lw=1.5)\n",
    "    ax.set_xlim([-4, 4])\n",
    "    ax.set_ylim([-4, 4])\n",
    "\n",
    "    ax.set_xticks([-4, -2, 0, 2, 4])\n",
    "    ax.set_yticks([-4, -2, 0, 2, 4])\n",
    "\n",
    "\n",
    "ax_matrix[1, 0].fill_between(\n",
    "    [-1.5, 1.5], [1.5, 1.5], [-1.5, -1.5], zorder=4, color=\"k\", alpha=0.1\n",
    ")\n",
    "ax_matrix[1, 1].fill_between(\n",
    "    [-1.5, 1.5], [1.5, 1.5], [-1.5, -1.5], zorder=4, color=\"k\", alpha=0.1\n",
    ")\n",
    "\n",
    "ax_matrix[0, 0].set_ylim([0, 1.0])\n",
    "\n",
    "ax_matrix[0, 0].set_title(\"Metabolomics\", fontsize=13)\n",
    "ax_matrix[0, 1].set_title(\"Fluxomics\", fontsize=13)\n",
    "ax_matrix[0, 2].set_title(\"Proteomics\", fontsize=13)\n",
    "\n",
    "\n",
    "ax_matrix[0, 0].text(\n",
    "    0.5,\n",
    "    1.0,\n",
    "    \"$\\chi$, n={}\".format(xn.shape[0] * xn.shape[1]),\n",
    "    ha=\"center\",\n",
    "    va=\"top\",\n",
    "    transform=ax_matrix[0, 0].transAxes,\n",
    ")\n",
    "ax_matrix[0, 1].text(\n",
    "    0.5,\n",
    "    1.0,\n",
    "    \"$\\log\\; \\hat{v}$, n=\" + str(vn.shape[0] * vn.shape[1]),\n",
    "    ha=\"center\",\n",
    "    va=\"top\",\n",
    "    transform=ax_matrix[0, 1].transAxes,\n",
    ")\n",
    "ax_matrix[0, 2].text(\n",
    "    0.5,\n",
    "    1.0,\n",
    "    \"$\\log\\; \\hat{e}$, n=\" + str(en.shape[0] * en.shape[1]),\n",
    "    ha=\"center\",\n",
    "    va=\"top\",\n",
    "    transform=ax_matrix[0, 2].transAxes,\n",
    ")\n",
    "\n",
    "ax_matrix[0, 1].set_xlabel(\"Measured\")\n",
    "ax_matrix[-1, 1].set_xlabel(\"Measured\")\n",
    "ax_matrix[1, 0].set_ylabel(\"Predicted\")\n",
    "ax_matrix[0, 0].set_ylabel(\"Frequency\")\n",
    "\n",
    "sns.despine(offset=2.5, trim=True)\n",
    "plt.tight_layout()\n",
    "plt.savefig(\"../figures/A.niger_posterior_and_dists.svg\", dpi=300)"
   ]
  },
  {
   "cell_type": "code",
   "execution_count": 14,
   "metadata": {},
   "outputs": [
    {
     "data": {
      "application/javascript": [
       "\n",
       "            setTimeout(function() {\n",
       "                var nbb_cell_id = 14;\n",
       "                var nbb_unformatted_code = \"from sklearn.metrics import mean_absolute_error\";\n",
       "                var nbb_formatted_code = \"from sklearn.metrics import mean_absolute_error\";\n",
       "                var nbb_cells = Jupyter.notebook.get_cells();\n",
       "                for (var i = 0; i < nbb_cells.length; ++i) {\n",
       "                    if (nbb_cells[i].input_prompt_number == nbb_cell_id) {\n",
       "                        if (nbb_cells[i].get_text() == nbb_unformatted_code) {\n",
       "                             nbb_cells[i].set_text(nbb_formatted_code);\n",
       "                        }\n",
       "                        break;\n",
       "                    }\n",
       "                }\n",
       "            }, 500);\n",
       "            "
      ],
      "text/plain": [
       "<IPython.core.display.Javascript object>"
      ]
     },
     "metadata": {},
     "output_type": "display_data"
    }
   ],
   "source": [
    "from sklearn.metrics import mean_absolute_error"
   ]
  },
  {
   "cell_type": "code",
   "execution_count": 15,
   "metadata": {},
   "outputs": [
    {
     "data": {
      "text/plain": [
       "0.16280357549389568"
      ]
     },
     "execution_count": 15,
     "metadata": {},
     "output_type": "execute_result"
    },
    {
     "data": {
      "application/javascript": [
       "\n",
       "            setTimeout(function() {\n",
       "                var nbb_cell_id = 15;\n",
       "                var nbb_unformatted_code = \"np.nanmedian(\\n    (xn[(xn <= 1.5) & (xn >= -1.5)] - np.median(trace[\\\"chi_ss\\\"][:, :, x_inds], 0))\\n    .abs()\\n    .values\\n)\";\n",
       "                var nbb_formatted_code = \"np.nanmedian(\\n    (xn[(xn <= 1.5) & (xn >= -1.5)] - np.median(trace[\\\"chi_ss\\\"][:, :, x_inds], 0))\\n    .abs()\\n    .values\\n)\";\n",
       "                var nbb_cells = Jupyter.notebook.get_cells();\n",
       "                for (var i = 0; i < nbb_cells.length; ++i) {\n",
       "                    if (nbb_cells[i].input_prompt_number == nbb_cell_id) {\n",
       "                        if (nbb_cells[i].get_text() == nbb_unformatted_code) {\n",
       "                             nbb_cells[i].set_text(nbb_formatted_code);\n",
       "                        }\n",
       "                        break;\n",
       "                    }\n",
       "                }\n",
       "            }, 500);\n",
       "            "
      ],
      "text/plain": [
       "<IPython.core.display.Javascript object>"
      ]
     },
     "metadata": {},
     "output_type": "display_data"
    }
   ],
   "source": [
    "np.nanmedian(\n",
    "    (xn[(xn <= 1.5) & (xn >= -1.5)] - np.median(trace[\"chi_ss\"][:, :, x_inds], 0))\n",
    "    .abs()\n",
    "    .values\n",
    ")"
   ]
  },
  {
   "cell_type": "code",
   "execution_count": 16,
   "metadata": {},
   "outputs": [
    {
     "data": {
      "text/plain": [
       "0.16420798144819737"
      ]
     },
     "execution_count": 16,
     "metadata": {},
     "output_type": "execute_result"
    },
    {
     "data": {
      "application/javascript": [
       "\n",
       "            setTimeout(function() {\n",
       "                var nbb_cell_id = 16;\n",
       "                var nbb_unformatted_code = \"np.nanmedian(\\n    (\\n        np.log(vn)[(np.log(vn) <= 1.5) & (np.log(vn) >= -1.5)]\\n        - np.median(np.log(np.clip(trace[\\\"vn_ss\\\"][:, :, v_inds], 1e-8, 1e8)), 0)\\n    )\\n    .abs()\\n    .values\\n)\";\n",
       "                var nbb_formatted_code = \"np.nanmedian(\\n    (\\n        np.log(vn)[(np.log(vn) <= 1.5) & (np.log(vn) >= -1.5)]\\n        - np.median(np.log(np.clip(trace[\\\"vn_ss\\\"][:, :, v_inds], 1e-8, 1e8)), 0)\\n    )\\n    .abs()\\n    .values\\n)\";\n",
       "                var nbb_cells = Jupyter.notebook.get_cells();\n",
       "                for (var i = 0; i < nbb_cells.length; ++i) {\n",
       "                    if (nbb_cells[i].input_prompt_number == nbb_cell_id) {\n",
       "                        if (nbb_cells[i].get_text() == nbb_unformatted_code) {\n",
       "                             nbb_cells[i].set_text(nbb_formatted_code);\n",
       "                        }\n",
       "                        break;\n",
       "                    }\n",
       "                }\n",
       "            }, 500);\n",
       "            "
      ],
      "text/plain": [
       "<IPython.core.display.Javascript object>"
      ]
     },
     "metadata": {},
     "output_type": "display_data"
    }
   ],
   "source": [
    "np.nanmedian(\n",
    "    (\n",
    "        np.log(vn)[(np.log(vn) <= 1.5) & (np.log(vn) >= -1.5)]\n",
    "        - np.median(np.log(np.clip(trace[\"vn_ss\"][:, :, v_inds], 1e-8, 1e8)), 0)\n",
    "    )\n",
    "    .abs()\n",
    "    .values\n",
    ")"
   ]
  },
  {
   "cell_type": "code",
   "execution_count": 17,
   "metadata": {},
   "outputs": [
    {
     "data": {
      "text/plain": [
       "0.027156329529148267"
      ]
     },
     "execution_count": 17,
     "metadata": {},
     "output_type": "execute_result"
    },
    {
     "data": {
      "application/javascript": [
       "\n",
       "            setTimeout(function() {\n",
       "                var nbb_cell_id = 17;\n",
       "                var nbb_unformatted_code = \"np.nanmedian(\\n    (\\n        np.log(en)[(np.log(en) <= 1.5) & (np.log(en) >= -1.5)]\\n        - np.median(trace[\\\"log_en_t\\\"][:, :, e_inds], 0)\\n    )\\n    .abs()\\n    .values\\n)\";\n",
       "                var nbb_formatted_code = \"np.nanmedian(\\n    (\\n        np.log(en)[(np.log(en) <= 1.5) & (np.log(en) >= -1.5)]\\n        - np.median(trace[\\\"log_en_t\\\"][:, :, e_inds], 0)\\n    )\\n    .abs()\\n    .values\\n)\";\n",
       "                var nbb_cells = Jupyter.notebook.get_cells();\n",
       "                for (var i = 0; i < nbb_cells.length; ++i) {\n",
       "                    if (nbb_cells[i].input_prompt_number == nbb_cell_id) {\n",
       "                        if (nbb_cells[i].get_text() == nbb_unformatted_code) {\n",
       "                             nbb_cells[i].set_text(nbb_formatted_code);\n",
       "                        }\n",
       "                        break;\n",
       "                    }\n",
       "                }\n",
       "            }, 500);\n",
       "            "
      ],
      "text/plain": [
       "<IPython.core.display.Javascript object>"
      ]
     },
     "metadata": {},
     "output_type": "display_data"
    }
   ],
   "source": [
    "np.nanmedian(\n",
    "    (\n",
    "        np.log(en)[(np.log(en) <= 1.5) & (np.log(en) >= -1.5)]\n",
    "        - np.median(trace[\"log_en_t\"][:, :, e_inds], 0)\n",
    "    )\n",
    "    .abs()\n",
    "    .values\n",
    ")"
   ]
  },
  {
   "cell_type": "code",
   "execution_count": 18,
   "metadata": {},
   "outputs": [
    {
     "data": {
      "application/javascript": [
       "\n",
       "            setTimeout(function() {\n",
       "                var nbb_cell_id = 18;\n",
       "                var nbb_unformatted_code = \"e_unmeasured_hpd = pm.hpd(trace[\\\"log_e_unmeasured\\\"])\\ne_consistent = np.sign(e_unmeasured_hpd[:, :, 0]) == np.sign(e_unmeasured_hpd[:, :, 1])\";\n",
       "                var nbb_formatted_code = \"e_unmeasured_hpd = pm.hpd(trace[\\\"log_e_unmeasured\\\"])\\ne_consistent = np.sign(e_unmeasured_hpd[:, :, 0]) == np.sign(e_unmeasured_hpd[:, :, 1])\";\n",
       "                var nbb_cells = Jupyter.notebook.get_cells();\n",
       "                for (var i = 0; i < nbb_cells.length; ++i) {\n",
       "                    if (nbb_cells[i].input_prompt_number == nbb_cell_id) {\n",
       "                        if (nbb_cells[i].get_text() == nbb_unformatted_code) {\n",
       "                             nbb_cells[i].set_text(nbb_formatted_code);\n",
       "                        }\n",
       "                        break;\n",
       "                    }\n",
       "                }\n",
       "            }, 500);\n",
       "            "
      ],
      "text/plain": [
       "<IPython.core.display.Javascript object>"
      ]
     },
     "metadata": {},
     "output_type": "display_data"
    }
   ],
   "source": [
    "e_unmeasured_hpd = pm.hpd(trace[\"log_e_unmeasured\"])\n",
    "e_consistent = np.sign(e_unmeasured_hpd[:, :, 0]) == np.sign(e_unmeasured_hpd[:, :, 1])"
   ]
  },
  {
   "cell_type": "code",
   "execution_count": 19,
   "metadata": {},
   "outputs": [
    {
     "data": {
      "text/plain": [
       "array([False, False, False, False,  True, False,  True, False, False,\n",
       "       False, False, False, False, False,  True, False, False, False,\n",
       "       False, False, False, False, False, False, False,  True,  True,\n",
       "       False, False, False, False, False, False, False, False, False,\n",
       "       False, False, False, False, False, False,  True, False, False,\n",
       "        True,  True, False,  True, False, False, False, False, False,\n",
       "        True, False, False, False, False, False, False, False,  True,\n",
       "        True,  True, False,  True,  True, False,  True,  True, False,\n",
       "        True,  True,  True, False, False, False, False, False, False,\n",
       "       False, False, False, False, False, False,  True, False, False,\n",
       "        True, False, False, False, False, False, False, False, False,\n",
       "       False,  True, False, False, False, False, False, False, False,\n",
       "        True, False, False, False, False, False, False,  True,  True])"
      ]
     },
     "execution_count": 19,
     "metadata": {},
     "output_type": "execute_result"
    },
    {
     "data": {
      "application/javascript": [
       "\n",
       "            setTimeout(function() {\n",
       "                var nbb_cell_id = 19;\n",
       "                var nbb_unformatted_code = \"e_consistent.any(0)  # 25/50 enzymes are nonzero at least once.\";\n",
       "                var nbb_formatted_code = \"e_consistent.any(0)  # 25/50 enzymes are nonzero at least once.\";\n",
       "                var nbb_cells = Jupyter.notebook.get_cells();\n",
       "                for (var i = 0; i < nbb_cells.length; ++i) {\n",
       "                    if (nbb_cells[i].input_prompt_number == nbb_cell_id) {\n",
       "                        if (nbb_cells[i].get_text() == nbb_unformatted_code) {\n",
       "                             nbb_cells[i].set_text(nbb_formatted_code);\n",
       "                        }\n",
       "                        break;\n",
       "                    }\n",
       "                }\n",
       "            }, 500);\n",
       "            "
      ],
      "text/plain": [
       "<IPython.core.display.Javascript object>"
      ]
     },
     "metadata": {},
     "output_type": "display_data"
    }
   ],
   "source": [
    "e_consistent.any(0)  # 25/50 enzymes are nonzero at least once."
   ]
  },
  {
   "cell_type": "code",
   "execution_count": 20,
   "metadata": {},
   "outputs": [
    {
     "data": {
      "application/javascript": [
       "\n",
       "            setTimeout(function() {\n",
       "                var nbb_cell_id = 20;\n",
       "                var nbb_unformatted_code = \"capacity_hpd = pm.hpd(trace[\\\"ex_capacity_entries\\\"])\";\n",
       "                var nbb_formatted_code = \"capacity_hpd = pm.hpd(trace[\\\"ex_capacity_entries\\\"])\";\n",
       "                var nbb_cells = Jupyter.notebook.get_cells();\n",
       "                for (var i = 0; i < nbb_cells.length; ++i) {\n",
       "                    if (nbb_cells[i].input_prompt_number == nbb_cell_id) {\n",
       "                        if (nbb_cells[i].get_text() == nbb_unformatted_code) {\n",
       "                             nbb_cells[i].set_text(nbb_formatted_code);\n",
       "                        }\n",
       "                        break;\n",
       "                    }\n",
       "                }\n",
       "            }, 500);\n",
       "            "
      ],
      "text/plain": [
       "<IPython.core.display.Javascript object>"
      ]
     },
     "metadata": {},
     "output_type": "display_data"
    }
   ],
   "source": [
    "capacity_hpd = pm.hpd(trace[\"ex_capacity_entries\"])"
   ]
  },
  {
   "cell_type": "code",
   "execution_count": 21,
   "metadata": {},
   "outputs": [
    {
     "data": {
      "application/javascript": [
       "\n",
       "            setTimeout(function() {\n",
       "                var nbb_cell_id = 21;\n",
       "                var nbb_unformatted_code = \"capacity_consistent = np.sign(capacity_hpd[:, 0]) == np.sign(capacity_hpd[:, 1])\";\n",
       "                var nbb_formatted_code = \"capacity_consistent = np.sign(capacity_hpd[:, 0]) == np.sign(capacity_hpd[:, 1])\";\n",
       "                var nbb_cells = Jupyter.notebook.get_cells();\n",
       "                for (var i = 0; i < nbb_cells.length; ++i) {\n",
       "                    if (nbb_cells[i].input_prompt_number == nbb_cell_id) {\n",
       "                        if (nbb_cells[i].get_text() == nbb_unformatted_code) {\n",
       "                             nbb_cells[i].set_text(nbb_formatted_code);\n",
       "                        }\n",
       "                        break;\n",
       "                    }\n",
       "                }\n",
       "            }, 500);\n",
       "            "
      ],
      "text/plain": [
       "<IPython.core.display.Javascript object>"
      ]
     },
     "metadata": {},
     "output_type": "display_data"
    }
   ],
   "source": [
    "capacity_consistent = np.sign(capacity_hpd[:, 0]) == np.sign(capacity_hpd[:, 1])"
   ]
  },
  {
   "cell_type": "code",
   "execution_count": 22,
   "metadata": {},
   "outputs": [
    {
     "data": {
      "text/plain": [
       "73"
      ]
     },
     "execution_count": 22,
     "metadata": {},
     "output_type": "execute_result"
    },
    {
     "data": {
      "application/javascript": [
       "\n",
       "            setTimeout(function() {\n",
       "                var nbb_cell_id = 22;\n",
       "                var nbb_unformatted_code = \"capacity_consistent.sum()\";\n",
       "                var nbb_formatted_code = \"capacity_consistent.sum()\";\n",
       "                var nbb_cells = Jupyter.notebook.get_cells();\n",
       "                for (var i = 0; i < nbb_cells.length; ++i) {\n",
       "                    if (nbb_cells[i].input_prompt_number == nbb_cell_id) {\n",
       "                        if (nbb_cells[i].get_text() == nbb_unformatted_code) {\n",
       "                             nbb_cells[i].set_text(nbb_formatted_code);\n",
       "                        }\n",
       "                        break;\n",
       "                    }\n",
       "                }\n",
       "            }, 500);\n",
       "            "
      ],
      "text/plain": [
       "<IPython.core.display.Javascript object>"
      ]
     },
     "metadata": {},
     "output_type": "display_data"
    }
   ],
   "source": [
    "capacity_consistent.sum()"
   ]
  },
  {
   "cell_type": "code",
   "execution_count": 23,
   "metadata": {},
   "outputs": [
    {
     "data": {
      "text/plain": [
       "0.004784688995215311"
      ]
     },
     "execution_count": 23,
     "metadata": {},
     "output_type": "execute_result"
    },
    {
     "data": {
      "application/javascript": [
       "\n",
       "            setTimeout(function() {\n",
       "                var nbb_cell_id = 23;\n",
       "                var nbb_unformatted_code = \"capacity_consistent.sum() / len(capacity_consistent)\";\n",
       "                var nbb_formatted_code = \"capacity_consistent.sum() / len(capacity_consistent)\";\n",
       "                var nbb_cells = Jupyter.notebook.get_cells();\n",
       "                for (var i = 0; i < nbb_cells.length; ++i) {\n",
       "                    if (nbb_cells[i].input_prompt_number == nbb_cell_id) {\n",
       "                        if (nbb_cells[i].get_text() == nbb_unformatted_code) {\n",
       "                             nbb_cells[i].set_text(nbb_formatted_code);\n",
       "                        }\n",
       "                        break;\n",
       "                    }\n",
       "                }\n",
       "            }, 500);\n",
       "            "
      ],
      "text/plain": [
       "<IPython.core.display.Javascript object>"
      ]
     },
     "metadata": {},
     "output_type": "display_data"
    }
   ],
   "source": [
    "capacity_consistent.sum() / len(capacity_consistent)"
   ]
  },
  {
   "cell_type": "code",
   "execution_count": 24,
   "metadata": {},
   "outputs": [
    {
     "data": {
      "text/plain": [
       "array([  0,   2,   5,  15,  24,  25,  29,  31,  32,  34,  35,  37,  38,\n",
       "        39,  40,  41,  43,  44,  45,  48,  49,  50,  51,  52,  53,  54,\n",
       "        55,  56,  57,  58,  59,  60,  68,  70,  71,  72,  73,  74,  75,\n",
       "        76,  77,  78,  80,  81,  82,  83,  84,  85,  86,  87,  88,  89,\n",
       "        90,  91,  92,  93,  94,  95, 131, 132, 133, 134, 135, 136, 137,\n",
       "       138, 139, 140, 141, 142, 144, 145, 146, 147, 152, 160, 165, 166,\n",
       "       168, 169])"
      ]
     },
     "execution_count": 24,
     "metadata": {},
     "output_type": "execute_result"
    },
    {
     "data": {
      "application/javascript": [
       "\n",
       "            setTimeout(function() {\n",
       "                var nbb_cell_id = 24;\n",
       "                var nbb_unformatted_code = \"e_laplace_inds\";\n",
       "                var nbb_formatted_code = \"e_laplace_inds\";\n",
       "                var nbb_cells = Jupyter.notebook.get_cells();\n",
       "                for (var i = 0; i < nbb_cells.length; ++i) {\n",
       "                    if (nbb_cells[i].input_prompt_number == nbb_cell_id) {\n",
       "                        if (nbb_cells[i].get_text() == nbb_unformatted_code) {\n",
       "                             nbb_cells[i].set_text(nbb_formatted_code);\n",
       "                        }\n",
       "                        break;\n",
       "                    }\n",
       "                }\n",
       "            }, 500);\n",
       "            "
      ],
      "text/plain": [
       "<IPython.core.display.Javascript object>"
      ]
     },
     "metadata": {},
     "output_type": "display_data"
    }
   ],
   "source": [
    "e_laplace_inds"
   ]
  },
  {
   "cell_type": "markdown",
   "metadata": {},
   "source": [
    "Here I compare the flux control coefficients as calculated via the least-norm linear solve to those calculated via a traditional link matrix method."
   ]
  },
  {
   "cell_type": "code",
   "execution_count": 25,
   "metadata": {},
   "outputs": [
    {
     "data": {
      "application/javascript": [
       "\n",
       "            setTimeout(function() {\n",
       "                var nbb_cell_id = 25;\n",
       "                var nbb_unformatted_code = \"ll_link = emll.LinLogLinkMatrix(ll.N, ll.Ex, ll.Ey, ll.v_star)\";\n",
       "                var nbb_formatted_code = \"ll_link = emll.LinLogLinkMatrix(ll.N, ll.Ex, ll.Ey, ll.v_star)\";\n",
       "                var nbb_cells = Jupyter.notebook.get_cells();\n",
       "                for (var i = 0; i < nbb_cells.length; ++i) {\n",
       "                    if (nbb_cells[i].input_prompt_number == nbb_cell_id) {\n",
       "                        if (nbb_cells[i].get_text() == nbb_unformatted_code) {\n",
       "                             nbb_cells[i].set_text(nbb_formatted_code);\n",
       "                        }\n",
       "                        break;\n",
       "                    }\n",
       "                }\n",
       "            }, 500);\n",
       "            "
      ],
      "text/plain": [
       "<IPython.core.display.Javascript object>"
      ]
     },
     "metadata": {},
     "output_type": "display_data"
    }
   ],
   "source": [
    "ll_link = emll.LinLogLinkMatrix(ll.N, ll.Ex, ll.Ey, ll.v_star)"
   ]
  },
  {
   "cell_type": "code",
   "execution_count": 26,
   "metadata": {},
   "outputs": [
    {
     "name": "stderr",
     "output_type": "stream",
     "text": [
      "100%|██████████| 500/500 [00:29<00:00, 16.81it/s]\n",
      "100%|██████████| 500/500 [00:05<00:00, 98.16it/s] \n"
     ]
    },
    {
     "data": {
      "application/javascript": [
       "\n",
       "            setTimeout(function() {\n",
       "                var nbb_cell_id = 26;\n",
       "                var nbb_unformatted_code = \"fccs = np.array([ll.flux_control_coefficient(Ex=ex) for ex in tqdm(trace[\\\"Ex\\\"])])\\nfccs_link = np.array(\\n    [ll_link.flux_control_coefficient(Ex=ex) for ex in tqdm(trace[\\\"Ex\\\"])]\\n)\";\n",
       "                var nbb_formatted_code = \"fccs = np.array([ll.flux_control_coefficient(Ex=ex) for ex in tqdm(trace[\\\"Ex\\\"])])\\nfccs_link = np.array(\\n    [ll_link.flux_control_coefficient(Ex=ex) for ex in tqdm(trace[\\\"Ex\\\"])]\\n)\";\n",
       "                var nbb_cells = Jupyter.notebook.get_cells();\n",
       "                for (var i = 0; i < nbb_cells.length; ++i) {\n",
       "                    if (nbb_cells[i].input_prompt_number == nbb_cell_id) {\n",
       "                        if (nbb_cells[i].get_text() == nbb_unformatted_code) {\n",
       "                             nbb_cells[i].set_text(nbb_formatted_code);\n",
       "                        }\n",
       "                        break;\n",
       "                    }\n",
       "                }\n",
       "            }, 500);\n",
       "            "
      ],
      "text/plain": [
       "<IPython.core.display.Javascript object>"
      ]
     },
     "metadata": {},
     "output_type": "display_data"
    }
   ],
   "source": [
    "fccs = np.array([ll.flux_control_coefficient(Ex=ex) for ex in tqdm(trace[\"Ex\"])])\n",
    "fccs_link = np.array(\n",
    "    [ll_link.flux_control_coefficient(Ex=ex) for ex in tqdm(trace[\"Ex\"])]\n",
    ")"
   ]
  },
  {
   "cell_type": "code",
   "execution_count": 27,
   "metadata": {},
   "outputs": [
    {
     "data": {
      "text/plain": [
       "(500, 172, 172)"
      ]
     },
     "execution_count": 27,
     "metadata": {},
     "output_type": "execute_result"
    },
    {
     "data": {
      "application/javascript": [
       "\n",
       "            setTimeout(function() {\n",
       "                var nbb_cell_id = 27;\n",
       "                var nbb_unformatted_code = \"fccs.shape\";\n",
       "                var nbb_formatted_code = \"fccs.shape\";\n",
       "                var nbb_cells = Jupyter.notebook.get_cells();\n",
       "                for (var i = 0; i < nbb_cells.length; ++i) {\n",
       "                    if (nbb_cells[i].input_prompt_number == nbb_cell_id) {\n",
       "                        if (nbb_cells[i].get_text() == nbb_unformatted_code) {\n",
       "                             nbb_cells[i].set_text(nbb_formatted_code);\n",
       "                        }\n",
       "                        break;\n",
       "                    }\n",
       "                }\n",
       "            }, 500);\n",
       "            "
      ],
      "text/plain": [
       "<IPython.core.display.Javascript object>"
      ]
     },
     "metadata": {},
     "output_type": "display_data"
    }
   ],
   "source": [
    "fccs.shape"
   ]
  },
  {
   "cell_type": "code",
   "execution_count": 28,
   "metadata": {},
   "outputs": [
    {
     "data": {
      "application/javascript": [
       "\n",
       "            setTimeout(function() {\n",
       "                var nbb_cell_id = 28;\n",
       "                var nbb_unformatted_code = \"r_med = np.median(fccs, 0).flatten()\\nl_med = np.median(fccs_link, 0).flatten()\\n\\nr_err = [\\n    r_med - np.percentile(fccs, 25, axis=0).flatten(),\\n    np.percentile(fccs, 75, axis=0).flatten() - r_med,\\n]\\nl_err = [\\n    l_med - np.percentile(fccs_link, 25, axis=0).flatten(),\\n    np.percentile(fccs_link, 75, axis=0).flatten() - l_med,\\n]\";\n",
       "                var nbb_formatted_code = \"r_med = np.median(fccs, 0).flatten()\\nl_med = np.median(fccs_link, 0).flatten()\\n\\nr_err = [\\n    r_med - np.percentile(fccs, 25, axis=0).flatten(),\\n    np.percentile(fccs, 75, axis=0).flatten() - r_med,\\n]\\nl_err = [\\n    l_med - np.percentile(fccs_link, 25, axis=0).flatten(),\\n    np.percentile(fccs_link, 75, axis=0).flatten() - l_med,\\n]\";\n",
       "                var nbb_cells = Jupyter.notebook.get_cells();\n",
       "                for (var i = 0; i < nbb_cells.length; ++i) {\n",
       "                    if (nbb_cells[i].input_prompt_number == nbb_cell_id) {\n",
       "                        if (nbb_cells[i].get_text() == nbb_unformatted_code) {\n",
       "                             nbb_cells[i].set_text(nbb_formatted_code);\n",
       "                        }\n",
       "                        break;\n",
       "                    }\n",
       "                }\n",
       "            }, 500);\n",
       "            "
      ],
      "text/plain": [
       "<IPython.core.display.Javascript object>"
      ]
     },
     "metadata": {},
     "output_type": "display_data"
    }
   ],
   "source": [
    "r_med = np.median(fccs, 0).flatten()\n",
    "l_med = np.median(fccs_link, 0).flatten()\n",
    "\n",
    "r_err = [\n",
    "    r_med - np.percentile(fccs, 25, axis=0).flatten(),\n",
    "    np.percentile(fccs, 75, axis=0).flatten() - r_med,\n",
    "]\n",
    "l_err = [\n",
    "    l_med - np.percentile(fccs_link, 25, axis=0).flatten(),\n",
    "    np.percentile(fccs_link, 75, axis=0).flatten() - l_med,\n",
    "]"
   ]
  },
  {
   "cell_type": "code",
   "execution_count": 29,
   "metadata": {},
   "outputs": [
    {
     "data": {
      "image/png": "[encoded data removed]",
      "text/plain": [
       "<Figure size 360x288 with 1 Axes>"
      ]
     },
     "metadata": {
      "needs_background": "light"
     },
     "output_type": "display_data"
    },
    {
     "data": {
      "application/javascript": [
       "\n",
       "            setTimeout(function() {\n",
       "                var nbb_cell_id = 29;\n",
       "                var nbb_unformatted_code = \"fig = plt.figure(figsize=(5,4))\\nax = fig.add_subplot(111, aspect='equal', adjustable='box')\\n\\nax.set_aspect('equal')\\nax.errorbar(r_med, l_med, ms=5, lw=0, xerr=r_err, yerr=l_err,\\n            marker='.', color='.4', zorder=3, alpha=0.5)\\nax.errorbar(r_med, l_med, ms=5, lw=0, xerr=r_err, yerr=l_err,\\n            elinewidth=.5, color='.8', alpha=0.5, zorder=2)\\n\\nax.plot([-5, 5], [-5, 5], '--', color='.8', zorder=0)\\n\\nax.set_xlabel('FCC (Pseudoinverse)')\\nax.set_ylabel('FCC (Link Matrix)')\\n\\nax.set_rasterization_zorder(4)\\n\\nax.set_xlim([-1, 1])\\nax.set_ylim([-1, 1])\\n\\n\\nplt.tight_layout()\\nsns.despine(trim=True, offset=10)\\nax.text(1, -1, '$\\\\\\\\rho = {:.2f}$'.format(\\n    pd.Series(r_med).corr(pd.Series(l_med))), ha='right', va='bottom', fontsize=12)\\n\\nplt.savefig('../figures/A.niger_fcc_comparison.svg', dpi=300)\";\n",
       "                var nbb_formatted_code = \"fig = plt.figure(figsize=(5, 4))\\nax = fig.add_subplot(111, aspect=\\\"equal\\\", adjustable=\\\"box\\\")\\n\\nax.set_aspect(\\\"equal\\\")\\nax.errorbar(\\n    r_med,\\n    l_med,\\n    ms=5,\\n    lw=0,\\n    xerr=r_err,\\n    yerr=l_err,\\n    marker=\\\".\\\",\\n    color=\\\".4\\\",\\n    zorder=3,\\n    alpha=0.5,\\n)\\nax.errorbar(\\n    r_med,\\n    l_med,\\n    ms=5,\\n    lw=0,\\n    xerr=r_err,\\n    yerr=l_err,\\n    elinewidth=0.5,\\n    color=\\\".8\\\",\\n    alpha=0.5,\\n    zorder=2,\\n)\\n\\nax.plot([-5, 5], [-5, 5], \\\"--\\\", color=\\\".8\\\", zorder=0)\\n\\nax.set_xlabel(\\\"FCC (Pseudoinverse)\\\")\\nax.set_ylabel(\\\"FCC (Link Matrix)\\\")\\n\\nax.set_rasterization_zorder(4)\\n\\nax.set_xlim([-1, 1])\\nax.set_ylim([-1, 1])\\n\\n\\nplt.tight_layout()\\nsns.despine(trim=True, offset=10)\\nax.text(\\n    1,\\n    -1,\\n    \\\"$\\\\\\\\rho = {:.2f}$\\\".format(pd.Series(r_med).corr(pd.Series(l_med))),\\n    ha=\\\"right\\\",\\n    va=\\\"bottom\\\",\\n    fontsize=12,\\n)\\n\\nplt.savefig(\\\"../figures/A.niger_fcc_comparison.svg\\\", dpi=300)\";\n",
       "                var nbb_cells = Jupyter.notebook.get_cells();\n",
       "                for (var i = 0; i < nbb_cells.length; ++i) {\n",
       "                    if (nbb_cells[i].input_prompt_number == nbb_cell_id) {\n",
       "                        if (nbb_cells[i].get_text() == nbb_unformatted_code) {\n",
       "                             nbb_cells[i].set_text(nbb_formatted_code);\n",
       "                        }\n",
       "                        break;\n",
       "                    }\n",
       "                }\n",
       "            }, 500);\n",
       "            "
      ],
      "text/plain": [
       "<IPython.core.display.Javascript object>"
      ]
     },
     "metadata": {},
     "output_type": "display_data"
    }
   ],
   "source": [
    "fig = plt.figure(figsize=(5, 4))\n",
    "ax = fig.add_subplot(111, aspect=\"equal\", adjustable=\"box\")\n",
    "\n",
    "ax.set_aspect(\"equal\")\n",
    "ax.errorbar(\n",
    "    r_med,\n",
    "    l_med,\n",
    "    ms=5,\n",
    "    lw=0,\n",
    "    xerr=r_err,\n",
    "    yerr=l_err,\n",
    "    marker=\".\",\n",
    "    color=\".4\",\n",
    "    zorder=3,\n",
    "    alpha=0.5,\n",
    ")\n",
    "ax.errorbar(\n",
    "    r_med,\n",
    "    l_med,\n",
    "    ms=5,\n",
    "    lw=0,\n",
    "    xerr=r_err,\n",
    "    yerr=l_err,\n",
    "    elinewidth=0.5,\n",
    "    color=\".8\",\n",
    "    alpha=0.5,\n",
    "    zorder=2,\n",
    ")\n",
    "\n",
    "ax.plot([-5, 5], [-5, 5], \"--\", color=\".8\", zorder=0)\n",
    "\n",
    "ax.set_xlabel(\"FCC (Pseudoinverse)\")\n",
    "ax.set_ylabel(\"FCC (Link Matrix)\")\n",
    "\n",
    "ax.set_rasterization_zorder(4)\n",
    "\n",
    "ax.set_xlim([-1, 1])\n",
    "ax.set_ylim([-1, 1])\n",
    "\n",
    "\n",
    "plt.tight_layout()\n",
    "sns.despine(trim=True, offset=10)\n",
    "ax.text(\n",
    "    1,\n",
    "    -1,\n",
    "    \"$\\\\rho = {:.2f}$\".format(pd.Series(r_med).corr(pd.Series(l_med))),\n",
    "    ha=\"right\",\n",
    "    va=\"bottom\",\n",
    "    fontsize=12,\n",
    ")\n",
    "\n",
    "plt.savefig(\"../figures/A.niger_fcc_comparison.svg\", dpi=300)"
   ]
  },
  {
   "cell_type": "code",
   "execution_count": 30,
   "metadata": {},
   "outputs": [
    {
     "data": {
      "text/html": [
       "<div>\n",
       "<style scoped>\n",
       "    .dataframe tbody tr th:only-of-type {\n",
       "        vertical-align: middle;\n",
       "    }\n",
       "\n",
       "    .dataframe tbody tr th {\n",
       "        vertical-align: top;\n",
       "    }\n",
       "\n",
       "    .dataframe thead th {\n",
       "        text-align: right;\n",
       "    }\n",
       "</style>\n",
       "<table border=\"1\" class=\"dataframe\">\n",
       "  <thead>\n",
       "    <tr style=\"text-align: right;\">\n",
       "      <th></th>\n",
       "      <th>r1</th>\n",
       "      <th>r5a</th>\n",
       "      <th>r6</th>\n",
       "      <th>r7</th>\n",
       "      <th>r8</th>\n",
       "      <th>r9</th>\n",
       "      <th>r10</th>\n",
       "      <th>r12a</th>\n",
       "      <th>r13a</th>\n",
       "      <th>r14</th>\n",
       "      <th>...</th>\n",
       "      <th>r2818</th>\n",
       "      <th>r2819</th>\n",
       "      <th>r2820</th>\n",
       "      <th>r2821</th>\n",
       "      <th>r2847</th>\n",
       "      <th>BAPAT</th>\n",
       "      <th>HPDH</th>\n",
       "      <th>ALD6</th>\n",
       "      <th>3HPPt</th>\n",
       "      <th>EX_3hpp_e</th>\n",
       "    </tr>\n",
       "  </thead>\n",
       "  <tbody>\n",
       "    <tr>\n",
       "      <th>r1</th>\n",
       "      <td>0.999207</td>\n",
       "      <td>-0.008627</td>\n",
       "      <td>0.003087</td>\n",
       "      <td>0.000249</td>\n",
       "      <td>0.002152</td>\n",
       "      <td>0.007193</td>\n",
       "      <td>0.002975</td>\n",
       "      <td>0.001524</td>\n",
       "      <td>-0.004435</td>\n",
       "      <td>-0.001415</td>\n",
       "      <td>...</td>\n",
       "      <td>0.000131</td>\n",
       "      <td>-0.000170</td>\n",
       "      <td>-0.000204</td>\n",
       "      <td>0.001086</td>\n",
       "      <td>0.000633</td>\n",
       "      <td>-0.002034</td>\n",
       "      <td>-0.003058</td>\n",
       "      <td>-0.000603</td>\n",
       "      <td>-0.001779</td>\n",
       "      <td>-0.000572</td>\n",
       "    </tr>\n",
       "    <tr>\n",
       "      <th>r5a</th>\n",
       "      <td>-0.019779</td>\n",
       "      <td>0.070036</td>\n",
       "      <td>-0.014094</td>\n",
       "      <td>-0.001158</td>\n",
       "      <td>-0.014692</td>\n",
       "      <td>-0.050408</td>\n",
       "      <td>-0.001371</td>\n",
       "      <td>-0.000785</td>\n",
       "      <td>-0.000203</td>\n",
       "      <td>0.001085</td>\n",
       "      <td>...</td>\n",
       "      <td>-0.000048</td>\n",
       "      <td>0.000087</td>\n",
       "      <td>-0.000155</td>\n",
       "      <td>-0.000003</td>\n",
       "      <td>-0.000070</td>\n",
       "      <td>0.000066</td>\n",
       "      <td>-0.000034</td>\n",
       "      <td>-0.000653</td>\n",
       "      <td>0.000044</td>\n",
       "      <td>0.000003</td>\n",
       "    </tr>\n",
       "    <tr>\n",
       "      <th>r6</th>\n",
       "      <td>0.036195</td>\n",
       "      <td>-0.124068</td>\n",
       "      <td>0.025032</td>\n",
       "      <td>0.002062</td>\n",
       "      <td>0.026067</td>\n",
       "      <td>0.089290</td>\n",
       "      <td>0.002429</td>\n",
       "      <td>0.001395</td>\n",
       "      <td>0.000355</td>\n",
       "      <td>-0.001920</td>\n",
       "      <td>...</td>\n",
       "      <td>0.000087</td>\n",
       "      <td>-0.000153</td>\n",
       "      <td>0.000275</td>\n",
       "      <td>0.000005</td>\n",
       "      <td>0.000109</td>\n",
       "      <td>-0.000120</td>\n",
       "      <td>0.000038</td>\n",
       "      <td>0.001151</td>\n",
       "      <td>-0.000074</td>\n",
       "      <td>-0.000005</td>\n",
       "    </tr>\n",
       "    <tr>\n",
       "      <th>r7</th>\n",
       "      <td>0.001390</td>\n",
       "      <td>-0.008804</td>\n",
       "      <td>0.008033</td>\n",
       "      <td>0.076825</td>\n",
       "      <td>0.383871</td>\n",
       "      <td>-0.033234</td>\n",
       "      <td>-0.169904</td>\n",
       "      <td>-0.100860</td>\n",
       "      <td>-0.049186</td>\n",
       "      <td>0.009467</td>\n",
       "      <td>...</td>\n",
       "      <td>-0.001715</td>\n",
       "      <td>-0.000489</td>\n",
       "      <td>0.000302</td>\n",
       "      <td>-0.002687</td>\n",
       "      <td>-0.000801</td>\n",
       "      <td>-0.011235</td>\n",
       "      <td>0.004706</td>\n",
       "      <td>-0.234586</td>\n",
       "      <td>0.007189</td>\n",
       "      <td>0.003148</td>\n",
       "    </tr>\n",
       "    <tr>\n",
       "      <th>r8</th>\n",
       "      <td>0.001628</td>\n",
       "      <td>-0.003028</td>\n",
       "      <td>0.025984</td>\n",
       "      <td>0.090494</td>\n",
       "      <td>0.947099</td>\n",
       "      <td>-0.047957</td>\n",
       "      <td>0.016116</td>\n",
       "      <td>0.008712</td>\n",
       "      <td>0.005352</td>\n",
       "      <td>-0.000673</td>\n",
       "      <td>...</td>\n",
       "      <td>0.000588</td>\n",
       "      <td>-0.000602</td>\n",
       "      <td>0.000885</td>\n",
       "      <td>-0.000386</td>\n",
       "      <td>0.001240</td>\n",
       "      <td>0.001152</td>\n",
       "      <td>-0.001387</td>\n",
       "      <td>0.025267</td>\n",
       "      <td>-0.002173</td>\n",
       "      <td>-0.000051</td>\n",
       "    </tr>\n",
       "    <tr>\n",
       "      <th>...</th>\n",
       "      <td>...</td>\n",
       "      <td>...</td>\n",
       "      <td>...</td>\n",
       "      <td>...</td>\n",
       "      <td>...</td>\n",
       "      <td>...</td>\n",
       "      <td>...</td>\n",
       "      <td>...</td>\n",
       "      <td>...</td>\n",
       "      <td>...</td>\n",
       "      <td>...</td>\n",
       "      <td>...</td>\n",
       "      <td>...</td>\n",
       "      <td>...</td>\n",
       "      <td>...</td>\n",
       "      <td>...</td>\n",
       "      <td>...</td>\n",
       "      <td>...</td>\n",
       "      <td>...</td>\n",
       "      <td>...</td>\n",
       "      <td>...</td>\n",
       "    </tr>\n",
       "    <tr>\n",
       "      <th>BAPAT</th>\n",
       "      <td>-0.000279</td>\n",
       "      <td>0.002119</td>\n",
       "      <td>0.001246</td>\n",
       "      <td>-0.013169</td>\n",
       "      <td>0.007055</td>\n",
       "      <td>0.004614</td>\n",
       "      <td>0.067994</td>\n",
       "      <td>0.041077</td>\n",
       "      <td>0.019961</td>\n",
       "      <td>0.000299</td>\n",
       "      <td>...</td>\n",
       "      <td>-0.005673</td>\n",
       "      <td>-0.001733</td>\n",
       "      <td>-0.000255</td>\n",
       "      <td>-0.005980</td>\n",
       "      <td>0.006608</td>\n",
       "      <td>0.003507</td>\n",
       "      <td>0.012590</td>\n",
       "      <td>-0.008258</td>\n",
       "      <td>0.014380</td>\n",
       "      <td>0.023719</td>\n",
       "    </tr>\n",
       "    <tr>\n",
       "      <th>HPDH</th>\n",
       "      <td>-0.000288</td>\n",
       "      <td>0.003780</td>\n",
       "      <td>0.002586</td>\n",
       "      <td>-0.015308</td>\n",
       "      <td>0.007722</td>\n",
       "      <td>0.004665</td>\n",
       "      <td>0.100294</td>\n",
       "      <td>0.059905</td>\n",
       "      <td>0.029080</td>\n",
       "      <td>0.005450</td>\n",
       "      <td>...</td>\n",
       "      <td>-0.015089</td>\n",
       "      <td>-0.004474</td>\n",
       "      <td>-0.000722</td>\n",
       "      <td>-0.014287</td>\n",
       "      <td>0.013961</td>\n",
       "      <td>-0.012925</td>\n",
       "      <td>0.033422</td>\n",
       "      <td>-0.361308</td>\n",
       "      <td>0.039767</td>\n",
       "      <td>0.057069</td>\n",
       "    </tr>\n",
       "    <tr>\n",
       "      <th>ALD6</th>\n",
       "      <td>-0.000270</td>\n",
       "      <td>-0.001305</td>\n",
       "      <td>-0.000811</td>\n",
       "      <td>-0.008896</td>\n",
       "      <td>0.005312</td>\n",
       "      <td>0.005166</td>\n",
       "      <td>-0.007708</td>\n",
       "      <td>-0.003745</td>\n",
       "      <td>0.000077</td>\n",
       "      <td>-0.011413</td>\n",
       "      <td>...</td>\n",
       "      <td>0.015876</td>\n",
       "      <td>0.004448</td>\n",
       "      <td>0.001981</td>\n",
       "      <td>0.014025</td>\n",
       "      <td>-0.009941</td>\n",
       "      <td>0.041712</td>\n",
       "      <td>-0.036095</td>\n",
       "      <td>0.813419</td>\n",
       "      <td>-0.046617</td>\n",
       "      <td>-0.052623</td>\n",
       "    </tr>\n",
       "    <tr>\n",
       "      <th>3HPPt</th>\n",
       "      <td>-0.000288</td>\n",
       "      <td>0.003780</td>\n",
       "      <td>0.002586</td>\n",
       "      <td>-0.015308</td>\n",
       "      <td>0.007722</td>\n",
       "      <td>0.004665</td>\n",
       "      <td>0.100294</td>\n",
       "      <td>0.059905</td>\n",
       "      <td>0.029080</td>\n",
       "      <td>0.005450</td>\n",
       "      <td>...</td>\n",
       "      <td>-0.015089</td>\n",
       "      <td>-0.004474</td>\n",
       "      <td>-0.000722</td>\n",
       "      <td>-0.014287</td>\n",
       "      <td>0.013961</td>\n",
       "      <td>-0.012925</td>\n",
       "      <td>0.033422</td>\n",
       "      <td>-0.361308</td>\n",
       "      <td>0.039767</td>\n",
       "      <td>0.057069</td>\n",
       "    </tr>\n",
       "    <tr>\n",
       "      <th>EX_3hpp_e</th>\n",
       "      <td>-0.000288</td>\n",
       "      <td>0.003780</td>\n",
       "      <td>0.002586</td>\n",
       "      <td>-0.015308</td>\n",
       "      <td>0.007722</td>\n",
       "      <td>0.004665</td>\n",
       "      <td>0.100294</td>\n",
       "      <td>0.059905</td>\n",
       "      <td>0.029080</td>\n",
       "      <td>0.005450</td>\n",
       "      <td>...</td>\n",
       "      <td>-0.015089</td>\n",
       "      <td>-0.004474</td>\n",
       "      <td>-0.000722</td>\n",
       "      <td>-0.014287</td>\n",
       "      <td>0.013961</td>\n",
       "      <td>-0.012925</td>\n",
       "      <td>0.033422</td>\n",
       "      <td>-0.361308</td>\n",
       "      <td>0.039767</td>\n",
       "      <td>0.057069</td>\n",
       "    </tr>\n",
       "  </tbody>\n",
       "</table>\n",
       "<p>172 rows × 172 columns</p>\n",
       "</div>"
      ],
      "text/plain": [
       "                 r1       r5a        r6        r7        r8        r9  \\\n",
       "r1         0.999207 -0.008627  0.003087  0.000249  0.002152  0.007193   \n",
       "r5a       -0.019779  0.070036 -0.014094 -0.001158 -0.014692 -0.050408   \n",
       "r6         0.036195 -0.124068  0.025032  0.002062  0.026067  0.089290   \n",
       "r7         0.001390 -0.008804  0.008033  0.076825  0.383871 -0.033234   \n",
       "r8         0.001628 -0.003028  0.025984  0.090494  0.947099 -0.047957   \n",
       "...             ...       ...       ...       ...       ...       ...   \n",
       "BAPAT     -0.000279  0.002119  0.001246 -0.013169  0.007055  0.004614   \n",
       "HPDH      -0.000288  0.003780  0.002586 -0.015308  0.007722  0.004665   \n",
       "ALD6      -0.000270 -0.001305 -0.000811 -0.008896  0.005312  0.005166   \n",
       "3HPPt     -0.000288  0.003780  0.002586 -0.015308  0.007722  0.004665   \n",
       "EX_3hpp_e -0.000288  0.003780  0.002586 -0.015308  0.007722  0.004665   \n",
       "\n",
       "                r10      r12a      r13a       r14  ...     r2818     r2819  \\\n",
       "r1         0.002975  0.001524 -0.004435 -0.001415  ...  0.000131 -0.000170   \n",
       "r5a       -0.001371 -0.000785 -0.000203  0.001085  ... -0.000048  0.000087   \n",
       "r6         0.002429  0.001395  0.000355 -0.001920  ...  0.000087 -0.000153   \n",
       "r7        -0.169904 -0.100860 -0.049186  0.009467  ... -0.001715 -0.000489   \n",
       "r8         0.016116  0.008712  0.005352 -0.000673  ...  0.000588 -0.000602   \n",
       "...             ...       ...       ...       ...  ...       ...       ...   \n",
       "BAPAT      0.067994  0.041077  0.019961  0.000299  ... -0.005673 -0.001733   \n",
       "HPDH       0.100294  0.059905  0.029080  0.005450  ... -0.015089 -0.004474   \n",
       "ALD6      -0.007708 -0.003745  0.000077 -0.011413  ...  0.015876  0.004448   \n",
       "3HPPt      0.100294  0.059905  0.029080  0.005450  ... -0.015089 -0.004474   \n",
       "EX_3hpp_e  0.100294  0.059905  0.029080  0.005450  ... -0.015089 -0.004474   \n",
       "\n",
       "              r2820     r2821     r2847     BAPAT      HPDH      ALD6  \\\n",
       "r1        -0.000204  0.001086  0.000633 -0.002034 -0.003058 -0.000603   \n",
       "r5a       -0.000155 -0.000003 -0.000070  0.000066 -0.000034 -0.000653   \n",
       "r6         0.000275  0.000005  0.000109 -0.000120  0.000038  0.001151   \n",
       "r7         0.000302 -0.002687 -0.000801 -0.011235  0.004706 -0.234586   \n",
       "r8         0.000885 -0.000386  0.001240  0.001152 -0.001387  0.025267   \n",
       "...             ...       ...       ...       ...       ...       ...   \n",
       "BAPAT     -0.000255 -0.005980  0.006608  0.003507  0.012590 -0.008258   \n",
       "HPDH      -0.000722 -0.014287  0.013961 -0.012925  0.033422 -0.361308   \n",
       "ALD6       0.001981  0.014025 -0.009941  0.041712 -0.036095  0.813419   \n",
       "3HPPt     -0.000722 -0.014287  0.013961 -0.012925  0.033422 -0.361308   \n",
       "EX_3hpp_e -0.000722 -0.014287  0.013961 -0.012925  0.033422 -0.361308   \n",
       "\n",
       "              3HPPt  EX_3hpp_e  \n",
       "r1        -0.001779  -0.000572  \n",
       "r5a        0.000044   0.000003  \n",
       "r6        -0.000074  -0.000005  \n",
       "r7         0.007189   0.003148  \n",
       "r8        -0.002173  -0.000051  \n",
       "...             ...        ...  \n",
       "BAPAT      0.014380   0.023719  \n",
       "HPDH       0.039767   0.057069  \n",
       "ALD6      -0.046617  -0.052623  \n",
       "3HPPt      0.039767   0.057069  \n",
       "EX_3hpp_e  0.039767   0.057069  \n",
       "\n",
       "[172 rows x 172 columns]"
      ]
     },
     "execution_count": 30,
     "metadata": {},
     "output_type": "execute_result"
    },
    {
     "data": {
      "application/javascript": [
       "\n",
       "            setTimeout(function() {\n",
       "                var nbb_cell_id = 30;\n",
       "                var nbb_unformatted_code = \"fcc_med = np.median(fccs, 0)\\nfcc_med = pd.DataFrame(fcc_med, columns=r_labels, index=r_labels)\\nfcc_med\";\n",
       "                var nbb_formatted_code = \"fcc_med = np.median(fccs, 0)\\nfcc_med = pd.DataFrame(fcc_med, columns=r_labels, index=r_labels)\\nfcc_med\";\n",
       "                var nbb_cells = Jupyter.notebook.get_cells();\n",
       "                for (var i = 0; i < nbb_cells.length; ++i) {\n",
       "                    if (nbb_cells[i].input_prompt_number == nbb_cell_id) {\n",
       "                        if (nbb_cells[i].get_text() == nbb_unformatted_code) {\n",
       "                             nbb_cells[i].set_text(nbb_formatted_code);\n",
       "                        }\n",
       "                        break;\n",
       "                    }\n",
       "                }\n",
       "            }, 500);\n",
       "            "
      ],
      "text/plain": [
       "<IPython.core.display.Javascript object>"
      ]
     },
     "metadata": {},
     "output_type": "display_data"
    }
   ],
   "source": [
    "fcc_med = np.median(fccs, 0)\n",
    "fcc_med = pd.DataFrame(fcc_med, columns=r_labels, index=r_labels)\n",
    "fcc_med"
   ]
  },
  {
   "cell_type": "code",
   "execution_count": 31,
   "metadata": {},
   "outputs": [
    {
     "data": {
      "text/html": [
       "<div>\n",
       "<style scoped>\n",
       "    .dataframe tbody tr th:only-of-type {\n",
       "        vertical-align: middle;\n",
       "    }\n",
       "\n",
       "    .dataframe tbody tr th {\n",
       "        vertical-align: top;\n",
       "    }\n",
       "\n",
       "    .dataframe thead th {\n",
       "        text-align: right;\n",
       "    }\n",
       "</style>\n",
       "<table border=\"1\" class=\"dataframe\">\n",
       "  <thead>\n",
       "    <tr style=\"text-align: right;\">\n",
       "      <th></th>\n",
       "      <th>r5a</th>\n",
       "      <th>r7</th>\n",
       "      <th>r8</th>\n",
       "      <th>r10</th>\n",
       "      <th>r12a</th>\n",
       "      <th>r13a</th>\n",
       "      <th>r14</th>\n",
       "      <th>r15</th>\n",
       "      <th>r16a</th>\n",
       "      <th>r17</th>\n",
       "      <th>...</th>\n",
       "      <th>r127</th>\n",
       "      <th>r243</th>\n",
       "      <th>r258</th>\n",
       "      <th>r259</th>\n",
       "      <th>r258m</th>\n",
       "      <th>PAND</th>\n",
       "      <th>r2142</th>\n",
       "      <th>r2143</th>\n",
       "      <th>r2144</th>\n",
       "      <th>BAPAT</th>\n",
       "    </tr>\n",
       "  </thead>\n",
       "  <tbody>\n",
       "    <tr>\n",
       "      <th>r1</th>\n",
       "      <td>-0.501740</td>\n",
       "      <td>-0.443259</td>\n",
       "      <td>-0.443259</td>\n",
       "      <td>0.617495</td>\n",
       "      <td>-0.194865</td>\n",
       "      <td>0.199191</td>\n",
       "      <td>0.247948</td>\n",
       "      <td>0.018690</td>\n",
       "      <td>0.039706</td>\n",
       "      <td>-0.362464</td>\n",
       "      <td>...</td>\n",
       "      <td>-0.209148</td>\n",
       "      <td>-0.648739</td>\n",
       "      <td>-0.321830</td>\n",
       "      <td>-0.054397</td>\n",
       "      <td>0.288853</td>\n",
       "      <td>-0.709064</td>\n",
       "      <td>-0.587020</td>\n",
       "      <td>-0.587020</td>\n",
       "      <td>-0.587020</td>\n",
       "      <td>-0.463216</td>\n",
       "    </tr>\n",
       "    <tr>\n",
       "      <th>r5a</th>\n",
       "      <td>0.669909</td>\n",
       "      <td>0.475661</td>\n",
       "      <td>0.475661</td>\n",
       "      <td>-0.614526</td>\n",
       "      <td>0.376706</td>\n",
       "      <td>-0.194573</td>\n",
       "      <td>-0.131868</td>\n",
       "      <td>0.268197</td>\n",
       "      <td>0.155214</td>\n",
       "      <td>0.532652</td>\n",
       "      <td>...</td>\n",
       "      <td>0.165994</td>\n",
       "      <td>0.660376</td>\n",
       "      <td>0.348116</td>\n",
       "      <td>0.204758</td>\n",
       "      <td>-0.365199</td>\n",
       "      <td>0.848483</td>\n",
       "      <td>0.717450</td>\n",
       "      <td>0.717450</td>\n",
       "      <td>0.717450</td>\n",
       "      <td>0.652052</td>\n",
       "    </tr>\n",
       "    <tr>\n",
       "      <th>r6</th>\n",
       "      <td>0.505730</td>\n",
       "      <td>0.278024</td>\n",
       "      <td>0.278024</td>\n",
       "      <td>-0.317423</td>\n",
       "      <td>0.365699</td>\n",
       "      <td>-0.097075</td>\n",
       "      <td>0.039444</td>\n",
       "      <td>0.407034</td>\n",
       "      <td>0.262480</td>\n",
       "      <td>0.436096</td>\n",
       "      <td>...</td>\n",
       "      <td>0.046282</td>\n",
       "      <td>0.354920</td>\n",
       "      <td>0.205871</td>\n",
       "      <td>0.246778</td>\n",
       "      <td>-0.261413</td>\n",
       "      <td>0.571986</td>\n",
       "      <td>0.495337</td>\n",
       "      <td>0.495337</td>\n",
       "      <td>0.495337</td>\n",
       "      <td>0.515681</td>\n",
       "    </tr>\n",
       "    <tr>\n",
       "      <th>r7</th>\n",
       "      <td>0.581390</td>\n",
       "      <td>0.479116</td>\n",
       "      <td>0.479116</td>\n",
       "      <td>-0.653155</td>\n",
       "      <td>0.260417</td>\n",
       "      <td>-0.209607</td>\n",
       "      <td>-0.228137</td>\n",
       "      <td>0.065430</td>\n",
       "      <td>0.015850</td>\n",
       "      <td>0.434472</td>\n",
       "      <td>...</td>\n",
       "      <td>0.208706</td>\n",
       "      <td>0.690587</td>\n",
       "      <td>0.348685</td>\n",
       "      <td>0.102285</td>\n",
       "      <td>-0.328627</td>\n",
       "      <td>0.792443</td>\n",
       "      <td>0.660506</td>\n",
       "      <td>0.660506</td>\n",
       "      <td>0.660506</td>\n",
       "      <td>0.546726</td>\n",
       "    </tr>\n",
       "    <tr>\n",
       "      <th>r8</th>\n",
       "      <td>-0.501740</td>\n",
       "      <td>-0.443259</td>\n",
       "      <td>-0.443259</td>\n",
       "      <td>0.617495</td>\n",
       "      <td>-0.194865</td>\n",
       "      <td>0.199191</td>\n",
       "      <td>0.247948</td>\n",
       "      <td>0.018690</td>\n",
       "      <td>0.039706</td>\n",
       "      <td>-0.362464</td>\n",
       "      <td>...</td>\n",
       "      <td>-0.209148</td>\n",
       "      <td>-0.648739</td>\n",
       "      <td>-0.321830</td>\n",
       "      <td>-0.054397</td>\n",
       "      <td>0.288853</td>\n",
       "      <td>-0.709064</td>\n",
       "      <td>-0.587020</td>\n",
       "      <td>-0.587020</td>\n",
       "      <td>-0.587020</td>\n",
       "      <td>-0.463216</td>\n",
       "    </tr>\n",
       "    <tr>\n",
       "      <th>...</th>\n",
       "      <td>...</td>\n",
       "      <td>...</td>\n",
       "      <td>...</td>\n",
       "      <td>...</td>\n",
       "      <td>...</td>\n",
       "      <td>...</td>\n",
       "      <td>...</td>\n",
       "      <td>...</td>\n",
       "      <td>...</td>\n",
       "      <td>...</td>\n",
       "      <td>...</td>\n",
       "      <td>...</td>\n",
       "      <td>...</td>\n",
       "      <td>...</td>\n",
       "      <td>...</td>\n",
       "      <td>...</td>\n",
       "      <td>...</td>\n",
       "      <td>...</td>\n",
       "      <td>...</td>\n",
       "      <td>...</td>\n",
       "      <td>...</td>\n",
       "    </tr>\n",
       "    <tr>\n",
       "      <th>BAPAT</th>\n",
       "      <td>0.580996</td>\n",
       "      <td>0.450313</td>\n",
       "      <td>0.450313</td>\n",
       "      <td>-0.614032</td>\n",
       "      <td>0.321411</td>\n",
       "      <td>-0.196599</td>\n",
       "      <td>-0.142117</td>\n",
       "      <td>0.209807</td>\n",
       "      <td>0.143925</td>\n",
       "      <td>0.388813</td>\n",
       "      <td>...</td>\n",
       "      <td>0.219805</td>\n",
       "      <td>0.605768</td>\n",
       "      <td>0.270359</td>\n",
       "      <td>0.053090</td>\n",
       "      <td>-0.387904</td>\n",
       "      <td>0.761138</td>\n",
       "      <td>0.598646</td>\n",
       "      <td>0.598646</td>\n",
       "      <td>0.598646</td>\n",
       "      <td>0.503466</td>\n",
       "    </tr>\n",
       "    <tr>\n",
       "      <th>HPDH</th>\n",
       "      <td>0.595342</td>\n",
       "      <td>0.501190</td>\n",
       "      <td>0.501190</td>\n",
       "      <td>-0.686203</td>\n",
       "      <td>0.321286</td>\n",
       "      <td>-0.238739</td>\n",
       "      <td>-0.184697</td>\n",
       "      <td>0.180340</td>\n",
       "      <td>0.098687</td>\n",
       "      <td>0.433112</td>\n",
       "      <td>...</td>\n",
       "      <td>0.156024</td>\n",
       "      <td>0.692508</td>\n",
       "      <td>0.328050</td>\n",
       "      <td>0.172151</td>\n",
       "      <td>-0.347739</td>\n",
       "      <td>0.840399</td>\n",
       "      <td>0.694320</td>\n",
       "      <td>0.694320</td>\n",
       "      <td>0.694320</td>\n",
       "      <td>0.605690</td>\n",
       "    </tr>\n",
       "    <tr>\n",
       "      <th>ALD6</th>\n",
       "      <td>-0.368068</td>\n",
       "      <td>-0.500904</td>\n",
       "      <td>-0.500904</td>\n",
       "      <td>0.698185</td>\n",
       "      <td>-0.159896</td>\n",
       "      <td>0.326769</td>\n",
       "      <td>0.301937</td>\n",
       "      <td>0.054997</td>\n",
       "      <td>0.173451</td>\n",
       "      <td>-0.434505</td>\n",
       "      <td>...</td>\n",
       "      <td>0.236107</td>\n",
       "      <td>-0.773072</td>\n",
       "      <td>-0.447959</td>\n",
       "      <td>-0.672257</td>\n",
       "      <td>-0.024046</td>\n",
       "      <td>-0.810134</td>\n",
       "      <td>-0.817974</td>\n",
       "      <td>-0.817974</td>\n",
       "      <td>-0.817974</td>\n",
       "      <td>-0.805945</td>\n",
       "    </tr>\n",
       "    <tr>\n",
       "      <th>3HPPt</th>\n",
       "      <td>0.595342</td>\n",
       "      <td>0.501190</td>\n",
       "      <td>0.501190</td>\n",
       "      <td>-0.686203</td>\n",
       "      <td>0.321286</td>\n",
       "      <td>-0.238739</td>\n",
       "      <td>-0.184697</td>\n",
       "      <td>0.180340</td>\n",
       "      <td>0.098687</td>\n",
       "      <td>0.433112</td>\n",
       "      <td>...</td>\n",
       "      <td>0.156024</td>\n",
       "      <td>0.692508</td>\n",
       "      <td>0.328050</td>\n",
       "      <td>0.172151</td>\n",
       "      <td>-0.347739</td>\n",
       "      <td>0.840399</td>\n",
       "      <td>0.694320</td>\n",
       "      <td>0.694320</td>\n",
       "      <td>0.694320</td>\n",
       "      <td>0.605690</td>\n",
       "    </tr>\n",
       "    <tr>\n",
       "      <th>EX_3hpp_e</th>\n",
       "      <td>0.595342</td>\n",
       "      <td>0.501190</td>\n",
       "      <td>0.501190</td>\n",
       "      <td>-0.686203</td>\n",
       "      <td>0.321286</td>\n",
       "      <td>-0.238739</td>\n",
       "      <td>-0.184697</td>\n",
       "      <td>0.180340</td>\n",
       "      <td>0.098687</td>\n",
       "      <td>0.433112</td>\n",
       "      <td>...</td>\n",
       "      <td>0.156024</td>\n",
       "      <td>0.692508</td>\n",
       "      <td>0.328050</td>\n",
       "      <td>0.172151</td>\n",
       "      <td>-0.347739</td>\n",
       "      <td>0.840399</td>\n",
       "      <td>0.694320</td>\n",
       "      <td>0.694320</td>\n",
       "      <td>0.694320</td>\n",
       "      <td>0.605690</td>\n",
       "    </tr>\n",
       "  </tbody>\n",
       "</table>\n",
       "<p>172 rows × 38 columns</p>\n",
       "</div>"
      ],
      "text/plain": [
       "                r5a        r7        r8       r10      r12a      r13a  \\\n",
       "r1        -0.501740 -0.443259 -0.443259  0.617495 -0.194865  0.199191   \n",
       "r5a        0.669909  0.475661  0.475661 -0.614526  0.376706 -0.194573   \n",
       "r6         0.505730  0.278024  0.278024 -0.317423  0.365699 -0.097075   \n",
       "r7         0.581390  0.479116  0.479116 -0.653155  0.260417 -0.209607   \n",
       "r8        -0.501740 -0.443259 -0.443259  0.617495 -0.194865  0.199191   \n",
       "...             ...       ...       ...       ...       ...       ...   \n",
       "BAPAT      0.580996  0.450313  0.450313 -0.614032  0.321411 -0.196599   \n",
       "HPDH       0.595342  0.501190  0.501190 -0.686203  0.321286 -0.238739   \n",
       "ALD6      -0.368068 -0.500904 -0.500904  0.698185 -0.159896  0.326769   \n",
       "3HPPt      0.595342  0.501190  0.501190 -0.686203  0.321286 -0.238739   \n",
       "EX_3hpp_e  0.595342  0.501190  0.501190 -0.686203  0.321286 -0.238739   \n",
       "\n",
       "                r14       r15      r16a       r17  ...      r127      r243  \\\n",
       "r1         0.247948  0.018690  0.039706 -0.362464  ... -0.209148 -0.648739   \n",
       "r5a       -0.131868  0.268197  0.155214  0.532652  ...  0.165994  0.660376   \n",
       "r6         0.039444  0.407034  0.262480  0.436096  ...  0.046282  0.354920   \n",
       "r7        -0.228137  0.065430  0.015850  0.434472  ...  0.208706  0.690587   \n",
       "r8         0.247948  0.018690  0.039706 -0.362464  ... -0.209148 -0.648739   \n",
       "...             ...       ...       ...       ...  ...       ...       ...   \n",
       "BAPAT     -0.142117  0.209807  0.143925  0.388813  ...  0.219805  0.605768   \n",
       "HPDH      -0.184697  0.180340  0.098687  0.433112  ...  0.156024  0.692508   \n",
       "ALD6       0.301937  0.054997  0.173451 -0.434505  ...  0.236107 -0.773072   \n",
       "3HPPt     -0.184697  0.180340  0.098687  0.433112  ...  0.156024  0.692508   \n",
       "EX_3hpp_e -0.184697  0.180340  0.098687  0.433112  ...  0.156024  0.692508   \n",
       "\n",
       "               r258      r259     r258m      PAND     r2142     r2143  \\\n",
       "r1        -0.321830 -0.054397  0.288853 -0.709064 -0.587020 -0.587020   \n",
       "r5a        0.348116  0.204758 -0.365199  0.848483  0.717450  0.717450   \n",
       "r6         0.205871  0.246778 -0.261413  0.571986  0.495337  0.495337   \n",
       "r7         0.348685  0.102285 -0.328627  0.792443  0.660506  0.660506   \n",
       "r8        -0.321830 -0.054397  0.288853 -0.709064 -0.587020 -0.587020   \n",
       "...             ...       ...       ...       ...       ...       ...   \n",
       "BAPAT      0.270359  0.053090 -0.387904  0.761138  0.598646  0.598646   \n",
       "HPDH       0.328050  0.172151 -0.347739  0.840399  0.694320  0.694320   \n",
       "ALD6      -0.447959 -0.672257 -0.024046 -0.810134 -0.817974 -0.817974   \n",
       "3HPPt      0.328050  0.172151 -0.347739  0.840399  0.694320  0.694320   \n",
       "EX_3hpp_e  0.328050  0.172151 -0.347739  0.840399  0.694320  0.694320   \n",
       "\n",
       "              r2144     BAPAT  \n",
       "r1        -0.587020 -0.463216  \n",
       "r5a        0.717450  0.652052  \n",
       "r6         0.495337  0.515681  \n",
       "r7         0.660506  0.546726  \n",
       "r8        -0.587020 -0.463216  \n",
       "...             ...       ...  \n",
       "BAPAT      0.598646  0.503466  \n",
       "HPDH       0.694320  0.605690  \n",
       "ALD6      -0.817974 -0.805945  \n",
       "3HPPt      0.694320  0.605690  \n",
       "EX_3hpp_e  0.694320  0.605690  \n",
       "\n",
       "[172 rows x 38 columns]"
      ]
     },
     "execution_count": 31,
     "metadata": {},
     "output_type": "execute_result"
    },
    {
     "data": {
      "application/javascript": [
       "\n",
       "            setTimeout(function() {\n",
       "                var nbb_cell_id = 31;\n",
       "                var nbb_unformatted_code = \"def corrwith(left, right, df=True):\\n    # demeaned data\\n    left_tiled = np.repeat(left.values[:, np.newaxis, :], right.shape[0], 1)\\n    right_tiled = np.repeat(right.values[np.newaxis, :, :], left.shape[0], 0)\\n\\n    ldem = left_tiled - left_tiled.mean(-1)[:, :, np.newaxis]\\n    rdem = right_tiled - right_tiled.mean(-1)[:, :, np.newaxis]\\n\\n    num = (ldem * rdem).sum(-1)\\n\\n    dom = (left.shape[1] - 1) * left_tiled.std(-1) * right_tiled.std(-1)\\n    correl = num / dom\\n\\n    if not df:\\n        return correl\\n    else:\\n        return pd.DataFrame(correl, index=left.index, columns=right.index)\\n\\n\\ncorr_df = corrwith(e, v).T\\ncorr_df\";\n",
       "                var nbb_formatted_code = \"def corrwith(left, right, df=True):\\n    # demeaned data\\n    left_tiled = np.repeat(left.values[:, np.newaxis, :], right.shape[0], 1)\\n    right_tiled = np.repeat(right.values[np.newaxis, :, :], left.shape[0], 0)\\n\\n    ldem = left_tiled - left_tiled.mean(-1)[:, :, np.newaxis]\\n    rdem = right_tiled - right_tiled.mean(-1)[:, :, np.newaxis]\\n\\n    num = (ldem * rdem).sum(-1)\\n\\n    dom = (left.shape[1] - 1) * left_tiled.std(-1) * right_tiled.std(-1)\\n    correl = num / dom\\n\\n    if not df:\\n        return correl\\n    else:\\n        return pd.DataFrame(correl, index=left.index, columns=right.index)\\n\\n\\ncorr_df = corrwith(e, v).T\\ncorr_df\";\n",
       "                var nbb_cells = Jupyter.notebook.get_cells();\n",
       "                for (var i = 0; i < nbb_cells.length; ++i) {\n",
       "                    if (nbb_cells[i].input_prompt_number == nbb_cell_id) {\n",
       "                        if (nbb_cells[i].get_text() == nbb_unformatted_code) {\n",
       "                             nbb_cells[i].set_text(nbb_formatted_code);\n",
       "                        }\n",
       "                        break;\n",
       "                    }\n",
       "                }\n",
       "            }, 500);\n",
       "            "
      ],
      "text/plain": [
       "<IPython.core.display.Javascript object>"
      ]
     },
     "metadata": {},
     "output_type": "display_data"
    }
   ],
   "source": [
    "def corrwith(left, right, df=True):\n",
    "    # demeaned data\n",
    "    left_tiled = np.repeat(left.values[:, np.newaxis, :], right.shape[0], 1)\n",
    "    right_tiled = np.repeat(right.values[np.newaxis, :, :], left.shape[0], 0)\n",
    "\n",
    "    ldem = left_tiled - left_tiled.mean(-1)[:, :, np.newaxis]\n",
    "    rdem = right_tiled - right_tiled.mean(-1)[:, :, np.newaxis]\n",
    "\n",
    "    num = (ldem * rdem).sum(-1)\n",
    "\n",
    "    dom = (left.shape[1] - 1) * left_tiled.std(-1) * right_tiled.std(-1)\n",
    "    correl = num / dom\n",
    "\n",
    "    if not df:\n",
    "        return correl\n",
    "    else:\n",
    "        return pd.DataFrame(correl, index=left.index, columns=right.index)\n",
    "\n",
    "\n",
    "corr_df = corrwith(e, v).T\n",
    "corr_df"
   ]
  },
  {
   "cell_type": "code",
   "execution_count": 32,
   "metadata": {},
   "outputs": [
    {
     "data": {
      "application/javascript": [
       "\n",
       "            setTimeout(function() {\n",
       "                var nbb_cell_id = 32;\n",
       "                var nbb_unformatted_code = \"def random_corr_iterator():\\n    return corrwith(\\n        e.loc[:, np.random.permutation(e.columns)],\\n        v.loc[:, np.random.permutation(e.columns)],\\n        df=False,\\n    )\";\n",
       "                var nbb_formatted_code = \"def random_corr_iterator():\\n    return corrwith(\\n        e.loc[:, np.random.permutation(e.columns)],\\n        v.loc[:, np.random.permutation(e.columns)],\\n        df=False,\\n    )\";\n",
       "                var nbb_cells = Jupyter.notebook.get_cells();\n",
       "                for (var i = 0; i < nbb_cells.length; ++i) {\n",
       "                    if (nbb_cells[i].input_prompt_number == nbb_cell_id) {\n",
       "                        if (nbb_cells[i].get_text() == nbb_unformatted_code) {\n",
       "                             nbb_cells[i].set_text(nbb_formatted_code);\n",
       "                        }\n",
       "                        break;\n",
       "                    }\n",
       "                }\n",
       "            }, 500);\n",
       "            "
      ],
      "text/plain": [
       "<IPython.core.display.Javascript object>"
      ]
     },
     "metadata": {},
     "output_type": "display_data"
    }
   ],
   "source": [
    "def random_corr_iterator():\n",
    "    return corrwith(\n",
    "        e.loc[:, np.random.permutation(e.columns)],\n",
    "        v.loc[:, np.random.permutation(e.columns)],\n",
    "        df=False,\n",
    "    )"
   ]
  },
  {
   "cell_type": "code",
   "execution_count": 33,
   "metadata": {},
   "outputs": [
    {
     "name": "stderr",
     "output_type": "stream",
     "text": [
      "100%|██████████| 2000/2000 [00:08<00:00, 231.09it/s]\n"
     ]
    },
    {
     "data": {
      "application/javascript": [
       "\n",
       "            setTimeout(function() {\n",
       "                var nbb_cell_id = 33;\n",
       "                var nbb_unformatted_code = \"permuted_corr_mat = np.array([random_corr_iterator() for _ in tqdm(range(2000))])\";\n",
       "                var nbb_formatted_code = \"permuted_corr_mat = np.array([random_corr_iterator() for _ in tqdm(range(2000))])\";\n",
       "                var nbb_cells = Jupyter.notebook.get_cells();\n",
       "                for (var i = 0; i < nbb_cells.length; ++i) {\n",
       "                    if (nbb_cells[i].input_prompt_number == nbb_cell_id) {\n",
       "                        if (nbb_cells[i].get_text() == nbb_unformatted_code) {\n",
       "                             nbb_cells[i].set_text(nbb_formatted_code);\n",
       "                        }\n",
       "                        break;\n",
       "                    }\n",
       "                }\n",
       "            }, 500);\n",
       "            "
      ],
      "text/plain": [
       "<IPython.core.display.Javascript object>"
      ]
     },
     "metadata": {},
     "output_type": "display_data"
    }
   ],
   "source": [
    "permuted_corr_mat = np.array([random_corr_iterator() for _ in tqdm(range(2000))])"
   ]
  },
  {
   "cell_type": "code",
   "execution_count": 34,
   "metadata": {},
   "outputs": [
    {
     "data": {
      "application/javascript": [
       "\n",
       "            setTimeout(function() {\n",
       "                var nbb_cell_id = 34;\n",
       "                var nbb_unformatted_code = \"import scipy\\nfrom scipy import cluster\\n\\nz_scores = (corr_df - permuted_corr_mat.mean(0).T) / permuted_corr_mat.std(0).T\\np_vals = 2 * z_scores.abs().apply(scipy.stats.norm.sf)\\n\\n\\ndef sort_df(df):\\n    df = df.replace(np.inf, 10).replace(-np.inf, -10)\\n    sort_x = cluster.hierarchy.leaves_list(cluster.hierarchy.linkage(df, \\\"complete\\\"))\\n    sort_y = cluster.hierarchy.leaves_list(cluster.hierarchy.linkage(df.T, \\\"complete\\\"))\\n\\n    return df.iloc[sort_x, sort_y]\";\n",
       "                var nbb_formatted_code = \"import scipy\\nfrom scipy import cluster\\n\\nz_scores = (corr_df - permuted_corr_mat.mean(0).T) / permuted_corr_mat.std(0).T\\np_vals = 2 * z_scores.abs().apply(scipy.stats.norm.sf)\\n\\n\\ndef sort_df(df):\\n    df = df.replace(np.inf, 10).replace(-np.inf, -10)\\n    sort_x = cluster.hierarchy.leaves_list(cluster.hierarchy.linkage(df, \\\"complete\\\"))\\n    sort_y = cluster.hierarchy.leaves_list(cluster.hierarchy.linkage(df.T, \\\"complete\\\"))\\n\\n    return df.iloc[sort_x, sort_y]\";\n",
       "                var nbb_cells = Jupyter.notebook.get_cells();\n",
       "                for (var i = 0; i < nbb_cells.length; ++i) {\n",
       "                    if (nbb_cells[i].input_prompt_number == nbb_cell_id) {\n",
       "                        if (nbb_cells[i].get_text() == nbb_unformatted_code) {\n",
       "                             nbb_cells[i].set_text(nbb_formatted_code);\n",
       "                        }\n",
       "                        break;\n",
       "                    }\n",
       "                }\n",
       "            }, 500);\n",
       "            "
      ],
      "text/plain": [
       "<IPython.core.display.Javascript object>"
      ]
     },
     "metadata": {},
     "output_type": "display_data"
    }
   ],
   "source": [
    "import scipy\n",
    "from scipy import cluster\n",
    "\n",
    "z_scores = (corr_df - permuted_corr_mat.mean(0).T) / permuted_corr_mat.std(0).T\n",
    "p_vals = 2 * z_scores.abs().apply(scipy.stats.norm.sf)\n",
    "\n",
    "\n",
    "def sort_df(df):\n",
    "    df = df.replace(np.inf, 10).replace(-np.inf, -10)\n",
    "    sort_x = cluster.hierarchy.leaves_list(cluster.hierarchy.linkage(df, \"complete\"))\n",
    "    sort_y = cluster.hierarchy.leaves_list(cluster.hierarchy.linkage(df.T, \"complete\"))\n",
    "\n",
    "    return df.iloc[sort_x, sort_y]"
   ]
  },
  {
   "cell_type": "code",
   "execution_count": 35,
   "metadata": {},
   "outputs": [
    {
     "data": {
      "text/html": [
       "<div>\n",
       "<style scoped>\n",
       "    .dataframe tbody tr th:only-of-type {\n",
       "        vertical-align: middle;\n",
       "    }\n",
       "\n",
       "    .dataframe tbody tr th {\n",
       "        vertical-align: top;\n",
       "    }\n",
       "\n",
       "    .dataframe thead th {\n",
       "        text-align: right;\n",
       "    }\n",
       "</style>\n",
       "<table border=\"1\" class=\"dataframe\">\n",
       "  <thead>\n",
       "    <tr style=\"text-align: right;\">\n",
       "      <th></th>\n",
       "      <th>r5a</th>\n",
       "      <th>r7</th>\n",
       "      <th>r8</th>\n",
       "      <th>r10</th>\n",
       "      <th>r12a</th>\n",
       "      <th>r13a</th>\n",
       "      <th>r14</th>\n",
       "      <th>r15</th>\n",
       "      <th>r16a</th>\n",
       "      <th>r17</th>\n",
       "      <th>...</th>\n",
       "      <th>r127</th>\n",
       "      <th>r243</th>\n",
       "      <th>r258</th>\n",
       "      <th>r259</th>\n",
       "      <th>r258m</th>\n",
       "      <th>PAND</th>\n",
       "      <th>r2142</th>\n",
       "      <th>r2143</th>\n",
       "      <th>r2144</th>\n",
       "      <th>BAPAT</th>\n",
       "    </tr>\n",
       "  </thead>\n",
       "  <tbody>\n",
       "    <tr>\n",
       "      <th>r1</th>\n",
       "      <td>-0.501740</td>\n",
       "      <td>-0.443259</td>\n",
       "      <td>-0.443259</td>\n",
       "      <td>0.617495</td>\n",
       "      <td>-0.194865</td>\n",
       "      <td>0.199191</td>\n",
       "      <td>0.247948</td>\n",
       "      <td>0.018690</td>\n",
       "      <td>0.039706</td>\n",
       "      <td>-0.362464</td>\n",
       "      <td>...</td>\n",
       "      <td>-0.209148</td>\n",
       "      <td>-0.648739</td>\n",
       "      <td>-0.321830</td>\n",
       "      <td>-0.054397</td>\n",
       "      <td>0.288853</td>\n",
       "      <td>-0.709064</td>\n",
       "      <td>-0.587020</td>\n",
       "      <td>-0.587020</td>\n",
       "      <td>-0.587020</td>\n",
       "      <td>-0.463216</td>\n",
       "    </tr>\n",
       "    <tr>\n",
       "      <th>r5a</th>\n",
       "      <td>0.669909</td>\n",
       "      <td>0.475661</td>\n",
       "      <td>0.475661</td>\n",
       "      <td>-0.614526</td>\n",
       "      <td>0.376706</td>\n",
       "      <td>-0.194573</td>\n",
       "      <td>-0.131868</td>\n",
       "      <td>0.268197</td>\n",
       "      <td>0.155214</td>\n",
       "      <td>0.532652</td>\n",
       "      <td>...</td>\n",
       "      <td>0.165994</td>\n",
       "      <td>0.660376</td>\n",
       "      <td>0.348116</td>\n",
       "      <td>0.204758</td>\n",
       "      <td>-0.365199</td>\n",
       "      <td>0.848483</td>\n",
       "      <td>0.717450</td>\n",
       "      <td>0.717450</td>\n",
       "      <td>0.717450</td>\n",
       "      <td>0.652052</td>\n",
       "    </tr>\n",
       "    <tr>\n",
       "      <th>r6</th>\n",
       "      <td>0.505730</td>\n",
       "      <td>0.278024</td>\n",
       "      <td>0.278024</td>\n",
       "      <td>-0.317423</td>\n",
       "      <td>0.365699</td>\n",
       "      <td>-0.097075</td>\n",
       "      <td>0.039444</td>\n",
       "      <td>0.407034</td>\n",
       "      <td>0.262480</td>\n",
       "      <td>0.436096</td>\n",
       "      <td>...</td>\n",
       "      <td>0.046282</td>\n",
       "      <td>0.354920</td>\n",
       "      <td>0.205871</td>\n",
       "      <td>0.246778</td>\n",
       "      <td>-0.261413</td>\n",
       "      <td>0.571986</td>\n",
       "      <td>0.495337</td>\n",
       "      <td>0.495337</td>\n",
       "      <td>0.495337</td>\n",
       "      <td>0.515681</td>\n",
       "    </tr>\n",
       "    <tr>\n",
       "      <th>r7</th>\n",
       "      <td>0.581390</td>\n",
       "      <td>0.479116</td>\n",
       "      <td>0.479116</td>\n",
       "      <td>-0.653155</td>\n",
       "      <td>0.260417</td>\n",
       "      <td>-0.209607</td>\n",
       "      <td>-0.228137</td>\n",
       "      <td>0.065430</td>\n",
       "      <td>0.015850</td>\n",
       "      <td>0.434472</td>\n",
       "      <td>...</td>\n",
       "      <td>0.208706</td>\n",
       "      <td>0.690587</td>\n",
       "      <td>0.348685</td>\n",
       "      <td>0.102285</td>\n",
       "      <td>-0.328627</td>\n",
       "      <td>0.792443</td>\n",
       "      <td>0.660506</td>\n",
       "      <td>0.660506</td>\n",
       "      <td>0.660506</td>\n",
       "      <td>0.546726</td>\n",
       "    </tr>\n",
       "    <tr>\n",
       "      <th>r8</th>\n",
       "      <td>-0.501740</td>\n",
       "      <td>-0.443259</td>\n",
       "      <td>-0.443259</td>\n",
       "      <td>0.617495</td>\n",
       "      <td>-0.194865</td>\n",
       "      <td>0.199191</td>\n",
       "      <td>0.247948</td>\n",
       "      <td>0.018690</td>\n",
       "      <td>0.039706</td>\n",
       "      <td>-0.362464</td>\n",
       "      <td>...</td>\n",
       "      <td>-0.209148</td>\n",
       "      <td>-0.648739</td>\n",
       "      <td>-0.321830</td>\n",
       "      <td>-0.054397</td>\n",
       "      <td>0.288853</td>\n",
       "      <td>-0.709064</td>\n",
       "      <td>-0.587020</td>\n",
       "      <td>-0.587020</td>\n",
       "      <td>-0.587020</td>\n",
       "      <td>-0.463216</td>\n",
       "    </tr>\n",
       "    <tr>\n",
       "      <th>...</th>\n",
       "      <td>...</td>\n",
       "      <td>...</td>\n",
       "      <td>...</td>\n",
       "      <td>...</td>\n",
       "      <td>...</td>\n",
       "      <td>...</td>\n",
       "      <td>...</td>\n",
       "      <td>...</td>\n",
       "      <td>...</td>\n",
       "      <td>...</td>\n",
       "      <td>...</td>\n",
       "      <td>...</td>\n",
       "      <td>...</td>\n",
       "      <td>...</td>\n",
       "      <td>...</td>\n",
       "      <td>...</td>\n",
       "      <td>...</td>\n",
       "      <td>...</td>\n",
       "      <td>...</td>\n",
       "      <td>...</td>\n",
       "      <td>...</td>\n",
       "    </tr>\n",
       "    <tr>\n",
       "      <th>BAPAT</th>\n",
       "      <td>0.580996</td>\n",
       "      <td>0.450313</td>\n",
       "      <td>0.450313</td>\n",
       "      <td>-0.614032</td>\n",
       "      <td>0.321411</td>\n",
       "      <td>-0.196599</td>\n",
       "      <td>-0.142117</td>\n",
       "      <td>0.209807</td>\n",
       "      <td>0.143925</td>\n",
       "      <td>0.388813</td>\n",
       "      <td>...</td>\n",
       "      <td>0.219805</td>\n",
       "      <td>0.605768</td>\n",
       "      <td>0.270359</td>\n",
       "      <td>0.053090</td>\n",
       "      <td>-0.387904</td>\n",
       "      <td>0.761138</td>\n",
       "      <td>0.598646</td>\n",
       "      <td>0.598646</td>\n",
       "      <td>0.598646</td>\n",
       "      <td>0.503466</td>\n",
       "    </tr>\n",
       "    <tr>\n",
       "      <th>HPDH</th>\n",
       "      <td>0.595342</td>\n",
       "      <td>0.501190</td>\n",
       "      <td>0.501190</td>\n",
       "      <td>-0.686203</td>\n",
       "      <td>0.321286</td>\n",
       "      <td>-0.238739</td>\n",
       "      <td>-0.184697</td>\n",
       "      <td>0.180340</td>\n",
       "      <td>0.098687</td>\n",
       "      <td>0.433112</td>\n",
       "      <td>...</td>\n",
       "      <td>0.156024</td>\n",
       "      <td>0.692508</td>\n",
       "      <td>0.328050</td>\n",
       "      <td>0.172151</td>\n",
       "      <td>-0.347739</td>\n",
       "      <td>0.840399</td>\n",
       "      <td>0.694320</td>\n",
       "      <td>0.694320</td>\n",
       "      <td>0.694320</td>\n",
       "      <td>0.605690</td>\n",
       "    </tr>\n",
       "    <tr>\n",
       "      <th>ALD6</th>\n",
       "      <td>-0.368068</td>\n",
       "      <td>-0.500904</td>\n",
       "      <td>-0.500904</td>\n",
       "      <td>0.698185</td>\n",
       "      <td>-0.159896</td>\n",
       "      <td>0.326769</td>\n",
       "      <td>0.301937</td>\n",
       "      <td>0.054997</td>\n",
       "      <td>0.173451</td>\n",
       "      <td>-0.434505</td>\n",
       "      <td>...</td>\n",
       "      <td>0.236107</td>\n",
       "      <td>-0.773072</td>\n",
       "      <td>-0.447959</td>\n",
       "      <td>-0.672257</td>\n",
       "      <td>-0.024046</td>\n",
       "      <td>-0.810134</td>\n",
       "      <td>-0.817974</td>\n",
       "      <td>-0.817974</td>\n",
       "      <td>-0.817974</td>\n",
       "      <td>-0.805945</td>\n",
       "    </tr>\n",
       "    <tr>\n",
       "      <th>3HPPt</th>\n",
       "      <td>0.595342</td>\n",
       "      <td>0.501190</td>\n",
       "      <td>0.501190</td>\n",
       "      <td>-0.686203</td>\n",
       "      <td>0.321286</td>\n",
       "      <td>-0.238739</td>\n",
       "      <td>-0.184697</td>\n",
       "      <td>0.180340</td>\n",
       "      <td>0.098687</td>\n",
       "      <td>0.433112</td>\n",
       "      <td>...</td>\n",
       "      <td>0.156024</td>\n",
       "      <td>0.692508</td>\n",
       "      <td>0.328050</td>\n",
       "      <td>0.172151</td>\n",
       "      <td>-0.347739</td>\n",
       "      <td>0.840399</td>\n",
       "      <td>0.694320</td>\n",
       "      <td>0.694320</td>\n",
       "      <td>0.694320</td>\n",
       "      <td>0.605690</td>\n",
       "    </tr>\n",
       "    <tr>\n",
       "      <th>EX_3hpp_e</th>\n",
       "      <td>0.595342</td>\n",
       "      <td>0.501190</td>\n",
       "      <td>0.501190</td>\n",
       "      <td>-0.686203</td>\n",
       "      <td>0.321286</td>\n",
       "      <td>-0.238739</td>\n",
       "      <td>-0.184697</td>\n",
       "      <td>0.180340</td>\n",
       "      <td>0.098687</td>\n",
       "      <td>0.433112</td>\n",
       "      <td>...</td>\n",
       "      <td>0.156024</td>\n",
       "      <td>0.692508</td>\n",
       "      <td>0.328050</td>\n",
       "      <td>0.172151</td>\n",
       "      <td>-0.347739</td>\n",
       "      <td>0.840399</td>\n",
       "      <td>0.694320</td>\n",
       "      <td>0.694320</td>\n",
       "      <td>0.694320</td>\n",
       "      <td>0.605690</td>\n",
       "    </tr>\n",
       "  </tbody>\n",
       "</table>\n",
       "<p>172 rows × 38 columns</p>\n",
       "</div>"
      ],
      "text/plain": [
       "                r5a        r7        r8       r10      r12a      r13a  \\\n",
       "r1        -0.501740 -0.443259 -0.443259  0.617495 -0.194865  0.199191   \n",
       "r5a        0.669909  0.475661  0.475661 -0.614526  0.376706 -0.194573   \n",
       "r6         0.505730  0.278024  0.278024 -0.317423  0.365699 -0.097075   \n",
       "r7         0.581390  0.479116  0.479116 -0.653155  0.260417 -0.209607   \n",
       "r8        -0.501740 -0.443259 -0.443259  0.617495 -0.194865  0.199191   \n",
       "...             ...       ...       ...       ...       ...       ...   \n",
       "BAPAT      0.580996  0.450313  0.450313 -0.614032  0.321411 -0.196599   \n",
       "HPDH       0.595342  0.501190  0.501190 -0.686203  0.321286 -0.238739   \n",
       "ALD6      -0.368068 -0.500904 -0.500904  0.698185 -0.159896  0.326769   \n",
       "3HPPt      0.595342  0.501190  0.501190 -0.686203  0.321286 -0.238739   \n",
       "EX_3hpp_e  0.595342  0.501190  0.501190 -0.686203  0.321286 -0.238739   \n",
       "\n",
       "                r14       r15      r16a       r17  ...      r127      r243  \\\n",
       "r1         0.247948  0.018690  0.039706 -0.362464  ... -0.209148 -0.648739   \n",
       "r5a       -0.131868  0.268197  0.155214  0.532652  ...  0.165994  0.660376   \n",
       "r6         0.039444  0.407034  0.262480  0.436096  ...  0.046282  0.354920   \n",
       "r7        -0.228137  0.065430  0.015850  0.434472  ...  0.208706  0.690587   \n",
       "r8         0.247948  0.018690  0.039706 -0.362464  ... -0.209148 -0.648739   \n",
       "...             ...       ...       ...       ...  ...       ...       ...   \n",
       "BAPAT     -0.142117  0.209807  0.143925  0.388813  ...  0.219805  0.605768   \n",
       "HPDH      -0.184697  0.180340  0.098687  0.433112  ...  0.156024  0.692508   \n",
       "ALD6       0.301937  0.054997  0.173451 -0.434505  ...  0.236107 -0.773072   \n",
       "3HPPt     -0.184697  0.180340  0.098687  0.433112  ...  0.156024  0.692508   \n",
       "EX_3hpp_e -0.184697  0.180340  0.098687  0.433112  ...  0.156024  0.692508   \n",
       "\n",
       "               r258      r259     r258m      PAND     r2142     r2143  \\\n",
       "r1        -0.321830 -0.054397  0.288853 -0.709064 -0.587020 -0.587020   \n",
       "r5a        0.348116  0.204758 -0.365199  0.848483  0.717450  0.717450   \n",
       "r6         0.205871  0.246778 -0.261413  0.571986  0.495337  0.495337   \n",
       "r7         0.348685  0.102285 -0.328627  0.792443  0.660506  0.660506   \n",
       "r8        -0.321830 -0.054397  0.288853 -0.709064 -0.587020 -0.587020   \n",
       "...             ...       ...       ...       ...       ...       ...   \n",
       "BAPAT      0.270359  0.053090 -0.387904  0.761138  0.598646  0.598646   \n",
       "HPDH       0.328050  0.172151 -0.347739  0.840399  0.694320  0.694320   \n",
       "ALD6      -0.447959 -0.672257 -0.024046 -0.810134 -0.817974 -0.817974   \n",
       "3HPPt      0.328050  0.172151 -0.347739  0.840399  0.694320  0.694320   \n",
       "EX_3hpp_e  0.328050  0.172151 -0.347739  0.840399  0.694320  0.694320   \n",
       "\n",
       "              r2144     BAPAT  \n",
       "r1        -0.587020 -0.463216  \n",
       "r5a        0.717450  0.652052  \n",
       "r6         0.495337  0.515681  \n",
       "r7         0.660506  0.546726  \n",
       "r8        -0.587020 -0.463216  \n",
       "...             ...       ...  \n",
       "BAPAT      0.598646  0.503466  \n",
       "HPDH       0.694320  0.605690  \n",
       "ALD6      -0.817974 -0.805945  \n",
       "3HPPt      0.694320  0.605690  \n",
       "EX_3hpp_e  0.694320  0.605690  \n",
       "\n",
       "[172 rows x 38 columns]"
      ]
     },
     "execution_count": 35,
     "metadata": {},
     "output_type": "execute_result"
    },
    {
     "data": {
      "application/javascript": [
       "\n",
       "            setTimeout(function() {\n",
       "                var nbb_cell_id = 35;\n",
       "                var nbb_unformatted_code = \"corr_df\";\n",
       "                var nbb_formatted_code = \"corr_df\";\n",
       "                var nbb_cells = Jupyter.notebook.get_cells();\n",
       "                for (var i = 0; i < nbb_cells.length; ++i) {\n",
       "                    if (nbb_cells[i].input_prompt_number == nbb_cell_id) {\n",
       "                        if (nbb_cells[i].get_text() == nbb_unformatted_code) {\n",
       "                             nbb_cells[i].set_text(nbb_formatted_code);\n",
       "                        }\n",
       "                        break;\n",
       "                    }\n",
       "                }\n",
       "            }, 500);\n",
       "            "
      ],
      "text/plain": [
       "<IPython.core.display.Javascript object>"
      ]
     },
     "metadata": {},
     "output_type": "display_data"
    }
   ],
   "source": [
    "corr_df"
   ]
  },
  {
   "cell_type": "code",
   "execution_count": 36,
   "metadata": {},
   "outputs": [
    {
     "ename": "ValueError",
     "evalue": "The condensed distance matrix must contain only finite values.",
     "output_type": "error",
     "traceback": [
      "\u001b[0;31m---------------------------------------------------------------------------\u001b[0m",
      "\u001b[0;31mValueError\u001b[0m                                Traceback (most recent call last)",
      "\u001b[0;32m<ipython-input-36-a6ed4ea2a412>\u001b[0m in \u001b[0;36m<module>\u001b[0;34m\u001b[0m\n\u001b[1;32m      3\u001b[0m \u001b[0mfcc_consistent_df\u001b[0m \u001b[0;34m=\u001b[0m \u001b[0mpd\u001b[0m\u001b[0;34m.\u001b[0m\u001b[0mDataFrame\u001b[0m\u001b[0;34m(\u001b[0m\u001b[0mfcc_consistent\u001b[0m\u001b[0;34m,\u001b[0m \u001b[0mcolumns\u001b[0m\u001b[0;34m=\u001b[0m\u001b[0mr_labels\u001b[0m\u001b[0;34m,\u001b[0m \u001b[0mindex\u001b[0m\u001b[0;34m=\u001b[0m\u001b[0mr_labels\u001b[0m\u001b[0;34m)\u001b[0m\u001b[0;34m\u001b[0m\u001b[0;34m\u001b[0m\u001b[0m\n\u001b[1;32m      4\u001b[0m \u001b[0;34m\u001b[0m\u001b[0m\n\u001b[0;32m----> 5\u001b[0;31m \u001b[0msorted_corr_df\u001b[0m \u001b[0;34m=\u001b[0m \u001b[0msort_df\u001b[0m\u001b[0;34m(\u001b[0m\u001b[0mcorr_df\u001b[0m\u001b[0;34m)\u001b[0m\u001b[0;34m\u001b[0m\u001b[0;34m\u001b[0m\u001b[0m\n\u001b[0m\u001b[1;32m      6\u001b[0m \u001b[0;34m\u001b[0m\u001b[0m\n\u001b[1;32m      7\u001b[0m fcc_med_measured = fcc_med.reindex(\n",
      "\u001b[0;32m<ipython-input-34-5ce59e8674db>\u001b[0m in \u001b[0;36msort_df\u001b[0;34m(df)\u001b[0m\n\u001b[1;32m      8\u001b[0m \u001b[0;32mdef\u001b[0m \u001b[0msort_df\u001b[0m\u001b[0;34m(\u001b[0m\u001b[0mdf\u001b[0m\u001b[0;34m)\u001b[0m\u001b[0;34m:\u001b[0m\u001b[0;34m\u001b[0m\u001b[0;34m\u001b[0m\u001b[0m\n\u001b[1;32m      9\u001b[0m     \u001b[0mdf\u001b[0m \u001b[0;34m=\u001b[0m \u001b[0mdf\u001b[0m\u001b[0;34m.\u001b[0m\u001b[0mreplace\u001b[0m\u001b[0;34m(\u001b[0m\u001b[0mnp\u001b[0m\u001b[0;34m.\u001b[0m\u001b[0minf\u001b[0m\u001b[0;34m,\u001b[0m \u001b[0;36m10\u001b[0m\u001b[0;34m)\u001b[0m\u001b[0;34m.\u001b[0m\u001b[0mreplace\u001b[0m\u001b[0;34m(\u001b[0m\u001b[0;34m-\u001b[0m\u001b[0mnp\u001b[0m\u001b[0;34m.\u001b[0m\u001b[0minf\u001b[0m\u001b[0;34m,\u001b[0m \u001b[0;34m-\u001b[0m\u001b[0;36m10\u001b[0m\u001b[0;34m)\u001b[0m\u001b[0;34m\u001b[0m\u001b[0;34m\u001b[0m\u001b[0m\n\u001b[0;32m---> 10\u001b[0;31m     \u001b[0msort_x\u001b[0m \u001b[0;34m=\u001b[0m \u001b[0mcluster\u001b[0m\u001b[0;34m.\u001b[0m\u001b[0mhierarchy\u001b[0m\u001b[0;34m.\u001b[0m\u001b[0mleaves_list\u001b[0m\u001b[0;34m(\u001b[0m\u001b[0mcluster\u001b[0m\u001b[0;34m.\u001b[0m\u001b[0mhierarchy\u001b[0m\u001b[0;34m.\u001b[0m\u001b[0mlinkage\u001b[0m\u001b[0;34m(\u001b[0m\u001b[0mdf\u001b[0m\u001b[0;34m,\u001b[0m \u001b[0;34m\"complete\"\u001b[0m\u001b[0;34m)\u001b[0m\u001b[0;34m)\u001b[0m\u001b[0;34m\u001b[0m\u001b[0;34m\u001b[0m\u001b[0m\n\u001b[0m\u001b[1;32m     11\u001b[0m     \u001b[0msort_y\u001b[0m \u001b[0;34m=\u001b[0m \u001b[0mcluster\u001b[0m\u001b[0;34m.\u001b[0m\u001b[0mhierarchy\u001b[0m\u001b[0;34m.\u001b[0m\u001b[0mleaves_list\u001b[0m\u001b[0;34m(\u001b[0m\u001b[0mcluster\u001b[0m\u001b[0;34m.\u001b[0m\u001b[0mhierarchy\u001b[0m\u001b[0;34m.\u001b[0m\u001b[0mlinkage\u001b[0m\u001b[0;34m(\u001b[0m\u001b[0mdf\u001b[0m\u001b[0;34m.\u001b[0m\u001b[0mT\u001b[0m\u001b[0;34m,\u001b[0m \u001b[0;34m\"complete\"\u001b[0m\u001b[0;34m)\u001b[0m\u001b[0;34m)\u001b[0m\u001b[0;34m\u001b[0m\u001b[0;34m\u001b[0m\u001b[0m\n\u001b[1;32m     12\u001b[0m \u001b[0;34m\u001b[0m\u001b[0m\n",
      "\u001b[0;32m/opt/anaconda3/envs/idp_new/lib/python3.6/site-packages/scipy/cluster/hierarchy.py\u001b[0m in \u001b[0;36mlinkage\u001b[0;34m(y, method, metric, optimal_ordering)\u001b[0m\n\u001b[1;32m    711\u001b[0m \u001b[0;34m\u001b[0m\u001b[0m\n\u001b[1;32m    712\u001b[0m     \u001b[0;32mif\u001b[0m \u001b[0;32mnot\u001b[0m \u001b[0mnp\u001b[0m\u001b[0;34m.\u001b[0m\u001b[0mall\u001b[0m\u001b[0;34m(\u001b[0m\u001b[0mnp\u001b[0m\u001b[0;34m.\u001b[0m\u001b[0misfinite\u001b[0m\u001b[0;34m(\u001b[0m\u001b[0my\u001b[0m\u001b[0;34m)\u001b[0m\u001b[0;34m)\u001b[0m\u001b[0;34m:\u001b[0m\u001b[0;34m\u001b[0m\u001b[0;34m\u001b[0m\u001b[0m\n\u001b[0;32m--> 713\u001b[0;31m         raise ValueError(\"The condensed distance matrix must contain only \"\n\u001b[0m\u001b[1;32m    714\u001b[0m                          \"finite values.\")\n\u001b[1;32m    715\u001b[0m \u001b[0;34m\u001b[0m\u001b[0m\n",
      "\u001b[0;31mValueError\u001b[0m: The condensed distance matrix must contain only finite values."
     ]
    },
    {
     "data": {
      "application/javascript": [
       "\n",
       "            setTimeout(function() {\n",
       "                var nbb_cell_id = 36;\n",
       "                var nbb_unformatted_code = \"fccs_hpd = pm.hpd(fccs)\\nfcc_consistent = np.sign(fccs_hpd[:, :, 0]) == np.sign(fccs_hpd[:, :, 1])\\nfcc_consistent_df = pd.DataFrame(fcc_consistent, columns=r_labels, index=r_labels)\\n\\nsorted_corr_df = sort_df(corr_df)\\n\\nfcc_med_measured = fcc_med.reindex(\\n    columns=sorted_corr_df.columns, index=sorted_corr_df.index\\n)\\nfcc_consistent_measured = fcc_consistent_df.reindex(\\n    columns=sorted_corr_df.columns, index=sorted_corr_df.index\\n)\";\n",
       "                var nbb_formatted_code = \"fccs_hpd = pm.hpd(fccs)\\nfcc_consistent = np.sign(fccs_hpd[:, :, 0]) == np.sign(fccs_hpd[:, :, 1])\\nfcc_consistent_df = pd.DataFrame(fcc_consistent, columns=r_labels, index=r_labels)\\n\\nsorted_corr_df = sort_df(corr_df)\\n\\nfcc_med_measured = fcc_med.reindex(\\n    columns=sorted_corr_df.columns, index=sorted_corr_df.index\\n)\\nfcc_consistent_measured = fcc_consistent_df.reindex(\\n    columns=sorted_corr_df.columns, index=sorted_corr_df.index\\n)\";\n",
       "                var nbb_cells = Jupyter.notebook.get_cells();\n",
       "                for (var i = 0; i < nbb_cells.length; ++i) {\n",
       "                    if (nbb_cells[i].input_prompt_number == nbb_cell_id) {\n",
       "                        if (nbb_cells[i].get_text() == nbb_unformatted_code) {\n",
       "                             nbb_cells[i].set_text(nbb_formatted_code);\n",
       "                        }\n",
       "                        break;\n",
       "                    }\n",
       "                }\n",
       "            }, 500);\n",
       "            "
      ],
      "text/plain": [
       "<IPython.core.display.Javascript object>"
      ]
     },
     "metadata": {},
     "output_type": "display_data"
    }
   ],
   "source": [
    "# Issue with sort_df() defined above\n",
    "\n",
    "fccs_hpd = pm.hpd(fccs)\n",
    "fcc_consistent = np.sign(fccs_hpd[:, :, 0]) == np.sign(fccs_hpd[:, :, 1])\n",
    "fcc_consistent_df = pd.DataFrame(fcc_consistent, columns=r_labels, index=r_labels)\n",
    "\n",
    "sorted_corr_df = sort_df(corr_df)\n",
    "\n",
    "fcc_med_measured = fcc_med.reindex(\n",
    "    columns=sorted_corr_df.columns, index=sorted_corr_df.index\n",
    ")\n",
    "fcc_consistent_measured = fcc_consistent_df.reindex(\n",
    "    columns=sorted_corr_df.columns, index=sorted_corr_df.index\n",
    ")"
   ]
  },
  {
   "cell_type": "code",
   "execution_count": 37,
   "metadata": {},
   "outputs": [
    {
     "ename": "NameError",
     "evalue": "name 'sorted_corr_df' is not defined",
     "output_type": "error",
     "traceback": [
      "\u001b[0;31m---------------------------------------------------------------------------\u001b[0m",
      "\u001b[0;31mNameError\u001b[0m                                 Traceback (most recent call last)",
      "\u001b[0;32m<ipython-input-37-90a501cdb827>\u001b[0m in \u001b[0;36m<module>\u001b[0;34m\u001b[0m\n\u001b[1;32m      3\u001b[0m     \u001b[0max\u001b[0m \u001b[0;34m=\u001b[0m \u001b[0mfig\u001b[0m\u001b[0;34m.\u001b[0m\u001b[0madd_subplot\u001b[0m\u001b[0;34m(\u001b[0m\u001b[0;36m111\u001b[0m\u001b[0;34m,\u001b[0m \u001b[0maspect\u001b[0m\u001b[0;34m=\u001b[0m\u001b[0;34m'equal'\u001b[0m\u001b[0;34m,\u001b[0m \u001b[0madjustable\u001b[0m\u001b[0;34m=\u001b[0m\u001b[0;34m'box'\u001b[0m\u001b[0;34m)\u001b[0m\u001b[0;34m\u001b[0m\u001b[0;34m\u001b[0m\u001b[0m\n\u001b[1;32m      4\u001b[0m \u001b[0;34m\u001b[0m\u001b[0m\n\u001b[0;32m----> 5\u001b[0;31m sns.heatmap(sorted_corr_df[p_vals < 0.05].values, vmin=-1, vmax=1,\n\u001b[0m\u001b[1;32m      6\u001b[0m             cmap='RdBu', cbar=True, rasterized=True, lw=1)\n\u001b[1;32m      7\u001b[0m \u001b[0;34m\u001b[0m\u001b[0m\n",
      "\u001b[0;31mNameError\u001b[0m: name 'sorted_corr_df' is not defined"
     ]
    },
    {
     "data": {
      "image/png": "[encoded data removed]",
      "text/plain": [
       "<Figure size 2880x576 with 1 Axes>"
      ]
     },
     "metadata": {
      "needs_background": "light"
     },
     "output_type": "display_data"
    },
    {
     "data": {
      "application/javascript": [
       "\n",
       "            setTimeout(function() {\n",
       "                var nbb_cell_id = 37;\n",
       "                var nbb_unformatted_code = \"with sns.plotting_context('notebook'):\\n    fig = plt.figure(figsize=(40,8))\\n    ax = fig.add_subplot(111, aspect='equal', adjustable='box')\\n\\nsns.heatmap(sorted_corr_df[p_vals < 0.05].values, vmin=-1, vmax=1,\\n            cmap='RdBu', cbar=True, rasterized=True, lw=1)\\n\\n_= ax.set_yticks(np.arange(sorted_corr_df.shape[0]) + 0.5)\\n_= ax.set_xticks(np.arange(sorted_corr_df.shape[1]) + 0.5)\\n_ = ax.set_yticklabels(sorted_corr_df.index, rotation=0)\\n_ = ax.set_xticklabels(sorted_corr_df.columns)\\n\\nax.set_xlabel('Enzyme')\\nax.set_ylabel('Boundary Flux')\\n\\nplt.tight_layout()\\n# plt.savefig('corr_heatmap_large_confident.svg', dpi=75)\";\n",
       "                var nbb_formatted_code = \"with sns.plotting_context(\\\"notebook\\\"):\\n    fig = plt.figure(figsize=(40, 8))\\n    ax = fig.add_subplot(111, aspect=\\\"equal\\\", adjustable=\\\"box\\\")\\n\\nsns.heatmap(\\n    sorted_corr_df[p_vals < 0.05].values,\\n    vmin=-1,\\n    vmax=1,\\n    cmap=\\\"RdBu\\\",\\n    cbar=True,\\n    rasterized=True,\\n    lw=1,\\n)\\n\\n_ = ax.set_yticks(np.arange(sorted_corr_df.shape[0]) + 0.5)\\n_ = ax.set_xticks(np.arange(sorted_corr_df.shape[1]) + 0.5)\\n_ = ax.set_yticklabels(sorted_corr_df.index, rotation=0)\\n_ = ax.set_xticklabels(sorted_corr_df.columns)\\n\\nax.set_xlabel(\\\"Enzyme\\\")\\nax.set_ylabel(\\\"Boundary Flux\\\")\\n\\nplt.tight_layout()\\n# plt.savefig('corr_heatmap_large_confident.svg', dpi=75)\";\n",
       "                var nbb_cells = Jupyter.notebook.get_cells();\n",
       "                for (var i = 0; i < nbb_cells.length; ++i) {\n",
       "                    if (nbb_cells[i].input_prompt_number == nbb_cell_id) {\n",
       "                        if (nbb_cells[i].get_text() == nbb_unformatted_code) {\n",
       "                             nbb_cells[i].set_text(nbb_formatted_code);\n",
       "                        }\n",
       "                        break;\n",
       "                    }\n",
       "                }\n",
       "            }, 500);\n",
       "            "
      ],
      "text/plain": [
       "<IPython.core.display.Javascript object>"
      ]
     },
     "metadata": {},
     "output_type": "display_data"
    }
   ],
   "source": [
    "with sns.plotting_context(\"notebook\"):\n",
    "    fig = plt.figure(figsize=(40, 8))\n",
    "    ax = fig.add_subplot(111, aspect=\"equal\", adjustable=\"box\")\n",
    "\n",
    "sns.heatmap(\n",
    "    sorted_corr_df[p_vals < 0.05].values,\n",
    "    vmin=-1,\n",
    "    vmax=1,\n",
    "    cmap=\"RdBu\",\n",
    "    cbar=True,\n",
    "    rasterized=True,\n",
    "    lw=1,\n",
    ")\n",
    "\n",
    "_ = ax.set_yticks(np.arange(sorted_corr_df.shape[0]) + 0.5)\n",
    "_ = ax.set_xticks(np.arange(sorted_corr_df.shape[1]) + 0.5)\n",
    "_ = ax.set_yticklabels(sorted_corr_df.index, rotation=0)\n",
    "_ = ax.set_xticklabels(sorted_corr_df.columns)\n",
    "\n",
    "ax.set_xlabel(\"Enzyme\")\n",
    "ax.set_ylabel(\"Boundary Flux\")\n",
    "\n",
    "plt.tight_layout()\n",
    "# plt.savefig('corr_heatmap_large_confident.svg', dpi=75)"
   ]
  },
  {
   "cell_type": "code",
   "execution_count": 38,
   "metadata": {},
   "outputs": [
    {
     "ename": "NameError",
     "evalue": "name 'fcc_med_measured' is not defined",
     "output_type": "error",
     "traceback": [
      "\u001b[0;31m---------------------------------------------------------------------------\u001b[0m",
      "\u001b[0;31mNameError\u001b[0m                                 Traceback (most recent call last)",
      "\u001b[0;32m<ipython-input-38-50f732c98e9a>\u001b[0m in \u001b[0;36m<module>\u001b[0;34m\u001b[0m\n\u001b[1;32m      5\u001b[0m \u001b[0;34m\u001b[0m\u001b[0m\n\u001b[1;32m      6\u001b[0m sns.heatmap(\n\u001b[0;32m----> 7\u001b[0;31m     \u001b[0mfcc_med_measured\u001b[0m\u001b[0;34m[\u001b[0m\u001b[0mfcc_consistent_measured\u001b[0m\u001b[0;34m]\u001b[0m\u001b[0;34m.\u001b[0m\u001b[0mvalues\u001b[0m\u001b[0;34m,\u001b[0m\u001b[0;34m\u001b[0m\u001b[0;34m\u001b[0m\u001b[0m\n\u001b[0m\u001b[1;32m      8\u001b[0m     \u001b[0mcenter\u001b[0m\u001b[0;34m=\u001b[0m\u001b[0;36m0\u001b[0m\u001b[0;34m,\u001b[0m\u001b[0;34m\u001b[0m\u001b[0;34m\u001b[0m\u001b[0m\n\u001b[1;32m      9\u001b[0m     \u001b[0mrobust\u001b[0m\u001b[0;34m=\u001b[0m\u001b[0;32mTrue\u001b[0m\u001b[0;34m,\u001b[0m\u001b[0;34m\u001b[0m\u001b[0;34m\u001b[0m\u001b[0m\n",
      "\u001b[0;31mNameError\u001b[0m: name 'fcc_med_measured' is not defined"
     ]
    },
    {
     "data": {
      "image/png": "[encoded data removed]",
      "text/plain": [
       "<Figure size 2880x576 with 1 Axes>"
      ]
     },
     "metadata": {
      "needs_background": "light"
     },
     "output_type": "display_data"
    },
    {
     "data": {
      "application/javascript": [
       "\n",
       "            setTimeout(function() {\n",
       "                var nbb_cell_id = 38;\n",
       "                var nbb_unformatted_code = \"with sns.plotting_context(\\\"notebook\\\"):\\n\\n    fig = plt.figure(figsize=(40, 8))\\n    ax = fig.add_subplot(111, aspect=\\\"equal\\\", adjustable=\\\"box\\\")\\n\\nsns.heatmap(\\n    fcc_med_measured[fcc_consistent_measured].values,\\n    center=0,\\n    robust=True,\\n    cmap=\\\"RdBu\\\",\\n    cbar=True,\\n    rasterized=True,\\n    lw=1,\\n)\\n\\n_ = ax.set_yticks(np.arange(sorted_corr_df.shape[0]) + 0.5)\\n_ = ax.set_xticks(np.arange(sorted_corr_df.shape[1]) + 0.5)\\n_ = ax.set_yticklabels(sorted_corr_df.index, rotation=0)\\n_ = ax.set_xticklabels(sorted_corr_df.columns)\\n\\nax.set_xlabel(\\\"Enzyme\\\")\\nax.set_ylabel(\\\"Boundary Flux\\\")\\n\\nplt.tight_layout()\\nplt.savefig(\\\"../figures/fcc_heatmap_large.svg\\\", dpi=75)\";\n",
       "                var nbb_formatted_code = \"with sns.plotting_context(\\\"notebook\\\"):\\n\\n    fig = plt.figure(figsize=(40, 8))\\n    ax = fig.add_subplot(111, aspect=\\\"equal\\\", adjustable=\\\"box\\\")\\n\\nsns.heatmap(\\n    fcc_med_measured[fcc_consistent_measured].values,\\n    center=0,\\n    robust=True,\\n    cmap=\\\"RdBu\\\",\\n    cbar=True,\\n    rasterized=True,\\n    lw=1,\\n)\\n\\n_ = ax.set_yticks(np.arange(sorted_corr_df.shape[0]) + 0.5)\\n_ = ax.set_xticks(np.arange(sorted_corr_df.shape[1]) + 0.5)\\n_ = ax.set_yticklabels(sorted_corr_df.index, rotation=0)\\n_ = ax.set_xticklabels(sorted_corr_df.columns)\\n\\nax.set_xlabel(\\\"Enzyme\\\")\\nax.set_ylabel(\\\"Boundary Flux\\\")\\n\\nplt.tight_layout()\\nplt.savefig(\\\"../figures/fcc_heatmap_large.svg\\\", dpi=75)\";\n",
       "                var nbb_cells = Jupyter.notebook.get_cells();\n",
       "                for (var i = 0; i < nbb_cells.length; ++i) {\n",
       "                    if (nbb_cells[i].input_prompt_number == nbb_cell_id) {\n",
       "                        if (nbb_cells[i].get_text() == nbb_unformatted_code) {\n",
       "                             nbb_cells[i].set_text(nbb_formatted_code);\n",
       "                        }\n",
       "                        break;\n",
       "                    }\n",
       "                }\n",
       "            }, 500);\n",
       "            "
      ],
      "text/plain": [
       "<IPython.core.display.Javascript object>"
      ]
     },
     "metadata": {},
     "output_type": "display_data"
    }
   ],
   "source": [
    "with sns.plotting_context(\"notebook\"):\n",
    "\n",
    "    fig = plt.figure(figsize=(40, 8))\n",
    "    ax = fig.add_subplot(111, aspect=\"equal\", adjustable=\"box\")\n",
    "\n",
    "sns.heatmap(\n",
    "    fcc_med_measured[fcc_consistent_measured].values,\n",
    "    center=0,\n",
    "    robust=True,\n",
    "    cmap=\"RdBu\",\n",
    "    cbar=True,\n",
    "    rasterized=True,\n",
    "    lw=1,\n",
    ")\n",
    "\n",
    "_ = ax.set_yticks(np.arange(sorted_corr_df.shape[0]) + 0.5)\n",
    "_ = ax.set_xticks(np.arange(sorted_corr_df.shape[1]) + 0.5)\n",
    "_ = ax.set_yticklabels(sorted_corr_df.index, rotation=0)\n",
    "_ = ax.set_xticklabels(sorted_corr_df.columns)\n",
    "\n",
    "ax.set_xlabel(\"Enzyme\")\n",
    "ax.set_ylabel(\"Boundary Flux\")\n",
    "\n",
    "plt.tight_layout()\n",
    "plt.savefig(\"../figures/fcc_heatmap_large.svg\", dpi=75)"
   ]
  },
  {
   "cell_type": "code",
   "execution_count": null,
   "metadata": {},
   "outputs": [],
   "source": []
  }
 ],
 "metadata": {
  "kernelspec": {
   "display_name": "idp_new",
   "language": "python",
   "name": "idp_new"
  },
  "language_info": {
   "codemirror_mode": {
    "name": "ipython",
    "version": 3
   },
   "file_extension": ".py",
   "mimetype": "text/x-python",
   "name": "python",
   "nbconvert_exporter": "python",
   "pygments_lexer": "ipython3",
   "version": "3.6.13"
  },
  "latex_envs": {
   "LaTeX_envs_menu_present": false,
   "autoclose": false,
   "autocomplete": false,
   "bibliofile": "biblio.bib",
   "cite_by": "apalike",
   "current_citInitial": 1,
   "eqLabelWithNumbers": true,
   "eqNumInitial": 1,
   "hotkeys": {
    "equation": "ctrl-q"
   },
   "labels_anchors": false,
   "latex_user_defs": false,
   "report_style_numbering": true,
   "user_envs_cfg": false
  },
  "toc": {
   "base_numbering": 1,
   "nav_menu": {},
   "number_sections": true,
   "sideBar": true,
   "skip_h1_title": false,
   "title_cell": "Table of Contents",
   "title_sidebar": "Contents",
   "toc_cell": false,
   "toc_position": {},
   "toc_section_display": true,
   "toc_window_display": false
  }
 },
 "nbformat": 4,
 "nbformat_minor": 4
}
