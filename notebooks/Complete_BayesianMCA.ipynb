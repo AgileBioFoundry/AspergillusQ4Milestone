{
 "cells": [
  {
   "cell_type": "markdown",
   "metadata": {},
   "source": [
    "# Bayesian MCA (Metabolic Control Analysis)"
   ]
  },
  {
   "cell_type": "markdown",
   "metadata": {},
   "source": [
    "## Load packages"
   ]
  },
  {
   "cell_type": "code",
   "execution_count": 1,
   "metadata": {},
   "outputs": [
    {
     "data": {
      "application/javascript": [
       "\n",
       "            setTimeout(function() {\n",
       "                var nbb_cell_id = 1;\n",
       "                var nbb_unformatted_code = \"%load_ext nb_black\\n\\nimport cobra, gzip, re\\n\\nimport numpy as np\\nimport pandas as pd\\nimport sys\\n\\nsys.path.append('../')\\nfrom src.eflux2 import EFlux2\";\n",
       "                var nbb_formatted_code = \"%load_ext nb_black\\n\\nimport cobra, gzip, re\\n\\nimport numpy as np\\nimport pandas as pd\\nimport sys\\n\\nsys.path.append(\\\"../\\\")\\nfrom src.eflux2 import EFlux2\";\n",
       "                var nbb_cells = Jupyter.notebook.get_cells();\n",
       "                for (var i = 0; i < nbb_cells.length; ++i) {\n",
       "                    if (nbb_cells[i].input_prompt_number == nbb_cell_id) {\n",
       "                        if (nbb_cells[i].get_text() == nbb_unformatted_code) {\n",
       "                             nbb_cells[i].set_text(nbb_formatted_code);\n",
       "                        }\n",
       "                        break;\n",
       "                    }\n",
       "                }\n",
       "            }, 500);\n",
       "            "
      ],
      "text/plain": [
       "<IPython.core.display.Javascript object>"
      ]
     },
     "metadata": {},
     "output_type": "display_data"
    }
   ],
   "source": [
    "%load_ext nb_black\n",
    "\n",
    "import cobra, gzip, re\n",
    "\n",
    "import numpy as np\n",
    "import pandas as pd\n",
    "import sys\n",
    "\n",
    "sys.path.append(\"../\")\n",
    "from src.eflux2 import EFlux2"
   ]
  },
  {
   "cell_type": "markdown",
   "metadata": {},
   "source": [
    "## 1. Provide Required Input Content"
   ]
  },
  {
   "cell_type": "markdown",
   "metadata": {},
   "source": [
    "### 1.1. Required content filenames"
   ]
  },
  {
   "cell_type": "code",
   "execution_count": 4,
   "metadata": {},
   "outputs": [
    {
     "data": {
      "application/javascript": [
       "\n",
       "            setTimeout(function() {\n",
       "                var nbb_cell_id = 4;\n",
       "                var nbb_unformatted_code = \"config = {}\";\n",
       "                var nbb_formatted_code = \"config = {}\";\n",
       "                var nbb_cells = Jupyter.notebook.get_cells();\n",
       "                for (var i = 0; i < nbb_cells.length; ++i) {\n",
       "                    if (nbb_cells[i].input_prompt_number == nbb_cell_id) {\n",
       "                        if (nbb_cells[i].get_text() == nbb_unformatted_code) {\n",
       "                             nbb_cells[i].set_text(nbb_formatted_code);\n",
       "                        }\n",
       "                        break;\n",
       "                    }\n",
       "                }\n",
       "            }, 500);\n",
       "            "
      ],
      "text/plain": [
       "<IPython.core.display.Javascript object>"
      ]
     },
     "metadata": {},
     "output_type": "display_data"
    }
   ],
   "source": [
    "config = {}"
   ]
  },
  {
   "cell_type": "code",
   "execution_count": 5,
   "metadata": {},
   "outputs": [
    {
     "data": {
      "application/javascript": [
       "\n",
       "            setTimeout(function() {\n",
       "                var nbb_cell_id = 5;\n",
       "                var nbb_unformatted_code = \"# Model (Needs to be [verified for] flipped, non-zero with respect to reference strain)\\nconfig[\\\"model_fname\\\"] = '../models/iJB1325_HP.nonnative_genes.pubchem.flipped.nonzero.reduced.json'\\nconfig[\\\"model_solver\\\"] = 'glpk'#'gurobi'\\n# !!!! Issues with 'gurobi' solver\\nconfig[\\\"model_objective\\\"] = 'BOUNDARY_He'\\n\\n# List of Strains\\nconfig[\\\"line_strain_list_fname\\\"] = '../data/experiment_w_reps.tsv'\\n\\n# Reference Strain\\nconfig[\\\"ref_line\\\"] = 'SF ABF93_7-R3'\";\n",
       "                var nbb_formatted_code = \"# Model (Needs to be [verified for] flipped, non-zero with respect to reference strain)\\nconfig[\\n    \\\"model_fname\\\"\\n] = \\\"../models/iJB1325_HP.nonnative_genes.pubchem.flipped.nonzero.reduced.json\\\"\\nconfig[\\\"model_solver\\\"] = \\\"glpk\\\"  #'gurobi'\\n# !!!! Issues with 'gurobi' solver\\nconfig[\\\"model_objective\\\"] = \\\"BOUNDARY_He\\\"\\n\\n# List of Strains\\nconfig[\\\"line_strain_list_fname\\\"] = \\\"../data/experiment_w_reps.tsv\\\"\\n\\n# Reference Strain\\nconfig[\\\"ref_line\\\"] = \\\"SF ABF93_7-R3\\\"\";\n",
       "                var nbb_cells = Jupyter.notebook.get_cells();\n",
       "                for (var i = 0; i < nbb_cells.length; ++i) {\n",
       "                    if (nbb_cells[i].input_prompt_number == nbb_cell_id) {\n",
       "                        if (nbb_cells[i].get_text() == nbb_unformatted_code) {\n",
       "                             nbb_cells[i].set_text(nbb_formatted_code);\n",
       "                        }\n",
       "                        break;\n",
       "                    }\n",
       "                }\n",
       "            }, 500);\n",
       "            "
      ],
      "text/plain": [
       "<IPython.core.display.Javascript object>"
      ]
     },
     "metadata": {},
     "output_type": "display_data"
    }
   ],
   "source": [
    "# Model (Needs to be [verified for] flipped, non-zero with respect to reference strain)\n",
    "config[\"model_fname\"] = '../models/iJB1325_HP.nonnative_genes.pubchem.flipped.nonzero.reduced.json'\n",
    "config[\"model_solver\"] = 'glpk'#'gurobi'\n",
    "# !!!! Issues with 'gurobi' solver\n",
    "config[\"model_objective\"] = 'BOUNDARY_He'\n",
    "\n",
    "# List of Strains\n",
    "config[\"line_strain_list_fname\"] = '../data/experiment_w_reps.tsv'\n",
    "\n",
    "# Reference Strain\n",
    "config[\"ref_line\"] = 'SF ABF93_7-R3'\n"
   ]
  },
  {
   "cell_type": "markdown",
   "metadata": {},
   "source": [
    "### 1.2. Raw Data"
   ]
  },
  {
   "cell_type": "code",
   "execution_count": 7,
   "metadata": {},
   "outputs": [
    {
     "data": {
      "text/plain": [
       "'Targeted Proteomics'"
      ]
     },
     "execution_count": 7,
     "metadata": {},
     "output_type": "execute_result"
    },
    {
     "data": {
      "application/javascript": [
       "\n",
       "            setTimeout(function() {\n",
       "                var nbb_cell_id = 7;\n",
       "                var nbb_unformatted_code = \"### Protein Concentrations (proteomics)\\n\\n# Protein to gene map\\nconfig[\\\"protein_to_gene_map_fname\\\"] = \\\"../data/Aspni7_FilteredModels1_deflines.gff3.gz\\\"\\n\\n### Uniprot not needed....\\n# Uniprot: list of proteins in A.niger, including non-natives\\n# config[\\\"uniprot_fname\\\"] = '../data/Uniprot_ANiger.csv'\\n\\n\\n### EDD info\\nconfig[\\\"study_slug\\\"] = \\\"aniger_3hp_omics_shakeflask-93_pnnl\\\"\\nconfig[\\\"edd_server\\\"] = \\\"edd.agilebiofoundry.org\\\"\\nconfig[\\\"user\\\"] = \\\"zucker\\\"\\n\\n# Internal Metabolite Concentrations (metabolomics)\\n# met_conc_fname = '../data/metabolite_concentrations.csv'\\n# (x_file)\\n# !!! THIS can come from EDD + mapping IDs\\n\\n# External Metabolite Time Series\\n# ext_met_ts_fname = '../data/normalized_external_metabolites.csv'\\n# !!! this isn't a time series...\\n# (y_file)\\n# # !!! THIS can come from EDD + mapping IDs\\n\\n\\n# Line Rates\\nconfig[\\\"line_rates_fname\\\"] = \\\"../data/a.niger_strain_specific_rates.csv\\\"\\n\\n\\n# Protocol to Omics-data type mapping\\nconfig[\\\"protocol_to_omics_map\\\"] = {\\n    \\\"Flux_Constraint\\\": \\\"PNNL Global Prot Intensity\\\",\\n    \\\"Enzyme_Abundance\\\": \\\"Targeted Proteomics\\\",\\n    \\\"Internal_Metabolomics\\\": \\\"\\\",\\n    \\\"External_Metabolomics\\\": \\\"\\\",\\n    \\\"Internal_Fluxes\\\": \\\"\\\",\\n    \\\"External_Fluxes\\\": \\\"\\\",\\n}\\n\\nconfig[\\\"protocol_to_omics_map\\\"][\\\"Enzyme_Abundance\\\"]\\n\\n\\n# ===> v_star_file = '../data/Eflux2_flux_rates.flipped.csv'\\n# ===> v_file = '../data/Eflux2_flux_rates.flipped.csv'\\n# ===> e_file = '../data/normalized_targeted_enzyme_activities.csv'\";\n",
       "                var nbb_formatted_code = \"### Protein Concentrations (proteomics)\\n\\n# Protein to gene map\\nconfig[\\\"protein_to_gene_map_fname\\\"] = \\\"../data/Aspni7_FilteredModels1_deflines.gff3.gz\\\"\\n\\n### Uniprot not needed....\\n# Uniprot: list of proteins in A.niger, including non-natives\\n# config[\\\"uniprot_fname\\\"] = '../data/Uniprot_ANiger.csv'\\n\\n\\n### EDD info\\nconfig[\\\"study_slug\\\"] = \\\"aniger_3hp_omics_shakeflask-93_pnnl\\\"\\nconfig[\\\"edd_server\\\"] = \\\"edd.agilebiofoundry.org\\\"\\nconfig[\\\"user\\\"] = \\\"zucker\\\"\\n\\n# Internal Metabolite Concentrations (metabolomics)\\n# met_conc_fname = '../data/metabolite_concentrations.csv'\\n# (x_file)\\n# !!! THIS can come from EDD + mapping IDs\\n\\n# External Metabolite Time Series\\n# ext_met_ts_fname = '../data/normalized_external_metabolites.csv'\\n# !!! this isn't a time series...\\n# (y_file)\\n# # !!! THIS can come from EDD + mapping IDs\\n\\n\\n# Line Rates\\nconfig[\\\"line_rates_fname\\\"] = \\\"../data/a.niger_strain_specific_rates.csv\\\"\\n\\n\\n# Protocol to Omics-data type mapping\\nconfig[\\\"protocol_to_omics_map\\\"] = {\\n    \\\"Flux_Constraint\\\": \\\"PNNL Global Prot Intensity\\\",\\n    \\\"Enzyme_Abundance\\\": \\\"Targeted Proteomics\\\",\\n    \\\"Internal_Metabolomics\\\": \\\"\\\",\\n    \\\"External_Metabolomics\\\": \\\"\\\",\\n    \\\"Internal_Fluxes\\\": \\\"\\\",\\n    \\\"External_Fluxes\\\": \\\"\\\",\\n}\\n\\nconfig[\\\"protocol_to_omics_map\\\"][\\\"Enzyme_Abundance\\\"]\\n\\n\\n# ===> v_star_file = '../data/Eflux2_flux_rates.flipped.csv'\\n# ===> v_file = '../data/Eflux2_flux_rates.flipped.csv'\\n# ===> e_file = '../data/normalized_targeted_enzyme_activities.csv'\";\n",
       "                var nbb_cells = Jupyter.notebook.get_cells();\n",
       "                for (var i = 0; i < nbb_cells.length; ++i) {\n",
       "                    if (nbb_cells[i].input_prompt_number == nbb_cell_id) {\n",
       "                        if (nbb_cells[i].get_text() == nbb_unformatted_code) {\n",
       "                             nbb_cells[i].set_text(nbb_formatted_code);\n",
       "                        }\n",
       "                        break;\n",
       "                    }\n",
       "                }\n",
       "            }, 500);\n",
       "            "
      ],
      "text/plain": [
       "<IPython.core.display.Javascript object>"
      ]
     },
     "metadata": {},
     "output_type": "display_data"
    }
   ],
   "source": [
    "### Protein Concentrations (proteomics)\n",
    "\n",
    "# Protein to gene map\n",
    "config[\"protein_to_gene_map_fname\"] = \"../data/Aspni7_FilteredModels1_deflines.gff3.gz\"\n",
    "\n",
    "### Uniprot not needed....\n",
    "# Uniprot: list of proteins in A.niger, including non-natives\n",
    "# config[\"uniprot_fname\"] = '../data/Uniprot_ANiger.csv'\n",
    "\n",
    "\n",
    "### EDD info\n",
    "config[\"study_slug\"] = \"aniger_3hp_omics_shakeflask-93_pnnl\"\n",
    "config[\"edd_server\"] = \"edd.agilebiofoundry.org\"\n",
    "config[\"user\"] = \"zucker\"\n",
    "\n",
    "# Internal Metabolite Concentrations (metabolomics)\n",
    "# met_conc_fname = '../data/metabolite_concentrations.csv'\n",
    "# (x_file)\n",
    "# !!! THIS can come from EDD + mapping IDs\n",
    "\n",
    "# External Metabolite Time Series\n",
    "# ext_met_ts_fname = '../data/normalized_external_metabolites.csv'\n",
    "# !!! this isn't a time series...\n",
    "# (y_file)\n",
    "# # !!! THIS can come from EDD + mapping IDs\n",
    "\n",
    "\n",
    "# Line Rates\n",
    "config[\"line_rates_fname\"] = \"../data/a.niger_strain_specific_rates.csv\"\n",
    "\n",
    "\n",
    "# Protocol to Omics-data type mapping\n",
    "config[\"protocol_to_omics_map\"] = {\n",
    "    \"Flux_Constraint\": \"PNNL Global Prot Intensity\",\n",
    "    \"Enzyme_Abundance\": \"Targeted Proteomics\",\n",
    "    \"Internal_Metabolomics\": \"\",\n",
    "    \"External_Metabolomics\": \"\",\n",
    "    \"Internal_Fluxes\": \"\",\n",
    "    \"External_Fluxes\": \"\",\n",
    "}\n",
    "\n",
    "config[\"protocol_to_omics_map\"][\"Enzyme_Abundance\"]\n",
    "\n",
    "\n",
    "# ===> v_star_file = '../data/Eflux2_flux_rates.flipped.csv'\n",
    "# ===> v_file = '../data/Eflux2_flux_rates.flipped.csv'\n",
    "# ===> e_file = '../data/normalized_targeted_enzyme_activities.csv'"
   ]
  },
  {
   "cell_type": "markdown",
   "metadata": {},
   "source": [
    "### 1.3. Mapping files\n",
    "NOTE: Will likely be data specific; may be developed by hand"
   ]
  },
  {
   "cell_type": "code",
   "execution_count": 8,
   "metadata": {},
   "outputs": [
    {
     "data": {
      "application/javascript": [
       "\n",
       "            setTimeout(function() {\n",
       "                var nbb_cell_id = 8;\n",
       "                var nbb_unformatted_code = \"\\n# maps protein IDs to model gene IDs\\nproteinID_to_modelGene_map = {}\\n\\n# maps metabolite IDs to model metabolite IDs\\nmetaboliteID_to_modelMetabolite_map = {}\\n\\n# maps data file strain IDs to canonical strain IDs (wrt EDD)\\ndataFileStrainID_to_canonicalStrainID_map = {}\";\n",
       "                var nbb_formatted_code = \"# maps protein IDs to model gene IDs\\nproteinID_to_modelGene_map = {}\\n\\n# maps metabolite IDs to model metabolite IDs\\nmetaboliteID_to_modelMetabolite_map = {}\\n\\n# maps data file strain IDs to canonical strain IDs (wrt EDD)\\ndataFileStrainID_to_canonicalStrainID_map = {}\";\n",
       "                var nbb_cells = Jupyter.notebook.get_cells();\n",
       "                for (var i = 0; i < nbb_cells.length; ++i) {\n",
       "                    if (nbb_cells[i].input_prompt_number == nbb_cell_id) {\n",
       "                        if (nbb_cells[i].get_text() == nbb_unformatted_code) {\n",
       "                             nbb_cells[i].set_text(nbb_formatted_code);\n",
       "                        }\n",
       "                        break;\n",
       "                    }\n",
       "                }\n",
       "            }, 500);\n",
       "            "
      ],
      "text/plain": [
       "<IPython.core.display.Javascript object>"
      ]
     },
     "metadata": {},
     "output_type": "display_data"
    }
   ],
   "source": [
    "# maps protein IDs to model gene IDs\n",
    "proteinID_to_modelGene_map = {}\n",
    "\n",
    "# maps metabolite IDs to model metabolite IDs\n",
    "metaboliteID_to_modelMetabolite_map = {}\n",
    "\n",
    "# maps data file strain IDs to canonical strain IDs (wrt EDD)\n",
    "dataFileStrainID_to_canonicalStrainID_map = {}"
   ]
  },
  {
   "cell_type": "code",
   "execution_count": null,
   "metadata": {},
   "outputs": [],
   "source": []
  },
  {
   "cell_type": "markdown",
   "metadata": {},
   "source": [
    "## 2. Pre-processing"
   ]
  },
  {
   "cell_type": "markdown",
   "metadata": {},
   "source": [
    "### 2.1. Extract and organize content from provided filenames"
   ]
  },
  {
   "cell_type": "markdown",
   "metadata": {},
   "source": [
    "#### 2.1.1. Model"
   ]
  },
  {
   "cell_type": "code",
   "execution_count": 11,
   "metadata": {},
   "outputs": [
    {
     "data": {
      "application/javascript": [
       "\n",
       "            setTimeout(function() {\n",
       "                var nbb_cell_id = 11;\n",
       "                var nbb_unformatted_code = \"### Model\\n# Get model from file\\nmodel = cobra.io.load_json_model(config[\\\"model_fname\\\"])\\n\\n# Set model attributes\\nmodel.solver = config[\\\"model_solver\\\"]\\nmodel.objective = config[\\\"model_objective\\\"]\";\n",
       "                var nbb_formatted_code = \"### Model\\n# Get model from file\\nmodel = cobra.io.load_json_model(config[\\\"model_fname\\\"])\\n\\n# Set model attributes\\nmodel.solver = config[\\\"model_solver\\\"]\\nmodel.objective = config[\\\"model_objective\\\"]\";\n",
       "                var nbb_cells = Jupyter.notebook.get_cells();\n",
       "                for (var i = 0; i < nbb_cells.length; ++i) {\n",
       "                    if (nbb_cells[i].input_prompt_number == nbb_cell_id) {\n",
       "                        if (nbb_cells[i].get_text() == nbb_unformatted_code) {\n",
       "                             nbb_cells[i].set_text(nbb_formatted_code);\n",
       "                        }\n",
       "                        break;\n",
       "                    }\n",
       "                }\n",
       "            }, 500);\n",
       "            "
      ],
      "text/plain": [
       "<IPython.core.display.Javascript object>"
      ]
     },
     "metadata": {},
     "output_type": "display_data"
    }
   ],
   "source": [
    "### Model\n",
    "# Get model from file\n",
    "model = cobra.io.load_json_model(config[\"model_fname\"])\n",
    "\n",
    "# Set model attributes\n",
    "model.solver = config[\"model_solver\"]\n",
    "model.objective = config[\"model_objective\"]"
   ]
  },
  {
   "cell_type": "markdown",
   "metadata": {},
   "source": [
    "#### 2.1.2. Line/Strain info"
   ]
  },
  {
   "cell_type": "code",
   "execution_count": 12,
   "metadata": {},
   "outputs": [
    {
     "data": {
      "application/javascript": [
       "\n",
       "            setTimeout(function() {\n",
       "                var nbb_cell_id = 12;\n",
       "                var nbb_unformatted_code = \"### Lines list\\n\\n# Get lines list from file \\nline_descr_list_df = pd.read_csv(config[\\\"line_strain_list_fname\\\"], sep='\\\\t')\\n\\n# Map line descriptions with ICE IDs\\nline_descr_list_df['ICE'] = line_descr_list_df['Strain'].str.replace('https://registry.agilebiofoundry.org/entry/', 'ABF_00')\\nline_descr_list_df = line_descr_list_df.sort_values(['ICE','Line Name']).dropna().set_index('Line Name')\\n\\n# Get line names\\nline_list = line_descr_list_df.index\";\n",
       "                var nbb_formatted_code = \"### Lines list\\n\\n# Get lines list from file\\nline_descr_list_df = pd.read_csv(config[\\\"line_strain_list_fname\\\"], sep=\\\"\\\\t\\\")\\n\\n# Map line descriptions with ICE IDs\\nline_descr_list_df[\\\"ICE\\\"] = line_descr_list_df[\\\"Strain\\\"].str.replace(\\n    \\\"https://registry.agilebiofoundry.org/entry/\\\", \\\"ABF_00\\\"\\n)\\nline_descr_list_df = (\\n    line_descr_list_df.sort_values([\\\"ICE\\\", \\\"Line Name\\\"]).dropna().set_index(\\\"Line Name\\\")\\n)\\n\\n# Get line names\\nline_list = line_descr_list_df.index\";\n",
       "                var nbb_cells = Jupyter.notebook.get_cells();\n",
       "                for (var i = 0; i < nbb_cells.length; ++i) {\n",
       "                    if (nbb_cells[i].input_prompt_number == nbb_cell_id) {\n",
       "                        if (nbb_cells[i].get_text() == nbb_unformatted_code) {\n",
       "                             nbb_cells[i].set_text(nbb_formatted_code);\n",
       "                        }\n",
       "                        break;\n",
       "                    }\n",
       "                }\n",
       "            }, 500);\n",
       "            "
      ],
      "text/plain": [
       "<IPython.core.display.Javascript object>"
      ]
     },
     "metadata": {},
     "output_type": "display_data"
    }
   ],
   "source": [
    "### Lines list\n",
    "\n",
    "# Get lines list from file\n",
    "line_descr_list_df = pd.read_csv(config[\"line_strain_list_fname\"], sep=\"\\t\")\n",
    "\n",
    "# Map line descriptions with ICE IDs\n",
    "line_descr_list_df[\"ICE\"] = line_descr_list_df[\"Strain\"].str.replace(\n",
    "    \"https://registry.agilebiofoundry.org/entry/\", \"ABF_00\"\n",
    ")\n",
    "line_descr_list_df = (\n",
    "    line_descr_list_df.sort_values([\"ICE\", \"Line Name\"]).dropna().set_index(\"Line Name\")\n",
    ")\n",
    "\n",
    "# Get line names\n",
    "line_list = line_descr_list_df.index"
   ]
  },
  {
   "cell_type": "code",
   "execution_count": 14,
   "metadata": {},
   "outputs": [
    {
     "data": {
      "application/javascript": [
       "\n",
       "            setTimeout(function() {\n",
       "                var nbb_cell_id = 14;\n",
       "                var nbb_unformatted_code = \"### Line rates\\nref_line = config[\\\"ref_line\\\"]\\n\\n# Get line rates from file\\nline_rates = pd.read_csv(config[\\\"line_rates_fname\\\"])\\n\\n# Map line rates with ICE IDs\\nline_rates = line_rates.sort_values([\\\"Strain (ICE)\\\", \\\"Omics Sample ID\\\"]).dropna()\\nif all(line_rates[\\\"Strain (ICE)\\\"].values == line_descr_list_df[\\\"ICE\\\"].values):\\n    line_rates.index = line_descr_list_df.index\\nelse:\\n    print(\\\"Error: ICE IDs dont match between line_strain_list and line_rates files\\\")\\n# line_rates.to_csv('line_rates.csv')\\n\\n# Normalize line uptake and secretion rates wirth respect to reference line glucose uptake rate\\nref_line_glucose_rate = line_rates.loc[\\n    ref_line, \\\"glucose_uptake_rates (mmol/gDCW * hr)\\\"\\n]\\nnormalized_line_rates = line_rates.drop(\\n    [\\\"Omics Sample ID\\\", \\\"Strain (ICE)\\\", \\\"Genotype\\\"], axis=1\\n)\\nnormalized_line_rates = normalized_line_rates.divide(ref_line_glucose_rate, axis=1)\\n\\n\\n# Get strain rates (is this needed?)\\n# strain_rates = line_rates.groupby(['Strain (ICE)', 'Genotype']).mean()\\n# strain_rates_std = line_rates.groupby(['Strain (ICE)', 'Genotype']).std()\\n# strain_rates.to_csv('Strain_rates_mean.csv')\\n# strain_rates_std.to_csv('Strain_rates_std.csv')\\n\\n# Get reference line's strain ID (is this needed?)\\n# ref_strain = strain_list_df['ICE'][strain_list_df.index == ref_line][0]\";\n",
       "                var nbb_formatted_code = \"### Line rates\\nref_line = config[\\\"ref_line\\\"]\\n\\n# Get line rates from file\\nline_rates = pd.read_csv(config[\\\"line_rates_fname\\\"])\\n\\n# Map line rates with ICE IDs\\nline_rates = line_rates.sort_values([\\\"Strain (ICE)\\\", \\\"Omics Sample ID\\\"]).dropna()\\nif all(line_rates[\\\"Strain (ICE)\\\"].values == line_descr_list_df[\\\"ICE\\\"].values):\\n    line_rates.index = line_descr_list_df.index\\nelse:\\n    print(\\\"Error: ICE IDs dont match between line_strain_list and line_rates files\\\")\\n# line_rates.to_csv('line_rates.csv')\\n\\n# Normalize line uptake and secretion rates wirth respect to reference line glucose uptake rate\\nref_line_glucose_rate = line_rates.loc[\\n    ref_line, \\\"glucose_uptake_rates (mmol/gDCW * hr)\\\"\\n]\\nnormalized_line_rates = line_rates.drop(\\n    [\\\"Omics Sample ID\\\", \\\"Strain (ICE)\\\", \\\"Genotype\\\"], axis=1\\n)\\nnormalized_line_rates = normalized_line_rates.divide(ref_line_glucose_rate, axis=1)\\n\\n\\n# Get strain rates (is this needed?)\\n# strain_rates = line_rates.groupby(['Strain (ICE)', 'Genotype']).mean()\\n# strain_rates_std = line_rates.groupby(['Strain (ICE)', 'Genotype']).std()\\n# strain_rates.to_csv('Strain_rates_mean.csv')\\n# strain_rates_std.to_csv('Strain_rates_std.csv')\\n\\n# Get reference line's strain ID (is this needed?)\\n# ref_strain = strain_list_df['ICE'][strain_list_df.index == ref_line][0]\";\n",
       "                var nbb_cells = Jupyter.notebook.get_cells();\n",
       "                for (var i = 0; i < nbb_cells.length; ++i) {\n",
       "                    if (nbb_cells[i].input_prompt_number == nbb_cell_id) {\n",
       "                        if (nbb_cells[i].get_text() == nbb_unformatted_code) {\n",
       "                             nbb_cells[i].set_text(nbb_formatted_code);\n",
       "                        }\n",
       "                        break;\n",
       "                    }\n",
       "                }\n",
       "            }, 500);\n",
       "            "
      ],
      "text/plain": [
       "<IPython.core.display.Javascript object>"
      ]
     },
     "metadata": {},
     "output_type": "display_data"
    }
   ],
   "source": [
    "### Line rates\n",
    "ref_line = config[\"ref_line\"]\n",
    "\n",
    "# Get line rates from file\n",
    "line_rates = pd.read_csv(config[\"line_rates_fname\"])\n",
    "\n",
    "# Map line rates with ICE IDs\n",
    "line_rates = line_rates.sort_values([\"Strain (ICE)\", \"Omics Sample ID\"]).dropna()\n",
    "if all(line_rates[\"Strain (ICE)\"].values == line_descr_list_df[\"ICE\"].values):\n",
    "    line_rates.index = line_descr_list_df.index\n",
    "else:\n",
    "    print(\"Error: ICE IDs dont match between line_strain_list and line_rates files\")\n",
    "# line_rates.to_csv('line_rates.csv')\n",
    "\n",
    "# Normalize line uptake and secretion rates wirth respect to reference line glucose uptake rate\n",
    "ref_line_glucose_rate = line_rates.loc[\n",
    "    ref_line, \"glucose_uptake_rates (mmol/gDCW * hr)\"\n",
    "]\n",
    "normalized_line_rates = line_rates.drop(\n",
    "    [\"Omics Sample ID\", \"Strain (ICE)\", \"Genotype\"], axis=1\n",
    ")\n",
    "normalized_line_rates = normalized_line_rates.divide(ref_line_glucose_rate, axis=1)\n",
    "\n",
    "\n",
    "# Get strain rates (is this needed?)\n",
    "# strain_rates = line_rates.groupby(['Strain (ICE)', 'Genotype']).mean()\n",
    "# strain_rates_std = line_rates.groupby(['Strain (ICE)', 'Genotype']).std()\n",
    "# strain_rates.to_csv('Strain_rates_mean.csv')\n",
    "# strain_rates_std.to_csv('Strain_rates_std.csv')\n",
    "\n",
    "# Get reference line's strain ID (is this needed?)\n",
    "# ref_strain = strain_list_df['ICE'][strain_list_df.index == ref_line][0]"
   ]
  },
  {
   "cell_type": "markdown",
   "metadata": {},
   "source": [
    "#### 2.1.3. Download and extract data from EDD"
   ]
  },
  {
   "cell_type": "code",
   "execution_count": null,
   "metadata": {},
   "outputs": [],
   "source": [
    "### Download the data from EDD\n",
    "session = login(edd_server=config[\"edd_server\"], user=config[\"user\"])\n",
    "EDD_df = export_study(session, config[\"study_slug\"], edd_server=config[\"edd_server\"])\n",
    "EDD_df.groupby([\"Line ID\", \"Line Name\", \"Line Description\"]).count()"
   ]
  },
  {
   "cell_type": "code",
   "execution_count": 23,
   "metadata": {},
   "outputs": [
    {
     "data": {
      "text/html": [
       "<div>\n",
       "<style scoped>\n",
       "    .dataframe tbody tr th:only-of-type {\n",
       "        vertical-align: middle;\n",
       "    }\n",
       "\n",
       "    .dataframe tbody tr th {\n",
       "        vertical-align: top;\n",
       "    }\n",
       "\n",
       "    .dataframe thead th {\n",
       "        text-align: right;\n",
       "    }\n",
       "</style>\n",
       "<table border=\"1\" class=\"dataframe\">\n",
       "  <thead>\n",
       "    <tr style=\"text-align: right;\">\n",
       "      <th></th>\n",
       "      <th>Unnamed: 0</th>\n",
       "      <th>Study ID</th>\n",
       "      <th>Study Name</th>\n",
       "      <th>Line ID</th>\n",
       "      <th>Line Name</th>\n",
       "      <th>Line Description</th>\n",
       "      <th>Protocol</th>\n",
       "      <th>Assay ID</th>\n",
       "      <th>Assay Name</th>\n",
       "      <th>Formal Type</th>\n",
       "      <th>Measurement Type</th>\n",
       "      <th>Compartment</th>\n",
       "      <th>Units</th>\n",
       "      <th>Value</th>\n",
       "      <th>Hours</th>\n",
       "    </tr>\n",
       "  </thead>\n",
       "  <tbody>\n",
       "    <tr>\n",
       "      <th>0</th>\n",
       "      <td>0</td>\n",
       "      <td>45008</td>\n",
       "      <td>A.niger_3HP_Omics_Shakeflask 93_PNNL</td>\n",
       "      <td>45009</td>\n",
       "      <td>SF ABF93_1-R1</td>\n",
       "      <td>ATCC11414 Parent</td>\n",
       "      <td>HPLC</td>\n",
       "      <td>45063</td>\n",
       "      <td>SF ABF93_1-R1</td>\n",
       "      <td>cid:5793</td>\n",
       "      <td>(3R,4S,5S,6R)-6-methyloltetrahydropyran-2,3,4,...</td>\n",
       "      <td>0</td>\n",
       "      <td>Percent</td>\n",
       "      <td>81.62472</td>\n",
       "      <td>72.0</td>\n",
       "    </tr>\n",
       "    <tr>\n",
       "      <th>1</th>\n",
       "      <td>1</td>\n",
       "      <td>45008</td>\n",
       "      <td>A.niger_3HP_Omics_Shakeflask 93_PNNL</td>\n",
       "      <td>45009</td>\n",
       "      <td>SF ABF93_1-R1</td>\n",
       "      <td>ATCC11414 Parent</td>\n",
       "      <td>HPLC</td>\n",
       "      <td>45063</td>\n",
       "      <td>SF ABF93_1-R1</td>\n",
       "      <td>cid:5793</td>\n",
       "      <td>(3R,4S,5S,6R)-6-methyloltetrahydropyran-2,3,4,...</td>\n",
       "      <td>0</td>\n",
       "      <td>Percent</td>\n",
       "      <td>56.79776</td>\n",
       "      <td>120.0</td>\n",
       "    </tr>\n",
       "    <tr>\n",
       "      <th>2</th>\n",
       "      <td>2</td>\n",
       "      <td>45008</td>\n",
       "      <td>A.niger_3HP_Omics_Shakeflask 93_PNNL</td>\n",
       "      <td>45009</td>\n",
       "      <td>SF ABF93_1-R1</td>\n",
       "      <td>ATCC11414 Parent</td>\n",
       "      <td>HPLC</td>\n",
       "      <td>45063</td>\n",
       "      <td>SF ABF93_1-R1</td>\n",
       "      <td>cid:5793</td>\n",
       "      <td>(3R,4S,5S,6R)-6-methyloltetrahydropyran-2,3,4,...</td>\n",
       "      <td>0</td>\n",
       "      <td>Percent</td>\n",
       "      <td>65.36000</td>\n",
       "      <td>168.0</td>\n",
       "    </tr>\n",
       "    <tr>\n",
       "      <th>3</th>\n",
       "      <td>3</td>\n",
       "      <td>45008</td>\n",
       "      <td>A.niger_3HP_Omics_Shakeflask 93_PNNL</td>\n",
       "      <td>45010</td>\n",
       "      <td>SF ABF93_1-R2</td>\n",
       "      <td>ATCC11414 Parent</td>\n",
       "      <td>HPLC</td>\n",
       "      <td>45064</td>\n",
       "      <td>SF ABF93_1-R2</td>\n",
       "      <td>cid:5793</td>\n",
       "      <td>(3R,4S,5S,6R)-6-methyloltetrahydropyran-2,3,4,...</td>\n",
       "      <td>0</td>\n",
       "      <td>Percent</td>\n",
       "      <td>79.45385</td>\n",
       "      <td>72.0</td>\n",
       "    </tr>\n",
       "    <tr>\n",
       "      <th>4</th>\n",
       "      <td>4</td>\n",
       "      <td>45008</td>\n",
       "      <td>A.niger_3HP_Omics_Shakeflask 93_PNNL</td>\n",
       "      <td>45010</td>\n",
       "      <td>SF ABF93_1-R2</td>\n",
       "      <td>ATCC11414 Parent</td>\n",
       "      <td>HPLC</td>\n",
       "      <td>45064</td>\n",
       "      <td>SF ABF93_1-R2</td>\n",
       "      <td>cid:5793</td>\n",
       "      <td>(3R,4S,5S,6R)-6-methyloltetrahydropyran-2,3,4,...</td>\n",
       "      <td>0</td>\n",
       "      <td>Percent</td>\n",
       "      <td>43.84099</td>\n",
       "      <td>120.0</td>\n",
       "    </tr>\n",
       "    <tr>\n",
       "      <th>...</th>\n",
       "      <td>...</td>\n",
       "      <td>...</td>\n",
       "      <td>...</td>\n",
       "      <td>...</td>\n",
       "      <td>...</td>\n",
       "      <td>...</td>\n",
       "      <td>...</td>\n",
       "      <td>...</td>\n",
       "      <td>...</td>\n",
       "      <td>...</td>\n",
       "      <td>...</td>\n",
       "      <td>...</td>\n",
       "      <td>...</td>\n",
       "      <td>...</td>\n",
       "      <td>...</td>\n",
       "    </tr>\n",
       "    <tr>\n",
       "      <th>298856</th>\n",
       "      <td>298856</td>\n",
       "      <td>45008</td>\n",
       "      <td>A.niger_3HP_Omics_Shakeflask 93_PNNL</td>\n",
       "      <td>45056</td>\n",
       "      <td>SF ABF93_16-R3</td>\n",
       "      <td>an4104(PYC+3OP2D)</td>\n",
       "      <td>PNNL Global Prot Intensity</td>\n",
       "      <td>46341</td>\n",
       "      <td>SF ABF93_16-R3</td>\n",
       "      <td>G3XM75</td>\n",
       "      <td>NaN</td>\n",
       "      <td>0</td>\n",
       "      <td>intensity</td>\n",
       "      <td>31.52222</td>\n",
       "      <td>120.0</td>\n",
       "    </tr>\n",
       "    <tr>\n",
       "      <th>298857</th>\n",
       "      <td>298857</td>\n",
       "      <td>45008</td>\n",
       "      <td>A.niger_3HP_Omics_Shakeflask 93_PNNL</td>\n",
       "      <td>45056</td>\n",
       "      <td>SF ABF93_16-R3</td>\n",
       "      <td>an4104(PYC+3OP2D)</td>\n",
       "      <td>PNNL Global Prot Intensity</td>\n",
       "      <td>46341</td>\n",
       "      <td>SF ABF93_16-R3</td>\n",
       "      <td>G3Y8S4</td>\n",
       "      <td>NaN</td>\n",
       "      <td>0</td>\n",
       "      <td>intensity</td>\n",
       "      <td>33.15461</td>\n",
       "      <td>120.0</td>\n",
       "    </tr>\n",
       "    <tr>\n",
       "      <th>298858</th>\n",
       "      <td>298858</td>\n",
       "      <td>45008</td>\n",
       "      <td>A.niger_3HP_Omics_Shakeflask 93_PNNL</td>\n",
       "      <td>45056</td>\n",
       "      <td>SF ABF93_16-R3</td>\n",
       "      <td>an4104(PYC+3OP2D)</td>\n",
       "      <td>PNNL Global Prot Intensity</td>\n",
       "      <td>46341</td>\n",
       "      <td>SF ABF93_16-R3</td>\n",
       "      <td>G3Y7D7</td>\n",
       "      <td>NaN</td>\n",
       "      <td>0</td>\n",
       "      <td>intensity</td>\n",
       "      <td>32.76605</td>\n",
       "      <td>120.0</td>\n",
       "    </tr>\n",
       "    <tr>\n",
       "      <th>298859</th>\n",
       "      <td>298859</td>\n",
       "      <td>45008</td>\n",
       "      <td>A.niger_3HP_Omics_Shakeflask 93_PNNL</td>\n",
       "      <td>45056</td>\n",
       "      <td>SF ABF93_16-R3</td>\n",
       "      <td>an4104(PYC+3OP2D)</td>\n",
       "      <td>PNNL Global Prot Intensity</td>\n",
       "      <td>46341</td>\n",
       "      <td>SF ABF93_16-R3</td>\n",
       "      <td>G3Y4S3</td>\n",
       "      <td>NaN</td>\n",
       "      <td>0</td>\n",
       "      <td>intensity</td>\n",
       "      <td>25.50885</td>\n",
       "      <td>120.0</td>\n",
       "    </tr>\n",
       "    <tr>\n",
       "      <th>298860</th>\n",
       "      <td>298860</td>\n",
       "      <td>45008</td>\n",
       "      <td>A.niger_3HP_Omics_Shakeflask 93_PNNL</td>\n",
       "      <td>45056</td>\n",
       "      <td>SF ABF93_16-R3</td>\n",
       "      <td>an4104(PYC+3OP2D)</td>\n",
       "      <td>PNNL Global Prot Intensity</td>\n",
       "      <td>46341</td>\n",
       "      <td>SF ABF93_16-R3</td>\n",
       "      <td>G3YAC5</td>\n",
       "      <td>NaN</td>\n",
       "      <td>0</td>\n",
       "      <td>intensity</td>\n",
       "      <td>30.09340</td>\n",
       "      <td>120.0</td>\n",
       "    </tr>\n",
       "  </tbody>\n",
       "</table>\n",
       "<p>298861 rows × 15 columns</p>\n",
       "</div>"
      ],
      "text/plain": [
       "        Unnamed: 0  Study ID                            Study Name  Line ID  \\\n",
       "0                0     45008  A.niger_3HP_Omics_Shakeflask 93_PNNL    45009   \n",
       "1                1     45008  A.niger_3HP_Omics_Shakeflask 93_PNNL    45009   \n",
       "2                2     45008  A.niger_3HP_Omics_Shakeflask 93_PNNL    45009   \n",
       "3                3     45008  A.niger_3HP_Omics_Shakeflask 93_PNNL    45010   \n",
       "4                4     45008  A.niger_3HP_Omics_Shakeflask 93_PNNL    45010   \n",
       "...            ...       ...                                   ...      ...   \n",
       "298856      298856     45008  A.niger_3HP_Omics_Shakeflask 93_PNNL    45056   \n",
       "298857      298857     45008  A.niger_3HP_Omics_Shakeflask 93_PNNL    45056   \n",
       "298858      298858     45008  A.niger_3HP_Omics_Shakeflask 93_PNNL    45056   \n",
       "298859      298859     45008  A.niger_3HP_Omics_Shakeflask 93_PNNL    45056   \n",
       "298860      298860     45008  A.niger_3HP_Omics_Shakeflask 93_PNNL    45056   \n",
       "\n",
       "             Line Name   Line Description                    Protocol  \\\n",
       "0        SF ABF93_1-R1   ATCC11414 Parent                        HPLC   \n",
       "1        SF ABF93_1-R1   ATCC11414 Parent                        HPLC   \n",
       "2        SF ABF93_1-R1   ATCC11414 Parent                        HPLC   \n",
       "3        SF ABF93_1-R2   ATCC11414 Parent                        HPLC   \n",
       "4        SF ABF93_1-R2   ATCC11414 Parent                        HPLC   \n",
       "...                ...                ...                         ...   \n",
       "298856  SF ABF93_16-R3  an4104(PYC+3OP2D)  PNNL Global Prot Intensity   \n",
       "298857  SF ABF93_16-R3  an4104(PYC+3OP2D)  PNNL Global Prot Intensity   \n",
       "298858  SF ABF93_16-R3  an4104(PYC+3OP2D)  PNNL Global Prot Intensity   \n",
       "298859  SF ABF93_16-R3  an4104(PYC+3OP2D)  PNNL Global Prot Intensity   \n",
       "298860  SF ABF93_16-R3  an4104(PYC+3OP2D)  PNNL Global Prot Intensity   \n",
       "\n",
       "        Assay ID      Assay Name Formal Type  \\\n",
       "0          45063   SF ABF93_1-R1    cid:5793   \n",
       "1          45063   SF ABF93_1-R1    cid:5793   \n",
       "2          45063   SF ABF93_1-R1    cid:5793   \n",
       "3          45064   SF ABF93_1-R2    cid:5793   \n",
       "4          45064   SF ABF93_1-R2    cid:5793   \n",
       "...          ...             ...         ...   \n",
       "298856     46341  SF ABF93_16-R3      G3XM75   \n",
       "298857     46341  SF ABF93_16-R3      G3Y8S4   \n",
       "298858     46341  SF ABF93_16-R3      G3Y7D7   \n",
       "298859     46341  SF ABF93_16-R3      G3Y4S3   \n",
       "298860     46341  SF ABF93_16-R3      G3YAC5   \n",
       "\n",
       "                                         Measurement Type  Compartment  \\\n",
       "0       (3R,4S,5S,6R)-6-methyloltetrahydropyran-2,3,4,...            0   \n",
       "1       (3R,4S,5S,6R)-6-methyloltetrahydropyran-2,3,4,...            0   \n",
       "2       (3R,4S,5S,6R)-6-methyloltetrahydropyran-2,3,4,...            0   \n",
       "3       (3R,4S,5S,6R)-6-methyloltetrahydropyran-2,3,4,...            0   \n",
       "4       (3R,4S,5S,6R)-6-methyloltetrahydropyran-2,3,4,...            0   \n",
       "...                                                   ...          ...   \n",
       "298856                                                NaN            0   \n",
       "298857                                                NaN            0   \n",
       "298858                                                NaN            0   \n",
       "298859                                                NaN            0   \n",
       "298860                                                NaN            0   \n",
       "\n",
       "            Units     Value  Hours  \n",
       "0         Percent  81.62472   72.0  \n",
       "1         Percent  56.79776  120.0  \n",
       "2         Percent  65.36000  168.0  \n",
       "3         Percent  79.45385   72.0  \n",
       "4         Percent  43.84099  120.0  \n",
       "...           ...       ...    ...  \n",
       "298856  intensity  31.52222  120.0  \n",
       "298857  intensity  33.15461  120.0  \n",
       "298858  intensity  32.76605  120.0  \n",
       "298859  intensity  25.50885  120.0  \n",
       "298860  intensity  30.09340  120.0  \n",
       "\n",
       "[298861 rows x 15 columns]"
      ]
     },
     "execution_count": 23,
     "metadata": {},
     "output_type": "execute_result"
    },
    {
     "data": {
      "application/javascript": [
       "\n",
       "            setTimeout(function() {\n",
       "                var nbb_cell_id = 23;\n",
       "                var nbb_unformatted_code = \"EDD_df = pd.read_csv(\\\"../data/EDD.csv.gz\\\")\\nEDD_df\";\n",
       "                var nbb_formatted_code = \"EDD_df = pd.read_csv(\\\"../data/EDD.csv.gz\\\")\\nEDD_df\";\n",
       "                var nbb_cells = Jupyter.notebook.get_cells();\n",
       "                for (var i = 0; i < nbb_cells.length; ++i) {\n",
       "                    if (nbb_cells[i].input_prompt_number == nbb_cell_id) {\n",
       "                        if (nbb_cells[i].get_text() == nbb_unformatted_code) {\n",
       "                             nbb_cells[i].set_text(nbb_formatted_code);\n",
       "                        }\n",
       "                        break;\n",
       "                    }\n",
       "                }\n",
       "            }, 500);\n",
       "            "
      ],
      "text/plain": [
       "<IPython.core.display.Javascript object>"
      ]
     },
     "metadata": {},
     "output_type": "display_data"
    }
   ],
   "source": [
    "### Read data already downloaded from EDD\n",
    "EDD_df = pd.read_csv(\"../data/EDD.csv.gz\")\n",
    "EDD_df.head()"
   ]
  },
  {
   "cell_type": "markdown",
   "metadata": {},
   "source": [
    "### 2.2. Pre-Process Protein Concentrations"
   ]
  },
  {
   "cell_type": "markdown",
   "metadata": {},
   "source": [
    "#### 2.2.1. Maps from file"
   ]
  },
  {
   "cell_type": "code",
   "execution_count": 15,
   "metadata": {},
   "outputs": [
    {
     "data": {
      "application/javascript": [
       "\n",
       "            setTimeout(function() {\n",
       "                var nbb_cell_id = 15;\n",
       "                var nbb_unformatted_code = \"# Protein to gene map (& gene to protein)\\nprot_gene_map, gene_prot_map = {}, {}\\nprot_gene_re = re.compile(r\\\"proteinId=(\\\\d+);.*transcriptId=(\\\\d+)\\\")\\nwith gzip.open(config[\\\"protein_to_gene_map_fname\\\"], \\\"rt\\\") as gff3:\\n    for line in gff3:\\n        m = prot_gene_re.search(line)\\n        if m:\\n            gene_prot_map[m.group(2)] = m.group(1)\\n            prot_gene_map[m.group(1)] = m.group(2)\";\n",
       "                var nbb_formatted_code = \"# Protein to gene map (& gene to protein)\\nprot_gene_map, gene_prot_map = {}, {}\\nprot_gene_re = re.compile(r\\\"proteinId=(\\\\d+);.*transcriptId=(\\\\d+)\\\")\\nwith gzip.open(config[\\\"protein_to_gene_map_fname\\\"], \\\"rt\\\") as gff3:\\n    for line in gff3:\\n        m = prot_gene_re.search(line)\\n        if m:\\n            gene_prot_map[m.group(2)] = m.group(1)\\n            prot_gene_map[m.group(1)] = m.group(2)\";\n",
       "                var nbb_cells = Jupyter.notebook.get_cells();\n",
       "                for (var i = 0; i < nbb_cells.length; ++i) {\n",
       "                    if (nbb_cells[i].input_prompt_number == nbb_cell_id) {\n",
       "                        if (nbb_cells[i].get_text() == nbb_unformatted_code) {\n",
       "                             nbb_cells[i].set_text(nbb_formatted_code);\n",
       "                        }\n",
       "                        break;\n",
       "                    }\n",
       "                }\n",
       "            }, 500);\n",
       "            "
      ],
      "text/plain": [
       "<IPython.core.display.Javascript object>"
      ]
     },
     "metadata": {},
     "output_type": "display_data"
    }
   ],
   "source": [
    "# Protein to gene map (& gene to protein)\n",
    "prot_gene_map, gene_prot_map = {}, {}\n",
    "prot_gene_re = re.compile(r\"proteinId=(\\d+);.*transcriptId=(\\d+)\")\n",
    "with gzip.open(config[\"protein_to_gene_map_fname\"], \"rt\") as gff3:\n",
    "    for line in gff3:\n",
    "        m = prot_gene_re.search(line)\n",
    "        if m:\n",
    "            gene_prot_map[m.group(2)] = m.group(1)\n",
    "            prot_gene_map[m.group(1)] = m.group(2)"
   ]
  },
  {
   "cell_type": "markdown",
   "metadata": {},
   "source": [
    "# Map uniprot to protein and transcript ID\n",
    "uniprot = (\n",
    "    pd.read_csv(uniprot_fname, index_col=\"Entry name\")[\"ID\"]\n",
    "    .str.split(\"|\")\n",
    "    .str.get(-1)\n",
    "    .to_frame(\"ID\")\n",
    ")\n",
    "uniprot[\"Transcript\"] = uniprot[\"ID\"].replace(\n",
    "    to_replace=prot_gene_map, value=None\n",
    ")"
   ]
  },
  {
   "cell_type": "markdown",
   "metadata": {},
   "source": [
    "#### 2.2.2. Function for mapping to reactions to experiment"
   ]
  },
  {
   "cell_type": "code",
   "execution_count": 16,
   "metadata": {},
   "outputs": [
    {
     "data": {
      "application/javascript": [
       "\n",
       "            setTimeout(function() {\n",
       "                var nbb_cell_id = 16;\n",
       "                var nbb_unformatted_code = \"# Define function to get enzyme activity as a function of protein expression\\ndef get_enzyme_activity_expression(proteins, model):\\n    \\\"\\\"\\\"Get enzyme activity expression as a function of protein expression\\n\\n    Take the min over all subunits for each isoenzyme and sum over all isoenzymes\\n\\n    :param proteins:  protein x experiment dataframe\\n    :param model:  cobra model\\n    :returns:  reaction x experiment dataframe\\n    \\\"\\\"\\\"\\n    enzyme_expression = {}\\n    transcripts = list(proteins.index)\\n    for r in model.reactions:\\n        if r.gene_reaction_rule and (\\n            len(set([g.id for g in r.genes]) & set(transcripts)) > 0\\n        ):\\n            subunits_expression = {}\\n            for x in [x.strip(\\\"() \\\") for x in r.gene_reaction_rule.split(\\\" or \\\")]:\\n                # Take the min over all subunits for each study line\\n                subunits = [\\n                    y.strip(\\\"() \\\")\\n                    for y in x.split(\\\" and \\\")\\n                    if y.strip(\\\"() \\\") in transcripts\\n                ]\\n                if len(subunits) > 0:\\n                    subunits_expression[x] = proteins.loc[subunits].min(axis=0)\\n            enzyme_expression[r.id] = pd.DataFrame(subunits_expression).sum(axis=1)\\n    enzyme_expression = pd.DataFrame(enzyme_expression).T\\n    enzyme_expression.index.name = \\\"rxn\\\"\\n    return enzyme_expression\";\n",
       "                var nbb_formatted_code = \"# Define function to get enzyme activity as a function of protein expression\\ndef get_enzyme_activity_expression(proteins, model):\\n    \\\"\\\"\\\"Get enzyme activity expression as a function of protein expression\\n\\n    Take the min over all subunits for each isoenzyme and sum over all isoenzymes\\n\\n    :param proteins:  protein x experiment dataframe\\n    :param model:  cobra model\\n    :returns:  reaction x experiment dataframe\\n    \\\"\\\"\\\"\\n    enzyme_expression = {}\\n    transcripts = list(proteins.index)\\n    for r in model.reactions:\\n        if r.gene_reaction_rule and (\\n            len(set([g.id for g in r.genes]) & set(transcripts)) > 0\\n        ):\\n            subunits_expression = {}\\n            for x in [x.strip(\\\"() \\\") for x in r.gene_reaction_rule.split(\\\" or \\\")]:\\n                # Take the min over all subunits for each study line\\n                subunits = [\\n                    y.strip(\\\"() \\\")\\n                    for y in x.split(\\\" and \\\")\\n                    if y.strip(\\\"() \\\") in transcripts\\n                ]\\n                if len(subunits) > 0:\\n                    subunits_expression[x] = proteins.loc[subunits].min(axis=0)\\n            enzyme_expression[r.id] = pd.DataFrame(subunits_expression).sum(axis=1)\\n    enzyme_expression = pd.DataFrame(enzyme_expression).T\\n    enzyme_expression.index.name = \\\"rxn\\\"\\n    return enzyme_expression\";\n",
       "                var nbb_cells = Jupyter.notebook.get_cells();\n",
       "                for (var i = 0; i < nbb_cells.length; ++i) {\n",
       "                    if (nbb_cells[i].input_prompt_number == nbb_cell_id) {\n",
       "                        if (nbb_cells[i].get_text() == nbb_unformatted_code) {\n",
       "                             nbb_cells[i].set_text(nbb_formatted_code);\n",
       "                        }\n",
       "                        break;\n",
       "                    }\n",
       "                }\n",
       "            }, 500);\n",
       "            "
      ],
      "text/plain": [
       "<IPython.core.display.Javascript object>"
      ]
     },
     "metadata": {},
     "output_type": "display_data"
    }
   ],
   "source": [
    "# Define function to get enzyme activity as a function of protein expression\n",
    "def get_enzyme_activity_expression(proteins, model):\n",
    "    \"\"\"Get enzyme activity expression as a function of protein expression\n",
    "\n",
    "    Take the min over all subunits for each isoenzyme and sum over all isoenzymes\n",
    "\n",
    "    :param proteins:  protein x experiment dataframe\n",
    "    :param model:  cobra model\n",
    "    :returns:  reaction x experiment dataframe\n",
    "    \"\"\"\n",
    "    enzyme_expression = {}\n",
    "    transcripts = list(proteins.index)\n",
    "    for r in model.reactions:\n",
    "        if r.gene_reaction_rule and (\n",
    "            len(set([g.id for g in r.genes]) & set(transcripts)) > 0\n",
    "        ):\n",
    "            subunits_expression = {}\n",
    "            for x in [x.strip(\"() \") for x in r.gene_reaction_rule.split(\" or \")]:\n",
    "                # Take the min over all subunits for each study line\n",
    "                subunits = [\n",
    "                    y.strip(\"() \")\n",
    "                    for y in x.split(\" and \")\n",
    "                    if y.strip(\"() \") in transcripts\n",
    "                ]\n",
    "                if len(subunits) > 0:\n",
    "                    subunits_expression[x] = proteins.loc[subunits].min(axis=0)\n",
    "            enzyme_expression[r.id] = pd.DataFrame(subunits_expression).sum(axis=1)\n",
    "    enzyme_expression = pd.DataFrame(enzyme_expression).T\n",
    "    enzyme_expression.index.name = \"rxn\"\n",
    "    return enzyme_expression"
   ]
  },
  {
   "cell_type": "markdown",
   "metadata": {},
   "source": [
    "#### 2.2.3. Proteomics for Flux Constraints"
   ]
  },
  {
   "cell_type": "code",
   "execution_count": 20,
   "metadata": {},
   "outputs": [
    {
     "data": {
      "text/html": [
       "<div>\n",
       "<style scoped>\n",
       "    .dataframe tbody tr th:only-of-type {\n",
       "        vertical-align: middle;\n",
       "    }\n",
       "\n",
       "    .dataframe tbody tr th {\n",
       "        vertical-align: top;\n",
       "    }\n",
       "\n",
       "    .dataframe thead th {\n",
       "        text-align: right;\n",
       "    }\n",
       "</style>\n",
       "<table border=\"1\" class=\"dataframe\">\n",
       "  <thead>\n",
       "    <tr style=\"text-align: right;\">\n",
       "      <th></th>\n",
       "      <th>Transcript</th>\n",
       "    </tr>\n",
       "  </thead>\n",
       "  <tbody>\n",
       "    <tr>\n",
       "      <th>35362</th>\n",
       "      <td>35362</td>\n",
       "    </tr>\n",
       "    <tr>\n",
       "      <th>35369</th>\n",
       "      <td>35369</td>\n",
       "    </tr>\n",
       "    <tr>\n",
       "      <th>35382</th>\n",
       "      <td>35382</td>\n",
       "    </tr>\n",
       "    <tr>\n",
       "      <th>35417</th>\n",
       "      <td>35417</td>\n",
       "    </tr>\n",
       "    <tr>\n",
       "      <th>35418</th>\n",
       "      <td>35418</td>\n",
       "    </tr>\n",
       "    <tr>\n",
       "      <th>...</th>\n",
       "      <td>...</td>\n",
       "    </tr>\n",
       "    <tr>\n",
       "      <th>46163</th>\n",
       "      <td>46163</td>\n",
       "    </tr>\n",
       "    <tr>\n",
       "      <th>1098883</th>\n",
       "      <td>1099159</td>\n",
       "    </tr>\n",
       "    <tr>\n",
       "      <th>1098889</th>\n",
       "      <td>1099165</td>\n",
       "    </tr>\n",
       "    <tr>\n",
       "      <th>1098890</th>\n",
       "      <td>1099166</td>\n",
       "    </tr>\n",
       "    <tr>\n",
       "      <th>1155616</th>\n",
       "      <td>1155892</td>\n",
       "    </tr>\n",
       "  </tbody>\n",
       "</table>\n",
       "<p>11910 rows × 1 columns</p>\n",
       "</div>"
      ],
      "text/plain": [
       "        Transcript\n",
       "35362        35362\n",
       "35369        35369\n",
       "35382        35382\n",
       "35417        35417\n",
       "35418        35418\n",
       "...            ...\n",
       "46163        46163\n",
       "1098883    1099159\n",
       "1098889    1099165\n",
       "1098890    1099166\n",
       "1155616    1155892\n",
       "\n",
       "[11910 rows x 1 columns]"
      ]
     },
     "execution_count": 20,
     "metadata": {},
     "output_type": "execute_result"
    },
    {
     "data": {
      "application/javascript": [
       "\n",
       "            setTimeout(function() {\n",
       "                var nbb_cell_id = 20;\n",
       "                var nbb_unformatted_code = \"pd.Series(prot_gene_map).to_frame(\\\"Transcript\\\")\";\n",
       "                var nbb_formatted_code = \"pd.Series(prot_gene_map).to_frame(\\\"Transcript\\\")\";\n",
       "                var nbb_cells = Jupyter.notebook.get_cells();\n",
       "                for (var i = 0; i < nbb_cells.length; ++i) {\n",
       "                    if (nbb_cells[i].input_prompt_number == nbb_cell_id) {\n",
       "                        if (nbb_cells[i].get_text() == nbb_unformatted_code) {\n",
       "                             nbb_cells[i].set_text(nbb_formatted_code);\n",
       "                        }\n",
       "                        break;\n",
       "                    }\n",
       "                }\n",
       "            }, 500);\n",
       "            "
      ],
      "text/plain": [
       "<IPython.core.display.Javascript object>"
      ]
     },
     "metadata": {},
     "output_type": "display_data"
    }
   ],
   "source": [
    "pd.Series(prot_gene_map).to_frame(\"Transcript\")"
   ]
  },
  {
   "cell_type": "code",
   "execution_count": 21,
   "metadata": {},
   "outputs": [
    {
     "ename": "NameError",
     "evalue": "name 'EDD_df' is not defined",
     "output_type": "error",
     "traceback": [
      "\u001b[0;31m---------------------------------------------------------------------------\u001b[0m",
      "\u001b[0;31mNameError\u001b[0m                                 Traceback (most recent call last)",
      "\u001b[0;32m<ipython-input-21-372309c67895>\u001b[0m in \u001b[0;36m<module>\u001b[0;34m\u001b[0m\n\u001b[1;32m      2\u001b[0m \u001b[0;34m\u001b[0m\u001b[0m\n\u001b[1;32m      3\u001b[0m \u001b[0;31m# Extract global proteomics from EDD data\u001b[0m\u001b[0;34m\u001b[0m\u001b[0;34m\u001b[0m\u001b[0;34m\u001b[0m\u001b[0m\n\u001b[0;32m----> 4\u001b[0;31m flux_constraints = EDD_df[\n\u001b[0m\u001b[1;32m      5\u001b[0m     \u001b[0mEDD_df\u001b[0m\u001b[0;34m[\u001b[0m\u001b[0;34m\"Protocol\"\u001b[0m\u001b[0;34m]\u001b[0m \u001b[0;34m==\u001b[0m \u001b[0mconfig\u001b[0m\u001b[0;34m[\u001b[0m\u001b[0;34m\"protocol_to_omics_map\"\u001b[0m\u001b[0;34m]\u001b[0m\u001b[0;34m[\u001b[0m\u001b[0;34m\"Flux_Constraint\"\u001b[0m\u001b[0;34m]\u001b[0m\u001b[0;34m\u001b[0m\u001b[0;34m\u001b[0m\u001b[0m\n\u001b[1;32m      6\u001b[0m ]\n",
      "\u001b[0;31mNameError\u001b[0m: name 'EDD_df' is not defined"
     ]
    },
    {
     "data": {
      "application/javascript": [
       "\n",
       "            setTimeout(function() {\n",
       "                var nbb_cell_id = 21;\n",
       "                var nbb_unformatted_code = \"### TODO change variable name from global_proteomics to flux_constraints\\n\\n# Extract global proteomics from EDD data\\nflux_constraints = EDD_df[\\n    EDD_df[\\\"Protocol\\\"] == config[\\\"protocol_to_omics_map\\\"][\\\"Flux_Constraint\\\"]\\n]\\n\\n# Normalize global proteomics with ??uniprot??\\n\\nnormalized_flux_constraints= global_proteomics[\\n    [\\\"Formal Type\\\", \\\"Line Name\\\", \\\"Value\\\"]\\n].pivot_table(index=\\\"Formal Type\\\", columns=\\\"Line Name\\\", values=\\\"Value\\\")\\n\\nnormalized_flux_constraints = (\\n    normalized_flux_constraints.divide(\\n        normalized_flux_constraints[ref_line], axis=0\\n    )\\n    .replace(-np.inf, 1)\\n    .replace(np.inf, 1)\\n    .fillna(1)\\n)\\n\\n# Apply JGI names (model genes) to Normalize global proteomics\\nnormalized_flux_constraints_jgi = (\\n    normalized_flux_constraints_jgi.join(pd.Series(prot_gene_map).to_frame(\\\"Transcript\\\")).set_index(\\\"Transcript\\\").drop(\\\"ID\\\")\\n)\\nnormalized_flux_constraints_jgi = normalized_flux_constraints_jgi.drop(\\\"ID\\\", axis=1)\\n\\n# Map global proteomics\\n# Map enzyme abundances to model gene IDs\\nget_enzyme_activity_expression(normalized_jgi_targeted_prot, model)\";\n",
       "                var nbb_formatted_code = \"### TODO change variable name from global_proteomics to flux_constraints\\n\\n# Extract global proteomics from EDD data\\nflux_constraints = EDD_df[\\n    EDD_df[\\\"Protocol\\\"] == config[\\\"protocol_to_omics_map\\\"][\\\"Flux_Constraint\\\"]\\n]\\n\\n# Normalize global proteomics with ??uniprot??\\n\\nnormalized_flux_constraints = global_proteomics[\\n    [\\\"Formal Type\\\", \\\"Line Name\\\", \\\"Value\\\"]\\n].pivot_table(index=\\\"Formal Type\\\", columns=\\\"Line Name\\\", values=\\\"Value\\\")\\n\\nnormalized_flux_constraints = (\\n    normalized_flux_constraints.divide(normalized_flux_constraints[ref_line], axis=0)\\n    .replace(-np.inf, 1)\\n    .replace(np.inf, 1)\\n    .fillna(1)\\n)\\n\\n# Apply JGI names (model genes) to Normalize global proteomics\\nnormalized_flux_constraints_jgi = (\\n    normalized_flux_constraints_jgi.join(\\n        pd.Series(prot_gene_map).to_frame(\\\"Transcript\\\")\\n    )\\n    .set_index(\\\"Transcript\\\")\\n    .drop(\\\"ID\\\")\\n)\\nnormalized_flux_constraints_jgi = normalized_flux_constraints_jgi.drop(\\\"ID\\\", axis=1)\\n\\n# Map global proteomics\\n# Map enzyme abundances to model gene IDs\\nget_enzyme_activity_expression(normalized_jgi_targeted_prot, model)\";\n",
       "                var nbb_cells = Jupyter.notebook.get_cells();\n",
       "                for (var i = 0; i < nbb_cells.length; ++i) {\n",
       "                    if (nbb_cells[i].input_prompt_number == nbb_cell_id) {\n",
       "                        if (nbb_cells[i].get_text() == nbb_unformatted_code) {\n",
       "                             nbb_cells[i].set_text(nbb_formatted_code);\n",
       "                        }\n",
       "                        break;\n",
       "                    }\n",
       "                }\n",
       "            }, 500);\n",
       "            "
      ],
      "text/plain": [
       "<IPython.core.display.Javascript object>"
      ]
     },
     "metadata": {},
     "output_type": "display_data"
    }
   ],
   "source": [
    "### TODO change variable name from global_proteomics to flux_constraints\n",
    "\n",
    "# Extract global proteomics from EDD data\n",
    "flux_constraints = EDD_df[\n",
    "    EDD_df[\"Protocol\"] == config[\"protocol_to_omics_map\"][\"Flux_Constraint\"]\n",
    "]\n",
    "\n",
    "# Normalize global proteomics with ??uniprot??\n",
    "\n",
    "normalized_flux_constraints = global_proteomics[\n",
    "    [\"Formal Type\", \"Line Name\", \"Value\"]\n",
    "].pivot_table(index=\"Formal Type\", columns=\"Line Name\", values=\"Value\")\n",
    "\n",
    "normalized_flux_constraints = (\n",
    "    normalized_flux_constraints.divide(normalized_flux_constraints[ref_line], axis=0)\n",
    "    .replace(-np.inf, 1)\n",
    "    .replace(np.inf, 1)\n",
    "    .fillna(1)\n",
    ")\n",
    "\n",
    "# Apply JGI names (model genes) to Normalize global proteomics\n",
    "normalized_flux_constraints_jgi = (\n",
    "    normalized_flux_constraints_jgi.join(\n",
    "        pd.Series(prot_gene_map).to_frame(\"Transcript\")\n",
    "    )\n",
    "    .set_index(\"Transcript\")\n",
    ")\n",
    "#normalized_flux_constraints_jgi = normalized_flux_constraints_jgi.drop(\"ID\", axis=1)\n",
    "\n",
    "# Map global proteomics\n",
    "# Map enzyme abundances to model gene IDs\n",
    "get_enzyme_activity_expression(normalized_flux_constraints_jgi, model)"
   ]
  },
  {
   "cell_type": "markdown",
   "metadata": {},
   "source": [
    "#### 2.2.4. Proteomics for Enzyme Abundance"
   ]
  },
  {
   "cell_type": "code",
   "execution_count": 2,
   "metadata": {},
   "outputs": [
    {
     "ename": "NameError",
     "evalue": "name 'EDD_df' is not defined",
     "output_type": "error",
     "traceback": [
      "\u001b[0;31m---------------------------------------------------------------------------\u001b[0m",
      "\u001b[0;31mNameError\u001b[0m                                 Traceback (most recent call last)",
      "\u001b[0;32m<ipython-input-2-702edfff74e1>\u001b[0m in \u001b[0;36m<module>\u001b[0;34m\u001b[0m\n\u001b[1;32m      1\u001b[0m \u001b[0;31m# Extract targeted proteomics from EDD data\u001b[0m\u001b[0;34m\u001b[0m\u001b[0;34m\u001b[0m\u001b[0;34m\u001b[0m\u001b[0m\n\u001b[0;32m----> 2\u001b[0;31m \u001b[0mtargeted_proteomics\u001b[0m \u001b[0;34m=\u001b[0m \u001b[0mEDD_df\u001b[0m\u001b[0;34m[\u001b[0m\u001b[0mEDD_df\u001b[0m\u001b[0;34m[\u001b[0m\u001b[0;34m\"Protocol\"\u001b[0m\u001b[0;34m]\u001b[0m \u001b[0;34m==\u001b[0m \u001b[0mconfig\u001b[0m\u001b[0;34m[\u001b[0m\u001b[0;34m\"protocol_to_omics_map\"\u001b[0m\u001b[0;34m]\u001b[0m\u001b[0;34m[\u001b[0m\u001b[0;34m\"Enzyme_Abundance\"\u001b[0m\u001b[0;34m]\u001b[0m\u001b[0;34m]\u001b[0m\u001b[0;34m\u001b[0m\u001b[0;34m\u001b[0m\u001b[0m\n\u001b[0m\u001b[1;32m      3\u001b[0m \u001b[0;34m\u001b[0m\u001b[0m\n\u001b[1;32m      4\u001b[0m \u001b[0;31m# Normalize targeted proteomics with ??uniprot??\u001b[0m\u001b[0;34m\u001b[0m\u001b[0;34m\u001b[0m\u001b[0;34m\u001b[0m\u001b[0m\n\u001b[1;32m      5\u001b[0m \u001b[0mnormalized_uniprot_targeted_prot\u001b[0m \u001b[0;34m=\u001b[0m \u001b[0mtargeted_proteomics\u001b[0m\u001b[0;34m.\u001b[0m\u001b[0mset_index\u001b[0m\u001b[0;34m(\u001b[0m\u001b[0;34m[\u001b[0m\u001b[0;34m\"Formal Type\"\u001b[0m\u001b[0;34m,\u001b[0m \u001b[0;34m\"Line Name\"\u001b[0m\u001b[0;34m]\u001b[0m\u001b[0;34m)\u001b[0m\u001b[0;34m[\u001b[0m\u001b[0;34m\"Value\"\u001b[0m\u001b[0;34m]\u001b[0m\u001b[0;34m.\u001b[0m\u001b[0munstack\u001b[0m\u001b[0;34m(\u001b[0m\u001b[0mfill_value\u001b[0m\u001b[0;34m=\u001b[0m\u001b[0;36m1\u001b[0m\u001b[0;34m)\u001b[0m\u001b[0;34m\u001b[0m\u001b[0;34m\u001b[0m\u001b[0m\n",
      "\u001b[0;31mNameError\u001b[0m: name 'EDD_df' is not defined"
     ]
    },
    {
     "data": {
      "application/javascript": [
       "\n",
       "            setTimeout(function() {\n",
       "                var nbb_cell_id = 2;\n",
       "                var nbb_unformatted_code = \"# Extract targeted proteomics from EDD data\\ntargeted_proteomics = EDD_df[EDD_df[\\\"Protocol\\\"] == config[\\\"protocol_to_omics_map\\\"][\\\"Enzyme_Abundance\\\"]]\\n\\n# Normalize targeted proteomics with ??uniprot??\\nnormalized_uniprot_targeted_prot = targeted_proteomics.set_index([\\\"Formal Type\\\", \\\"Line Name\\\"])[\\\"Value\\\"].unstack(fill_value=1)\\nnormalized_uniprot_targeted_prot = normalized_uniprot_targeted_prot.divide(\\n    normalized_uniprot_targeted_prot[reference_strain], axis=0\\n)\\n\\n# JGI normalize targeted proteomics\\nnormalized_jgi_targeted_prot = (\\n    normalized_uniprot_targeted_prot.join(uniprot_aniger)\\n    .dropna()\\n    .set_index(\\\"Transcript\\\")\\n    .drop(\\\"ID\\\", axis=1)\\n)\\n\\n# Map targeted proteomics\\nnormalized_rxns_targeted_prot = get_enzyme_activity_expression(normalized_jgi_targeted_prot, model)\";\n",
       "                var nbb_formatted_code = \"# Extract targeted proteomics from EDD data\\ntargeted_proteomics = EDD_df[\\n    EDD_df[\\\"Protocol\\\"] == config[\\\"protocol_to_omics_map\\\"][\\\"Enzyme_Abundance\\\"]\\n]\\n\\n# Normalize targeted proteomics with ??uniprot??\\nnormalized_uniprot_targeted_prot = targeted_proteomics.set_index(\\n    [\\\"Formal Type\\\", \\\"Line Name\\\"]\\n)[\\\"Value\\\"].unstack(fill_value=1)\\nnormalized_uniprot_targeted_prot = normalized_uniprot_targeted_prot.divide(\\n    normalized_uniprot_targeted_prot[reference_strain], axis=0\\n)\\n\\n# JGI normalize targeted proteomics\\nnormalized_jgi_targeted_prot = (\\n    normalized_uniprot_targeted_prot.join(uniprot_aniger)\\n    .dropna()\\n    .set_index(\\\"Transcript\\\")\\n    .drop(\\\"ID\\\", axis=1)\\n)\\n\\n# Map targeted proteomics\\nnormalized_rxns_targeted_prot = get_enzyme_activity_expression(\\n    normalized_jgi_targeted_prot, model\\n)\";\n",
       "                var nbb_cells = Jupyter.notebook.get_cells();\n",
       "                for (var i = 0; i < nbb_cells.length; ++i) {\n",
       "                    if (nbb_cells[i].input_prompt_number == nbb_cell_id) {\n",
       "                        if (nbb_cells[i].get_text() == nbb_unformatted_code) {\n",
       "                             nbb_cells[i].set_text(nbb_formatted_code);\n",
       "                        }\n",
       "                        break;\n",
       "                    }\n",
       "                }\n",
       "            }, 500);\n",
       "            "
      ],
      "text/plain": [
       "<IPython.core.display.Javascript object>"
      ]
     },
     "metadata": {},
     "output_type": "display_data"
    }
   ],
   "source": [
    "### TODO change variable name from targeted_proteomics to enzyme_abundance\n",
    "\n",
    "\n",
    "# Extract targeted proteomics from EDD data\n",
    "enzyme_abundance = EDD_df[\n",
    "    EDD_df[\"Protocol\"] == config[\"protocol_to_omics_map\"][\"Enzyme_Abundance\"]\n",
    "]\n",
    "\n",
    "# Normalize targeted proteomics with ??uniprot??\n",
    "normalized_enzyme_abundance = enzyme_abundance.set_index(\n",
    "    [\"Formal Type\", \"Line Name\"]\n",
    ")[\"Value\"].unstack(fill_value=1)\n",
    "normalized_enzyme_abundance = normalized_enzyme_abundance.divide(\n",
    "    normalized_enzyme_abundance[ref_line], axis=0\n",
    ")\n",
    "\n",
    "# JGI normalize targeted proteomics\n",
    "normalized_enzyme_abundance_jgi = (\n",
    "    normalized_enzyme_abundance.join(\n",
    "        pd.Series(prot_gene_map).to_frame(\"Transcript\")\n",
    "    )\n",
    "    .dropna()\n",
    "    .set_index(\"Transcript\")\n",
    ")\n",
    "\n",
    "# Map targeted proteomics\n",
    "normalized_rxns_targeted_prot = get_enzyme_activity_expression(\n",
    "    normalized_enzyme_abundance_jgi, model\n",
    ")"
   ]
  },
  {
   "cell_type": "markdown",
   "metadata": {},
   "source": [
    "### 2.3. Pre-Process Metabolite Concentrations"
   ]
  },
  {
   "cell_type": "markdown",
   "metadata": {},
   "source": [
    "#### 2.3.1. Maps for Metabolomics"
   ]
  },
  {
   "cell_type": "code",
   "execution_count": null,
   "metadata": {},
   "outputs": [],
   "source": [
    "# For mapping pubchem to model IDs\n",
    "metab = pd.read_excel(\n",
    "    \"Multiomics/210525_Aspergillus_niger_3HP_ABFSF93_multiomics_data_fixed.xlsx\",\n",
    "    sheet_name=\"Intra_metabolites_NOTnormalized\",\n",
    "    engine=\"openpyxl\",\n",
    ")\n",
    "\n",
    "\n",
    "pubchem_metabs = metab[~metab[\"PubChem\"].isnull()].set_index(\"PubChem\")\n",
    "\n",
    "kegg_metabs = metab[~metab[\"Kegg\"].isnull()].set_index(\"Kegg\")\n",
    "\n",
    "from collections import defaultdict\n",
    "\n",
    "def make_metabolite_map(db, model, prefix=None):\n",
    "    db_model_mets = defaultdict(list)\n",
    "    for m in model.metabolites:\n",
    "        if db in m.annotation:\n",
    "            if prefix:\n",
    "                db_model_mets[f\"{prefix}:{m.annotation[db]}\"].append(m)\n",
    "            else:\n",
    "                db_model_mets[m.annotation[db]].append(m)\n",
    "    return db_model_mets\n",
    "\n",
    "\n",
    "kegg_model_mets = make_metabolite_map(\"kegg.compound\", model)\n",
    "len(set(kegg_metabs.index) & set(kegg_model_mets.keys()))\n",
    "\n",
    "\n",
    "\n",
    "\n",
    "### --------------------------------------------------------------------------------\n",
    "\n",
    "\n",
    "\n",
    "from copy import deepcopy\n",
    "\n",
    "def add_db_annotations_to_model(\n",
    "    src_model,\n",
    "    annot_db_name,\n",
    "    data_db_name,\n",
    "    model_metabolite_map,\n",
    "    data_metabolite_map,\n",
    "    compartment_restrictions=[\"c\"],\n",
    "):\n",
    "    model = deepcopy(src_model)\n",
    "    for db_id, metabolites in model_metabolite_map.items():\n",
    "        if db_id in data_metabolite_map.index:\n",
    "            print(db_id, \",\".join(m.id for m in metabolites))\n",
    "            for m in metabolites:\n",
    "                if m.compartment in compartment_restrictions:\n",
    "                    m.annotation[annot_db_name] = data_metabolite_map.loc[\n",
    "                        db_id, data_db_name\n",
    "                    ]\n",
    "    return model\n",
    "\n",
    "model_w_pubchem = add_db_annotations_to_model(\n",
    "    model, \"pubchem\", \"PubChem\", kegg_model_mets, kegg_metabs, [\"c\"]\n",
    ")\n",
    "\n",
    "pubchem_model_map = dict([\n",
    "    (f\"\"\"cid:{m.annotation['pubchem']}\"\"\", m.id)\n",
    "    for m in model_w_pubchem.metabolites\n",
    "    if (\"pubchem\" in m.annotation) and (\"c\" == m.compartment)\n",
    "    ])\n",
    "\n",
    "def map_pubchem_to_model_id(pubchem_model_map, dataset):\n",
    "    idx = [i for i in dataset.index if i in pubchem_model_map]\n",
    "    return dataset.loc[idx].rename(index=pubchem_model_map)\n"
   ]
  },
  {
   "cell_type": "markdown",
   "metadata": {},
   "source": [
    "#### 2.3.2. Internal Metabolites"
   ]
  },
  {
   "cell_type": "code",
   "execution_count": 25,
   "metadata": {},
   "outputs": [
    {
     "data": {
      "text/html": [
       "<div>\n",
       "<style scoped>\n",
       "    .dataframe tbody tr th:only-of-type {\n",
       "        vertical-align: middle;\n",
       "    }\n",
       "\n",
       "    .dataframe tbody tr th {\n",
       "        vertical-align: top;\n",
       "    }\n",
       "\n",
       "    .dataframe thead th {\n",
       "        text-align: right;\n",
       "    }\n",
       "</style>\n",
       "<table border=\"1\" class=\"dataframe\">\n",
       "  <thead>\n",
       "    <tr style=\"text-align: right;\">\n",
       "      <th></th>\n",
       "      <th>ID</th>\n",
       "      <th>Transcript</th>\n",
       "    </tr>\n",
       "    <tr>\n",
       "      <th>Entry name</th>\n",
       "      <th></th>\n",
       "      <th></th>\n",
       "    </tr>\n",
       "  </thead>\n",
       "  <tbody>\n",
       "    <tr>\n",
       "      <th>A7U8C7</th>\n",
       "      <td>PAND_Tribolium_castaneum</td>\n",
       "      <td>PAND_Tribolium_castaneum</td>\n",
       "    </tr>\n",
       "    <tr>\n",
       "      <th>C2ZAL1</th>\n",
       "      <td>BAPAT_Bacillus_cereus</td>\n",
       "      <td>BAPAT_Bacillus_cereus</td>\n",
       "    </tr>\n",
       "    <tr>\n",
       "      <th>P3983</th>\n",
       "      <td>HPDH_escherichia_coli</td>\n",
       "      <td>HPDH_escherichia_coli</td>\n",
       "    </tr>\n",
       "    <tr>\n",
       "      <th>ABF_005934</th>\n",
       "      <td>PAND_Tribolium_castaneum</td>\n",
       "      <td>PAND_Tribolium_castaneum</td>\n",
       "    </tr>\n",
       "    <tr>\n",
       "      <th>ABF_005935</th>\n",
       "      <td>BAPAT_Bacillus_cereus</td>\n",
       "      <td>BAPAT_Bacillus_cereus</td>\n",
       "    </tr>\n",
       "    <tr>\n",
       "      <th>...</th>\n",
       "      <td>...</td>\n",
       "      <td>...</td>\n",
       "    </tr>\n",
       "    <tr>\n",
       "      <th>G3XM75</th>\n",
       "      <td>56950</td>\n",
       "      <td>56950</td>\n",
       "    </tr>\n",
       "    <tr>\n",
       "      <th>G3Y8S4</th>\n",
       "      <td>57046</td>\n",
       "      <td>57046</td>\n",
       "    </tr>\n",
       "    <tr>\n",
       "      <th>G3Y7D7</th>\n",
       "      <td>57150</td>\n",
       "      <td>57150</td>\n",
       "    </tr>\n",
       "    <tr>\n",
       "      <th>G3Y4S3</th>\n",
       "      <td>57297</td>\n",
       "      <td>57297</td>\n",
       "    </tr>\n",
       "    <tr>\n",
       "      <th>G3YAC5</th>\n",
       "      <td>57451</td>\n",
       "      <td>57451</td>\n",
       "    </tr>\n",
       "  </tbody>\n",
       "</table>\n",
       "<p>11913 rows × 2 columns</p>\n",
       "</div>"
      ],
      "text/plain": [
       "                                  ID                Transcript\n",
       "Entry name                                                    \n",
       "A7U8C7      PAND_Tribolium_castaneum  PAND_Tribolium_castaneum\n",
       "C2ZAL1         BAPAT_Bacillus_cereus     BAPAT_Bacillus_cereus\n",
       "P3983          HPDH_escherichia_coli     HPDH_escherichia_coli\n",
       "ABF_005934  PAND_Tribolium_castaneum  PAND_Tribolium_castaneum\n",
       "ABF_005935     BAPAT_Bacillus_cereus     BAPAT_Bacillus_cereus\n",
       "...                              ...                       ...\n",
       "G3XM75                         56950                     56950\n",
       "G3Y8S4                         57046                     57046\n",
       "G3Y7D7                         57150                     57150\n",
       "G3Y4S3                         57297                     57297\n",
       "G3YAC5                         57451                     57451\n",
       "\n",
       "[11913 rows x 2 columns]"
      ]
     },
     "execution_count": 25,
     "metadata": {},
     "output_type": "execute_result"
    }
   ],
   "source": [
    "# Extract internal metabolites from EDD data\n",
    "internal_metab = EDD_df[EDD_df[\"Protocol\"] == \"PNNL Global Metabolomics (intracellular)\"]\n",
    "\n",
    "\n",
    "# Normalize internal metabolites\n",
    "normalized_internal_metab = (\n",
    "    internal_metab.set_index([\"Measurement Type\", \"Formal Type\", \"Line Name\"])[\"Value\"]\n",
    "    .unstack()\n",
    "    .apply(np.log2)\n",
    ")\n",
    "normalized_internal_metab = (\n",
    "    normalized_internal_metab.sub(normalized_internal_metab[reference_strain], axis=0)\n",
    "    .replace(-np.inf, 0)\n",
    "    .fillna(0)\n",
    "    .replace(np.inf, 0)\n",
    ")\n",
    "\n",
    "# Add model IDs to data\n",
    "pubchem_ids = list(\n",
    "    internal_metab.groupby([\"Formal Type\", \"Measurement Type\"]).count().index\n",
    ")\n",
    "normalized_internal_metab_w_model_ids = map_pubchem_to_model_id(\n",
    "    pubchem_model_map, normalized_internal_metab.droplevel(0)\n",
    ")"
   ]
  },
  {
   "cell_type": "code",
   "execution_count": null,
   "metadata": {},
   "outputs": [],
   "source": []
  },
  {
   "cell_type": "code",
   "execution_count": null,
   "metadata": {},
   "outputs": [],
   "source": [
    "### Fluxes\n",
    "\n",
    "## !!! Hard coded for 3hp\n",
    "\n",
    "# Run Eflux2 to calculate fluxes\n",
    "fluxes = {}\n",
    "for rep in global_prot.columns:\n",
    "    with model:\n",
    "        glucose_uptake = normalized_line_rates.loc[rep,'glucose_uptake_rates (mmol/gDCW * hr)' ]\n",
    "        secrete_3hp = normalized_line_rates.loc[rep,'3hp_secretion_rates (mmol/gDCW * hr)']\n",
    "        if glucose_uptake:\n",
    "            model.reactions.BOUNDARY_GLCe.upper_bound = glucose_uptake\n",
    "        if secrete_3hp:\n",
    "            model.reactions.EX_3hpp_e.lower_bound =  secrete_3hp\n",
    "        try:\n",
    "            print(rep)\n",
    "            fluxes[rep] = EFlux2(model, global_prot[rep])\n",
    "        except TypeError:\n",
    "            print(f\"Replicate {rep} with glucose {glucose_uptake} and 3hp {secrete_3hp} is infeasible\")\n",
    "fluxes[rep]\n",
    "\n",
    "efluxes = pd.DataFrame(dict([(rep, fluxes[rep].to_frame()['fluxes']) for rep in fluxes]))\n",
    "reduced_costs = pd.DataFrame(dict([(rep, fluxes[rep].to_frame()['reduced_costs']) for rep in fluxes]))\n",
    "eflux_rates = efluxes*ref_line_glucose_rate\n",
    "\n",
    "#efluxes.to_csv('Eflux2_flux_yield.csv')\n",
    "#reduced_costs.to_csv('Eflux2_yield_reduced_costs.csv')\n",
    "#eflux_rates.to_csv('Learn/Eflux2_flux_rates.csv')"
   ]
  },
  {
   "cell_type": "code",
   "execution_count": 20,
   "metadata": {},
   "outputs": [],
   "source": [
    "### Internal(?) metabolites\n",
    "\n",
    "# Get metabolite concentrations from file\n",
    "met_conc = pd.read_csv(met_conc_fname, index_col=0)\n",
    "met_conc = met_conc.loc[[m.id for m in model.metabolites if m.id in met_conc.index]]"
   ]
  },
  {
   "cell_type": "code",
   "execution_count": 21,
   "metadata": {},
   "outputs": [
    {
     "data": {
      "text/html": [
       "<div>\n",
       "<style scoped>\n",
       "    .dataframe tbody tr th:only-of-type {\n",
       "        vertical-align: middle;\n",
       "    }\n",
       "\n",
       "    .dataframe tbody tr th {\n",
       "        vertical-align: top;\n",
       "    }\n",
       "\n",
       "    .dataframe thead th {\n",
       "        text-align: right;\n",
       "    }\n",
       "</style>\n",
       "<table border=\"1\" class=\"dataframe\">\n",
       "  <thead>\n",
       "    <tr style=\"text-align: right;\">\n",
       "      <th></th>\n",
       "      <th>SF ABF93_1-R1</th>\n",
       "      <th>SF ABF93_1-R2</th>\n",
       "      <th>SF ABF93_1-R3</th>\n",
       "      <th>SF ABF93_10-R1</th>\n",
       "      <th>SF ABF93_10-R2</th>\n",
       "      <th>SF ABF93_10-R3</th>\n",
       "      <th>SF ABF93_11-R1</th>\n",
       "      <th>SF ABF93_11-R2</th>\n",
       "      <th>SF ABF93_11-R3</th>\n",
       "      <th>SF ABF93_12-R1</th>\n",
       "      <th>...</th>\n",
       "      <th>SF ABF93_6-R3</th>\n",
       "      <th>SF ABF93_7-R1</th>\n",
       "      <th>SF ABF93_7-R2</th>\n",
       "      <th>SF ABF93_7-R3</th>\n",
       "      <th>SF ABF93_8-R1</th>\n",
       "      <th>SF ABF93_8-R2</th>\n",
       "      <th>SF ABF93_8-R3</th>\n",
       "      <th>SF ABF93_9-R1</th>\n",
       "      <th>SF ABF93_9-R2</th>\n",
       "      <th>SF ABF93_9-R3</th>\n",
       "    </tr>\n",
       "  </thead>\n",
       "  <tbody>\n",
       "    <tr>\n",
       "      <th>bDGLCe</th>\n",
       "      <td>0.96856</td>\n",
       "      <td>0.595006</td>\n",
       "      <td>1.019095</td>\n",
       "      <td>0.306643</td>\n",
       "      <td>0.370181</td>\n",
       "      <td>0.332601</td>\n",
       "      <td>0.286244</td>\n",
       "      <td>0.425582</td>\n",
       "      <td>0.483575</td>\n",
       "      <td>0.327102</td>\n",
       "      <td>...</td>\n",
       "      <td>0.236882</td>\n",
       "      <td>0.061311</td>\n",
       "      <td>0.077775</td>\n",
       "      <td>0.0</td>\n",
       "      <td>0.636998</td>\n",
       "      <td>0.488817</td>\n",
       "      <td>0.733679</td>\n",
       "      <td>0.646963</td>\n",
       "      <td>0.425260</td>\n",
       "      <td>0.528886</td>\n",
       "    </tr>\n",
       "    <tr>\n",
       "      <th>3hpp_e</th>\n",
       "      <td>0.00000</td>\n",
       "      <td>0.000000</td>\n",
       "      <td>0.000000</td>\n",
       "      <td>-0.032113</td>\n",
       "      <td>-0.071955</td>\n",
       "      <td>-0.125552</td>\n",
       "      <td>-0.478471</td>\n",
       "      <td>-0.538206</td>\n",
       "      <td>-0.463320</td>\n",
       "      <td>-0.012481</td>\n",
       "      <td>...</td>\n",
       "      <td>-0.453518</td>\n",
       "      <td>0.109321</td>\n",
       "      <td>0.070619</td>\n",
       "      <td>0.0</td>\n",
       "      <td>-1.247424</td>\n",
       "      <td>-1.177829</td>\n",
       "      <td>-1.291246</td>\n",
       "      <td>-0.445347</td>\n",
       "      <td>-0.466815</td>\n",
       "      <td>-0.611556</td>\n",
       "    </tr>\n",
       "  </tbody>\n",
       "</table>\n",
       "<p>2 rows × 51 columns</p>\n",
       "</div>"
      ],
      "text/plain": [
       "        SF ABF93_1-R1  SF ABF93_1-R2  SF ABF93_1-R3  SF ABF93_10-R1  \\\n",
       "bDGLCe        0.96856       0.595006       1.019095        0.306643   \n",
       "3hpp_e        0.00000       0.000000       0.000000       -0.032113   \n",
       "\n",
       "        SF ABF93_10-R2  SF ABF93_10-R3  SF ABF93_11-R1  SF ABF93_11-R2  \\\n",
       "bDGLCe        0.370181        0.332601        0.286244        0.425582   \n",
       "3hpp_e       -0.071955       -0.125552       -0.478471       -0.538206   \n",
       "\n",
       "        SF ABF93_11-R3  SF ABF93_12-R1  ...  SF ABF93_6-R3  SF ABF93_7-R1  \\\n",
       "bDGLCe        0.483575        0.327102  ...       0.236882       0.061311   \n",
       "3hpp_e       -0.463320       -0.012481  ...      -0.453518       0.109321   \n",
       "\n",
       "        SF ABF93_7-R2  SF ABF93_7-R3  SF ABF93_8-R1  SF ABF93_8-R2  \\\n",
       "bDGLCe       0.077775            0.0       0.636998       0.488817   \n",
       "3hpp_e       0.070619            0.0      -1.247424      -1.177829   \n",
       "\n",
       "        SF ABF93_8-R3  SF ABF93_9-R1  SF ABF93_9-R2  SF ABF93_9-R3  \n",
       "bDGLCe       0.733679       0.646963       0.425260       0.528886  \n",
       "3hpp_e      -1.291246      -0.445347      -0.466815      -0.611556  \n",
       "\n",
       "[2 rows x 51 columns]"
      ]
     },
     "execution_count": 21,
     "metadata": {},
     "output_type": "execute_result"
    }
   ],
   "source": [
    "### External metabolites\n",
    "\n",
    "# Get external metabolites from file\n",
    "ext_met_ts = pd.read_csv(ext_met_ts_fname, index_col=0)\n",
    "ext_met_ts = ext_met_ts.loc[[m.id for m in model.metabolites if m.id in ext_met_ts.index]]"
   ]
  },
  {
   "cell_type": "code",
   "execution_count": null,
   "metadata": {},
   "outputs": [],
   "source": []
  },
  {
   "cell_type": "code",
   "execution_count": null,
   "metadata": {},
   "outputs": [],
   "source": []
  },
  {
   "cell_type": "code",
   "execution_count": null,
   "metadata": {},
   "outputs": [],
   "source": []
  },
  {
   "cell_type": "markdown",
   "metadata": {},
   "source": [
    "### 2.2. Check input file/data formats"
   ]
  },
  {
   "cell_type": "code",
   "execution_count": null,
   "metadata": {},
   "outputs": [],
   "source": [
    "# Ensure all fluxes are positive with respect to reference strain\n",
    "\n",
    "\n",
    "# Ensure all data have same line IDs\n",
    "\n",
    "\n",
    "# Ensure columns line up across data sets; error message if not\n",
    "\n",
    "\n",
    "# Ensure all rows correspond to model variables across data sets\n"
   ]
  },
  {
   "cell_type": "markdown",
   "metadata": {},
   "source": [
    "### 2.3. Calculate rates"
   ]
  },
  {
   "cell_type": "code",
   "execution_count": 2,
   "metadata": {},
   "outputs": [],
   "source": [
    "# Growth Rates\n",
    "\n",
    "# Uptake Rates\n",
    "\n",
    "# Secretion Rates\n"
   ]
  },
  {
   "cell_type": "markdown",
   "metadata": {},
   "source": [
    "### 2.4. Map data identifiers"
   ]
  },
  {
   "cell_type": "code",
   "execution_count": null,
   "metadata": {},
   "outputs": [],
   "source": [
    "# Map metabolomics data\n",
    "\n",
    "# Map proteomics data\n",
    "\n",
    "# Automated mapping: use InChi mapping where available\n",
    "\n",
    "# Semi-Manual:\n",
    "#     Metabolites: PubChem, Metacyc (metabolite translation service), MetaNetX, PNNL stuff\n",
    "#     Proteins: BBH (bidirectional best hits)\n"
   ]
  },
  {
   "cell_type": "markdown",
   "metadata": {},
   "source": [
    "### 2.5. Normalize metabolomics & proteomics data wrt reference strain ==> reference strain = 1"
   ]
  },
  {
   "cell_type": "code",
   "execution_count": null,
   "metadata": {},
   "outputs": [],
   "source": []
  },
  {
   "cell_type": "markdown",
   "metadata": {},
   "source": [
    "### 2.6. Generate Enzyme Data"
   ]
  },
  {
   "cell_type": "markdown",
   "metadata": {},
   "source": [
    "Input: Proteomics data, model, protein to enzyme-reaction map\n",
    "\n",
    "Output: enzyme to reaction map; \n",
    "\n",
    "Example: (Gene A and Gene B) or Gene C --> Enzyme Activity X\n",
    "\n",
    "Helper Function: use model to obtain protein to enzyme-reaction map (see \"get_enzyme_activity_expression()\" A.niger_MultiOmics Section 4.1)"
   ]
  },
  {
   "cell_type": "markdown",
   "metadata": {},
   "source": [
    "### 2.6. Generate eFlux Data"
   ]
  },
  {
   "cell_type": "markdown",
   "metadata": {},
   "source": [
    "Input: Proteomics data, model, growth rates, uptake rates, secretion rates\n",
    "\n",
    "Output: strain specific set of fluxes (different than enzyme activities; same shape but for reaction rate)\n",
    "\n",
    "Helper function: see [https://github.com/AgileBioFoundry/AspergillusQ4Milestone/blob/main/notebooks/Eflux4A.niger.ipynb] section \"Normalize uptake and secretion rates by glucose uptake rate of reference study line.\" where \"fluxes\" are defined\n",
    "    "
   ]
  },
  {
   "cell_type": "markdown",
   "metadata": {},
   "source": [
    "## 3. Main Process"
   ]
  },
  {
   "cell_type": "code",
   "execution_count": null,
   "metadata": {},
   "outputs": [],
   "source": [
    "# Plot heatmaps (see A.niger_MultiOmics)"
   ]
  },
  {
   "cell_type": "code",
   "execution_count": null,
   "metadata": {},
   "outputs": [],
   "source": []
  },
  {
   "cell_type": "code",
   "execution_count": null,
   "metadata": {},
   "outputs": [],
   "source": []
  },
  {
   "cell_type": "code",
   "execution_count": null,
   "metadata": {},
   "outputs": [],
   "source": []
  },
  {
   "cell_type": "code",
   "execution_count": null,
   "metadata": {},
   "outputs": [],
   "source": []
  },
  {
   "cell_type": "code",
   "execution_count": null,
   "metadata": {},
   "outputs": [],
   "source": []
  },
  {
   "cell_type": "code",
   "execution_count": null,
   "metadata": {},
   "outputs": [],
   "source": []
  },
  {
   "cell_type": "code",
   "execution_count": null,
   "metadata": {},
   "outputs": [],
   "source": []
  },
  {
   "cell_type": "code",
   "execution_count": null,
   "metadata": {},
   "outputs": [],
   "source": [
    "# Normalized Enzyme Activites\n",
    "normalized_enzyme_activities_fname = '../data/normalized_targeted_enzyme_activities.csv'\n",
    "\n",
    "\n",
    "\n",
    "\n",
    "### Define wild-type strain IDs\n",
    "wild_type = ['SF ABF93_1-R1', 'SF ABF93_1-R2','SF ABF93_1-R3']"
   ]
  },
  {
   "cell_type": "code",
   "execution_count": 1,
   "metadata": {},
   "outputs": [],
   "source": [
    "# Load Model\n",
    "model = cobra.io.load_json_model(model_fname)\n",
    "\n",
    "# Load normalized enzyme activites as a dataframe\n",
    "normalized_enzyme_activities_df = pd.read_csv(normalized_enzyme_activities_fname,index_col=0)"
   ]
  },
  {
   "cell_type": "code",
   "execution_count": null,
   "metadata": {},
   "outputs": [],
   "source": [
    "# Remove wild-type from normalized enzyme activities dataframe\n"
   ]
  }
 ],
 "metadata": {
  "kernelspec": {
   "display_name": "Python 3",
   "language": "python",
   "name": "python3"
  },
  "language_info": {
   "codemirror_mode": {
    "name": "ipython",
    "version": 3
   },
   "file_extension": ".py",
   "mimetype": "text/x-python",
   "name": "python",
   "nbconvert_exporter": "python",
   "pygments_lexer": "ipython3",
   "version": "3.8.5"
  }
 },
 "nbformat": 4,
 "nbformat_minor": 4
}
